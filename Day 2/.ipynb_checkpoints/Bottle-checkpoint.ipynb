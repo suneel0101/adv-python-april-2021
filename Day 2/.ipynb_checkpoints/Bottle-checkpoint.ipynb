{
 "cells": [
  {
   "cell_type": "markdown",
   "metadata": {},
   "source": [
    "# Bottle\n",
    "1. WSGI\n",
    "2. Create an endpoint\n",
    "3. Request routing\n",
    "4. Request data\n",
    "5. Templating\n",
    "6. Mini Lab"
   ]
  },
  {
   "cell_type": "markdown",
   "metadata": {},
   "source": [
    "## WSGI\n",
    "http://wsgi.tutorial.codepoint.net/intro"
   ]
  },
  {
   "cell_type": "code",
   "execution_count": null,
   "metadata": {},
   "outputs": [],
   "source": []
  },
  {
   "cell_type": "markdown",
   "metadata": {},
   "source": [
    "## Setup\n",
    "1. Within our env, `pip install bottle`\n",
    "2. Create a file `bottle_server.py`\n",
    "3. Copy the below into the file.\n",
    "\n",
    "```python\n",
    "from bottle import Bottle, run\n",
    "\n",
    "app = Bottle()\n",
    "\n",
    "@app.route('/hello')\n",
    "def hello():\n",
    "    return \"Hello World!\"\n",
    "\n",
    "run(app, host='localhost', port=8080)\n",
    "```"
   ]
  },
  {
   "cell_type": "markdown",
   "metadata": {},
   "source": [
    "### Let's..\n",
    "1. Try to access another URL\n",
    "2. Change the port"
   ]
  },
  {
   "cell_type": "markdown",
   "metadata": {},
   "source": [
    "## Exercise\n",
    "Create an endpoint `/recommend` that will randomly recommend a restaurant for lunch. You can store the restaurants in a list or file."
   ]
  },
  {
   "cell_type": "code",
   "execution_count": null,
   "metadata": {},
   "outputs": [],
   "source": []
  },
  {
   "cell_type": "markdown",
   "metadata": {},
   "source": [
    "## Request routing\n",
    "\n",
    "- `@app.route('/hello/<name>')`\n",
    "\n",
    "Let's implement this route."
   ]
  },
  {
   "cell_type": "code",
   "execution_count": null,
   "metadata": {},
   "outputs": [],
   "source": []
  },
  {
   "cell_type": "markdown",
   "metadata": {},
   "source": [
    "Let's see that a single route can handle multiple URL paths."
   ]
  },
  {
   "cell_type": "code",
   "execution_count": null,
   "metadata": {},
   "outputs": [],
   "source": []
  },
  {
   "cell_type": "markdown",
   "metadata": {},
   "source": [
    "## Exercise\n",
    "Create a route `/breweries/<brewery_type>/` that returns a random choice of brewery that matches that type, from Open Brewery DB."
   ]
  },
  {
   "cell_type": "code",
   "execution_count": null,
   "metadata": {},
   "outputs": [],
   "source": []
  },
  {
   "cell_type": "markdown",
   "metadata": {},
   "source": [
    "## URL Path filtering\n",
    "Suppose we have the following dictionary:\n",
    "\n",
    "```python\n",
    "USER_DB = {\n",
    "    1: {'email': 'johnny@mac.com', 'name': 'Johnny Mac'},\n",
    "    5: {'email': 'mark@fb.com', 'name': 'Mark Zuckerburg'},\n",
    "    23: {'email': 'harry@potter.com', 'name': 'Harry Potter},\n",
    "}\n",
    "```\n",
    "\n",
    "Create an endpoint `/user/<user_id>` that prints out the email and name of that user or \"no user found\" if the id doesn't exist in our db."
   ]
  },
  {
   "cell_type": "code",
   "execution_count": null,
   "metadata": {},
   "outputs": [],
   "source": []
  },
  {
   "cell_type": "markdown",
   "metadata": {},
   "source": [
    "Let's add some validation to the URL path, based on type."
   ]
  },
  {
   "cell_type": "code",
   "execution_count": null,
   "metadata": {},
   "outputs": [],
   "source": []
  },
  {
   "cell_type": "markdown",
   "metadata": {},
   "source": [
    "## Errors and Redirects\n",
    "- `abort(401, \"Sorry, access denied.\")`\n",
    "- `redirect(\"/some-other/url\")`"
   ]
  },
  {
   "cell_type": "code",
   "execution_count": null,
   "metadata": {},
   "outputs": [],
   "source": []
  },
  {
   "cell_type": "markdown",
   "metadata": {},
   "source": [
    "## Request data\n",
    "- Let's import somet things: `from bottle import route, request, response, template`\n",
    "- Let's use `pdb` and put it in the route body and introspect request.\n",
    "- Let's add a query parameter"
   ]
  },
  {
   "cell_type": "code",
   "execution_count": null,
   "metadata": {},
   "outputs": [],
   "source": []
  },
  {
   "cell_type": "markdown",
   "metadata": {},
   "source": [
    "## Templating\n",
    "\n",
    "Templating Engine docs: https://bottlepy.org/docs/dev/stpl.html\n",
    "\n",
    "- Create `hello_world.tpl`\n",
    "\n",
    "```\n",
    "%if name == 'World':\n",
    "    <h1>Hello {{name}}!</h1>\n",
    "    <p>This is a test.</p>\n",
    "%else:\n",
    "    <h1>Hello {{name.title()}}!</h1>\n",
    "    <p>How are you?</p>\n",
    "%end\n",
    "```\n",
    "\n",
    "- `return template(...)`\n",
    "- `@view('hello_world') as a short cut"
   ]
  },
  {
   "cell_type": "code",
   "execution_count": null,
   "metadata": {},
   "outputs": [],
   "source": []
  },
  {
   "cell_type": "markdown",
   "metadata": {},
   "source": [
    "## Mini Lab\n",
    "Create a route that prints out the top stories of HN in a list format, with clickable links."
   ]
  },
  {
   "cell_type": "code",
   "execution_count": null,
   "metadata": {},
   "outputs": [],
   "source": []
  }
 ],
 "metadata": {
  "kernelspec": {
   "display_name": "Python 3",
   "language": "python",
   "name": "python3"
  },
  "language_info": {
   "codemirror_mode": {
    "name": "ipython",
    "version": 3
   },
   "file_extension": ".py",
   "mimetype": "text/x-python",
   "name": "python",
   "nbconvert_exporter": "python",
   "pygments_lexer": "ipython3",
   "version": "3.8.5"
  }
 },
 "nbformat": 4,
 "nbformat_minor": 4
}
