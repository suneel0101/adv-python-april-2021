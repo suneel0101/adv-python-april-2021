{
 "cells": [
  {
   "cell_type": "markdown",
   "metadata": {},
   "source": [
    "# Databases, SQLAlchemy\n",
    "## Objective\n",
    "Build a movie recommendation service"
   ]
  },
  {
   "cell_type": "markdown",
   "metadata": {},
   "source": [
    "Install `sqlalchemy`"
   ]
  },
  {
   "cell_type": "code",
   "execution_count": 11,
   "metadata": {},
   "outputs": [
    {
     "name": "stdout",
     "output_type": "stream",
     "text": [
      "Collecting package metadata (current_repodata.json): done\n",
      "Solving environment: done\n",
      "\n",
      "## Package Plan ##\n",
      "\n",
      "  environment location: /Users/suneelchakravorty/opt/anaconda3\n",
      "\n",
      "  added / updated specs:\n",
      "    - sqlalchemy\n",
      "\n",
      "\n",
      "The following packages will be downloaded:\n",
      "\n",
      "    package                    |            build\n",
      "    ---------------------------|-----------------\n",
      "    conda-4.10.1               |   py38hecd8cb5_1         2.9 MB\n",
      "    ------------------------------------------------------------\n",
      "                                           Total:         2.9 MB\n",
      "\n",
      "The following packages will be UPDATED:\n",
      "\n",
      "  conda                                4.9.2-py38hecd8cb5_0 --> 4.10.1-py38hecd8cb5_1\n",
      "\n",
      "\n",
      "\n",
      "Downloading and Extracting Packages\n",
      "conda-4.10.1         | 2.9 MB    | ##################################### | 100% \n",
      "Preparing transaction: done\n",
      "Verifying transaction: done\n",
      "Executing transaction: done\n"
     ]
    }
   ],
   "source": [
    "!conda install -y sqlalchemy"
   ]
  },
  {
   "cell_type": "markdown",
   "metadata": {},
   "source": [
    "## Explore the Open Brewery DB documentation\n",
    "https://www.openbrewerydb.org/documentation/01-listbreweries#by_city"
   ]
  },
  {
   "cell_type": "code",
   "execution_count": null,
   "metadata": {},
   "outputs": [],
   "source": []
  },
  {
   "cell_type": "markdown",
   "metadata": {},
   "source": [
    "### Warm Up 1\n",
    "Write a method search_breweries that searches breweries by some search term."
   ]
  },
  {
   "cell_type": "code",
   "execution_count": 12,
   "metadata": {},
   "outputs": [],
   "source": [
    "import requests"
   ]
  },
  {
   "cell_type": "code",
   "execution_count": 15,
   "metadata": {},
   "outputs": [],
   "source": [
    "# requests.get('http://news.ycombinator.com').content"
   ]
  },
  {
   "cell_type": "code",
   "execution_count": 19,
   "metadata": {},
   "outputs": [],
   "source": [
    "def search_breweries(search_term):\n",
    "    url = 'https://api.openbrewerydb.org/breweries/search?query={}'.format(search_term)\n",
    "    return requests.get(url).json()"
   ]
  },
  {
   "cell_type": "code",
   "execution_count": 21,
   "metadata": {},
   "outputs": [],
   "source": [
    "records = search_breweries(\"dog\")"
   ]
  },
  {
   "cell_type": "code",
   "execution_count": 23,
   "metadata": {},
   "outputs": [
    {
     "data": {
      "text/plain": [
       "49"
      ]
     },
     "execution_count": 23,
     "metadata": {},
     "output_type": "execute_result"
    }
   ],
   "source": [
    "len(records)"
   ]
  },
  {
   "cell_type": "code",
   "execution_count": null,
   "metadata": {},
   "outputs": [],
   "source": []
  },
  {
   "cell_type": "code",
   "execution_count": null,
   "metadata": {},
   "outputs": [],
   "source": []
  },
  {
   "cell_type": "markdown",
   "metadata": {},
   "source": [
    "## Create our database"
   ]
  },
  {
   "cell_type": "code",
   "execution_count": 24,
   "metadata": {},
   "outputs": [
    {
     "data": {
      "text/plain": [
       "'1.3.20'"
      ]
     },
     "execution_count": 24,
     "metadata": {},
     "output_type": "execute_result"
    }
   ],
   "source": [
    "import sqlalchemy\n",
    "sqlalchemy.__version__"
   ]
  },
  {
   "cell_type": "code",
   "execution_count": 31,
   "metadata": {},
   "outputs": [],
   "source": [
    "from sqlalchemy import create_engine"
   ]
  },
  {
   "cell_type": "code",
   "execution_count": 34,
   "metadata": {},
   "outputs": [],
   "source": [
    "engine = create_engine('sqlite:///openbrewery.db', echo = True)"
   ]
  },
  {
   "cell_type": "markdown",
   "metadata": {},
   "source": [
    "Check if it exists."
   ]
  },
  {
   "cell_type": "code",
   "execution_count": 35,
   "metadata": {},
   "outputs": [
    {
     "name": "stdout",
     "output_type": "stream",
     "text": [
      "2021-04-21 17:43:08,859 INFO sqlalchemy.engine.base.Engine SELECT CAST('test plain returns' AS VARCHAR(60)) AS anon_1\n",
      "2021-04-21 17:43:08,860 INFO sqlalchemy.engine.base.Engine ()\n",
      "2021-04-21 17:43:08,861 INFO sqlalchemy.engine.base.Engine SELECT CAST('test unicode returns' AS VARCHAR(60)) AS anon_1\n",
      "2021-04-21 17:43:08,862 INFO sqlalchemy.engine.base.Engine ()\n"
     ]
    }
   ],
   "source": [
    "conn = engine.connect()"
   ]
  },
  {
   "cell_type": "code",
   "execution_count": 36,
   "metadata": {},
   "outputs": [],
   "source": [
    "conn.close()"
   ]
  },
  {
   "cell_type": "code",
   "execution_count": 37,
   "metadata": {},
   "outputs": [],
   "source": [
    "import os"
   ]
  },
  {
   "cell_type": "code",
   "execution_count": 38,
   "metadata": {},
   "outputs": [
    {
     "data": {
      "text/plain": [
       "['Decorators.ipynb',\n",
       " '.DS_Store',\n",
       " 'Generators.ipynb',\n",
       " 'Iterators.ipynb',\n",
       " 'Python and DBs.ipynb',\n",
       " 'Packaging.ipynb',\n",
       " 'openbrewery.db',\n",
       " 'log.txt',\n",
       " 'Metaclasses.ipynb',\n",
       " '.ipynb_checkpoints',\n",
       " 'Review key intermediate Python concepts.ipynb']"
      ]
     },
     "execution_count": 38,
     "metadata": {},
     "output_type": "execute_result"
    }
   ],
   "source": [
    "os.listdir()"
   ]
  },
  {
   "cell_type": "markdown",
   "metadata": {},
   "source": [
    "Introspect `engine`"
   ]
  },
  {
   "cell_type": "code",
   "execution_count": 39,
   "metadata": {},
   "outputs": [
    {
     "data": {
      "text/plain": [
       "['__class__',\n",
       " '__delattr__',\n",
       " '__dict__',\n",
       " '__dir__',\n",
       " '__doc__',\n",
       " '__eq__',\n",
       " '__format__',\n",
       " '__ge__',\n",
       " '__getattribute__',\n",
       " '__gt__',\n",
       " '__hash__',\n",
       " '__init__',\n",
       " '__init_subclass__',\n",
       " '__le__',\n",
       " '__lt__',\n",
       " '__module__',\n",
       " '__ne__',\n",
       " '__new__',\n",
       " '__reduce__',\n",
       " '__reduce_ex__',\n",
       " '__repr__',\n",
       " '__setattr__',\n",
       " '__sizeof__',\n",
       " '__str__',\n",
       " '__subclasshook__',\n",
       " '__weakref__',\n",
       " '_connection_cls',\n",
       " '_contextual_connect',\n",
       " '_echo',\n",
       " '_execute_clauseelement',\n",
       " '_execute_compiled',\n",
       " '_execute_default',\n",
       " '_execution_options',\n",
       " '_has_events',\n",
       " '_optional_conn_ctx_manager',\n",
       " '_run_visitor',\n",
       " '_should_log_debug',\n",
       " '_should_log_info',\n",
       " '_trans_ctx',\n",
       " '_wrap_pool_connect',\n",
       " 'begin',\n",
       " 'connect',\n",
       " 'contextual_connect',\n",
       " 'create',\n",
       " 'dialect',\n",
       " 'dispatch',\n",
       " 'dispose',\n",
       " 'driver',\n",
       " 'drop',\n",
       " 'echo',\n",
       " 'engine',\n",
       " 'execute',\n",
       " 'execution_options',\n",
       " 'get_execution_options',\n",
       " 'has_table',\n",
       " 'hide_parameters',\n",
       " 'logger',\n",
       " 'logging_name',\n",
       " 'name',\n",
       " 'pool',\n",
       " 'raw_connection',\n",
       " 'run_callable',\n",
       " 'scalar',\n",
       " 'schema_for_object',\n",
       " 'table_names',\n",
       " 'transaction',\n",
       " 'update_execution_options',\n",
       " 'url']"
      ]
     },
     "execution_count": 39,
     "metadata": {},
     "output_type": "execute_result"
    }
   ],
   "source": [
    "dir(engine)"
   ]
  },
  {
   "cell_type": "code",
   "execution_count": null,
   "metadata": {},
   "outputs": [],
   "source": []
  },
  {
   "cell_type": "markdown",
   "metadata": {},
   "source": [
    "List the table names."
   ]
  },
  {
   "cell_type": "code",
   "execution_count": 40,
   "metadata": {
    "scrolled": true
   },
   "outputs": [
    {
     "name": "stdout",
     "output_type": "stream",
     "text": [
      "2021-04-21 17:45:01,559 INFO sqlalchemy.engine.base.Engine SELECT name FROM sqlite_master WHERE type='table' ORDER BY name\n",
      "2021-04-21 17:45:01,560 INFO sqlalchemy.engine.base.Engine ()\n"
     ]
    },
    {
     "data": {
      "text/plain": [
       "[]"
      ]
     },
     "execution_count": 40,
     "metadata": {},
     "output_type": "execute_result"
    }
   ],
   "source": [
    "engine.table_names()"
   ]
  },
  {
   "cell_type": "markdown",
   "metadata": {},
   "source": [
    "## Defining a model\n",
    "Let's define the City model.\n",
    "\n",
    "[Here is a reference on data types](https://docs.sqlalchemy.org/en/14/core/type_basics.html)"
   ]
  },
  {
   "cell_type": "code",
   "execution_count": 41,
   "metadata": {},
   "outputs": [],
   "source": [
    "import datetime"
   ]
  },
  {
   "cell_type": "code",
   "execution_count": 42,
   "metadata": {},
   "outputs": [],
   "source": [
    "\n",
    "from sqlalchemy.ext.declarative import declarative_base\n",
    "from sqlalchemy import Column, Integer, String, ForeignKey, Boolean, DateTime\n",
    "\n",
    "\n",
    "Base = declarative_base()"
   ]
  },
  {
   "cell_type": "code",
   "execution_count": 43,
   "metadata": {},
   "outputs": [],
   "source": [
    "class City(Base):\n",
    "    __tablename__ = 'cities'\n",
    "\n",
    "    city_id = Column(Integer, primary_key=True)\n",
    "    name = Column(String(100))\n",
    "    date_created = Column(DateTime, default=datetime.datetime.now)\n",
    "    \n",
    "    def __repr__(self):\n",
    "        return \"{}: {}\".format(self.city_id, self.name)"
   ]
  },
  {
   "cell_type": "markdown",
   "metadata": {},
   "source": [
    "Check the tables."
   ]
  },
  {
   "cell_type": "code",
   "execution_count": 44,
   "metadata": {},
   "outputs": [
    {
     "name": "stdout",
     "output_type": "stream",
     "text": [
      "2021-04-21 17:47:45,073 INFO sqlalchemy.engine.base.Engine SELECT name FROM sqlite_master WHERE type='table' ORDER BY name\n",
      "2021-04-21 17:47:45,077 INFO sqlalchemy.engine.base.Engine ()\n"
     ]
    },
    {
     "data": {
      "text/plain": [
       "[]"
      ]
     },
     "execution_count": 44,
     "metadata": {},
     "output_type": "execute_result"
    }
   ],
   "source": [
    "engine.table_names()"
   ]
  },
  {
   "cell_type": "markdown",
   "metadata": {},
   "source": [
    "What s going on?"
   ]
  },
  {
   "cell_type": "code",
   "execution_count": 45,
   "metadata": {},
   "outputs": [
    {
     "name": "stdout",
     "output_type": "stream",
     "text": [
      "2021-04-21 17:48:11,498 INFO sqlalchemy.engine.base.Engine PRAGMA main.table_info(\"cities\")\n",
      "2021-04-21 17:48:11,499 INFO sqlalchemy.engine.base.Engine ()\n",
      "2021-04-21 17:48:11,501 INFO sqlalchemy.engine.base.Engine PRAGMA temp.table_info(\"cities\")\n",
      "2021-04-21 17:48:11,502 INFO sqlalchemy.engine.base.Engine ()\n",
      "2021-04-21 17:48:11,507 INFO sqlalchemy.engine.base.Engine \n",
      "CREATE TABLE cities (\n",
      "\tcity_id INTEGER NOT NULL, \n",
      "\tname VARCHAR(100), \n",
      "\tdate_created DATETIME, \n",
      "\tPRIMARY KEY (city_id)\n",
      ")\n",
      "\n",
      "\n",
      "2021-04-21 17:48:11,511 INFO sqlalchemy.engine.base.Engine ()\n",
      "2021-04-21 17:48:11,520 INFO sqlalchemy.engine.base.Engine COMMIT\n"
     ]
    }
   ],
   "source": [
    "Base.metadata.create_all(engine)"
   ]
  },
  {
   "cell_type": "code",
   "execution_count": 46,
   "metadata": {},
   "outputs": [
    {
     "name": "stdout",
     "output_type": "stream",
     "text": [
      "2021-04-21 17:48:12,006 INFO sqlalchemy.engine.base.Engine SELECT name FROM sqlite_master WHERE type='table' ORDER BY name\n",
      "2021-04-21 17:48:12,008 INFO sqlalchemy.engine.base.Engine ()\n"
     ]
    },
    {
     "data": {
      "text/plain": [
       "['cities']"
      ]
     },
     "execution_count": 46,
     "metadata": {},
     "output_type": "execute_result"
    }
   ],
   "source": [
    "engine.table_names()"
   ]
  },
  {
   "cell_type": "markdown",
   "metadata": {},
   "source": [
    "### Exercise\n",
    "Define the BreweryType model based on the data available and create it.\n",
    "\n",
    "- name"
   ]
  },
  {
   "cell_type": "code",
   "execution_count": 107,
   "metadata": {},
   "outputs": [],
   "source": [
    "class BreweryType(Base):\n",
    "    __tablename__ = 'brewerytypes'\n",
    "    __table_args__ = {'extend_existing': True}\n",
    "    \n",
    "    brewery_type_id = Column(Integer, primary_key=True)\n",
    "    name = Column(String(100))\n",
    "    date_created = Column(DateTime, default=datetime.datetime.now)\n",
    "    \n",
    "    def __repr__(self):\n",
    "        return \"{}: {}\".format(self.brewery_type_id, self.name)"
   ]
  },
  {
   "cell_type": "code",
   "execution_count": 51,
   "metadata": {},
   "outputs": [
    {
     "data": {
      "text/plain": [
       "MetaData(bind=None)"
      ]
     },
     "execution_count": 51,
     "metadata": {},
     "output_type": "execute_result"
    }
   ],
   "source": [
    "Base.metadata"
   ]
  },
  {
   "cell_type": "code",
   "execution_count": 49,
   "metadata": {},
   "outputs": [
    {
     "data": {
      "text/plain": [
       "immutabledict({'cities': Table('cities', MetaData(bind=None), Column('city_id', Integer(), table=<cities>, primary_key=True, nullable=False), Column('name', String(length=100), table=<cities>), Column('date_created', DateTime(), table=<cities>, default=ColumnDefault(<function datetime.now at 0x7fe0068b1d30>)), schema=None)})"
      ]
     },
     "execution_count": 49,
     "metadata": {},
     "output_type": "execute_result"
    }
   ],
   "source": [
    "Base.metadata.tables"
   ]
  },
  {
   "cell_type": "code",
   "execution_count": 52,
   "metadata": {},
   "outputs": [
    {
     "name": "stdout",
     "output_type": "stream",
     "text": [
      "2021-04-21 17:51:29,942 INFO sqlalchemy.engine.base.Engine PRAGMA main.table_info(\"cities\")\n",
      "2021-04-21 17:51:29,949 INFO sqlalchemy.engine.base.Engine ()\n",
      "2021-04-21 17:51:29,962 INFO sqlalchemy.engine.base.Engine PRAGMA main.table_info(\"brewerytypes\")\n",
      "2021-04-21 17:51:29,964 INFO sqlalchemy.engine.base.Engine ()\n",
      "2021-04-21 17:51:30,012 INFO sqlalchemy.engine.base.Engine PRAGMA temp.table_info(\"brewerytypes\")\n",
      "2021-04-21 17:51:30,022 INFO sqlalchemy.engine.base.Engine ()\n",
      "2021-04-21 17:51:30,026 INFO sqlalchemy.engine.base.Engine \n",
      "CREATE TABLE brewerytypes (\n",
      "\tbrewery_type_id INTEGER NOT NULL, \n",
      "\tname VARCHAR(100), \n",
      "\tdate_created DATETIME, \n",
      "\tPRIMARY KEY (brewery_type_id)\n",
      ")\n",
      "\n",
      "\n",
      "2021-04-21 17:51:30,027 INFO sqlalchemy.engine.base.Engine ()\n",
      "2021-04-21 17:51:30,031 INFO sqlalchemy.engine.base.Engine COMMIT\n"
     ]
    }
   ],
   "source": [
    "Base.metadata.create_all(engine)"
   ]
  },
  {
   "cell_type": "code",
   "execution_count": 53,
   "metadata": {},
   "outputs": [
    {
     "name": "stdout",
     "output_type": "stream",
     "text": [
      "2021-04-21 17:51:33,013 INFO sqlalchemy.engine.base.Engine SELECT name FROM sqlite_master WHERE type='table' ORDER BY name\n",
      "2021-04-21 17:51:33,014 INFO sqlalchemy.engine.base.Engine ()\n"
     ]
    },
    {
     "data": {
      "text/plain": [
       "['brewerytypes', 'cities']"
      ]
     },
     "execution_count": 53,
     "metadata": {},
     "output_type": "execute_result"
    }
   ],
   "source": [
    "engine.table_names()"
   ]
  },
  {
   "cell_type": "code",
   "execution_count": null,
   "metadata": {},
   "outputs": [],
   "source": []
  },
  {
   "cell_type": "markdown",
   "metadata": {},
   "source": [
    "## Creating instances and saving"
   ]
  },
  {
   "cell_type": "code",
   "execution_count": 56,
   "metadata": {},
   "outputs": [],
   "source": [
    "from sqlalchemy.orm import sessionmaker"
   ]
  },
  {
   "cell_type": "code",
   "execution_count": 57,
   "metadata": {},
   "outputs": [],
   "source": [
    "Session = sessionmaker(bind=engine)"
   ]
  },
  {
   "cell_type": "code",
   "execution_count": 58,
   "metadata": {},
   "outputs": [],
   "source": [
    "session = Session()"
   ]
  },
  {
   "cell_type": "code",
   "execution_count": 59,
   "metadata": {},
   "outputs": [],
   "source": [
    "new_city = City(name='Some city')"
   ]
  },
  {
   "cell_type": "code",
   "execution_count": 60,
   "metadata": {},
   "outputs": [],
   "source": [
    "session.add(new_city)"
   ]
  },
  {
   "cell_type": "markdown",
   "metadata": {},
   "source": [
    "ORM = object relationship/relational manager"
   ]
  },
  {
   "cell_type": "code",
   "execution_count": 61,
   "metadata": {},
   "outputs": [
    {
     "name": "stdout",
     "output_type": "stream",
     "text": [
      "2021-04-21 17:53:47,844 INFO sqlalchemy.engine.base.Engine BEGIN (implicit)\n",
      "2021-04-21 17:53:47,854 INFO sqlalchemy.engine.base.Engine INSERT INTO cities (name, date_created) VALUES (?, ?)\n",
      "2021-04-21 17:53:47,855 INFO sqlalchemy.engine.base.Engine ('Some city', '2021-04-21 17:53:47.854502')\n",
      "2021-04-21 17:53:47,867 INFO sqlalchemy.engine.base.Engine SELECT cities.city_id AS cities_city_id, cities.name AS cities_name, cities.date_created AS cities_date_created \n",
      "FROM cities\n",
      " LIMIT ? OFFSET ?\n",
      "2021-04-21 17:53:47,871 INFO sqlalchemy.engine.base.Engine (1, 0)\n"
     ]
    }
   ],
   "source": [
    "our_city = session.query(City).first()"
   ]
  },
  {
   "cell_type": "code",
   "execution_count": 62,
   "metadata": {},
   "outputs": [
    {
     "data": {
      "text/plain": [
       "'Some city'"
      ]
     },
     "execution_count": 62,
     "metadata": {},
     "output_type": "execute_result"
    }
   ],
   "source": [
    "our_city.name"
   ]
  },
  {
   "cell_type": "markdown",
   "metadata": {},
   "source": [
    "### Exercise\n",
    "Create a script to create cities for all the cities returned by a search query of \"ale\""
   ]
  },
  {
   "cell_type": "code",
   "execution_count": 63,
   "metadata": {},
   "outputs": [],
   "source": [
    "# Get the records\n",
    "\n",
    "# For each record, create a City"
   ]
  },
  {
   "cell_type": "code",
   "execution_count": 66,
   "metadata": {},
   "outputs": [],
   "source": [
    "records = search_breweries(\"green\")"
   ]
  },
  {
   "cell_type": "code",
   "execution_count": 68,
   "metadata": {},
   "outputs": [
    {
     "data": {
      "text/plain": [
       "45"
      ]
     },
     "execution_count": 68,
     "metadata": {},
     "output_type": "execute_result"
    }
   ],
   "source": [
    "len(records)"
   ]
  },
  {
   "cell_type": "code",
   "execution_count": 71,
   "metadata": {},
   "outputs": [],
   "source": [
    "for record in records:\n",
    "    session.add(City(name=record['city']))"
   ]
  },
  {
   "cell_type": "markdown",
   "metadata": {},
   "source": [
    "Let's query."
   ]
  },
  {
   "cell_type": "code",
   "execution_count": 72,
   "metadata": {},
   "outputs": [
    {
     "name": "stdout",
     "output_type": "stream",
     "text": [
      "2021-04-21 18:05:50,317 INFO sqlalchemy.engine.base.Engine INSERT INTO cities (name, date_created) VALUES (?, ?)\n",
      "2021-04-21 18:05:50,319 INFO sqlalchemy.engine.base.Engine ('Lewes', '2021-04-21 18:05:50.317850')\n",
      "2021-04-21 18:05:50,321 INFO sqlalchemy.engine.base.Engine INSERT INTO cities (name, date_created) VALUES (?, ?)\n",
      "2021-04-21 18:05:50,323 INFO sqlalchemy.engine.base.Engine ('Bowling Green', '2021-04-21 18:05:50.321613')\n",
      "2021-04-21 18:05:50,324 INFO sqlalchemy.engine.base.Engine INSERT INTO cities (name, date_created) VALUES (?, ?)\n",
      "2021-04-21 18:05:50,325 INFO sqlalchemy.engine.base.Engine ('Greensboro', '2021-04-21 18:05:50.324562')\n",
      "2021-04-21 18:05:50,326 INFO sqlalchemy.engine.base.Engine INSERT INTO cities (name, date_created) VALUES (?, ?)\n",
      "2021-04-21 18:05:50,327 INFO sqlalchemy.engine.base.Engine ('Columbia', '2021-04-21 18:05:50.326749')\n",
      "2021-04-21 18:05:50,328 INFO sqlalchemy.engine.base.Engine INSERT INTO cities (name, date_created) VALUES (?, ?)\n",
      "2021-04-21 18:05:50,330 INFO sqlalchemy.engine.base.Engine ('Silverton', '2021-04-21 18:05:50.328903')\n",
      "2021-04-21 18:05:50,331 INFO sqlalchemy.engine.base.Engine INSERT INTO cities (name, date_created) VALUES (?, ?)\n",
      "2021-04-21 18:05:50,332 INFO sqlalchemy.engine.base.Engine ('Gaithersburg', '2021-04-21 18:05:50.331432')\n",
      "2021-04-21 18:05:50,333 INFO sqlalchemy.engine.base.Engine INSERT INTO cities (name, date_created) VALUES (?, ?)\n",
      "2021-04-21 18:05:50,337 INFO sqlalchemy.engine.base.Engine ('Greensboro', '2021-04-21 18:05:50.333865')\n",
      "2021-04-21 18:05:50,339 INFO sqlalchemy.engine.base.Engine INSERT INTO cities (name, date_created) VALUES (?, ?)\n",
      "2021-04-21 18:05:50,340 INFO sqlalchemy.engine.base.Engine ('Crawfordsville', '2021-04-21 18:05:50.339537')\n",
      "2021-04-21 18:05:50,379 INFO sqlalchemy.engine.base.Engine INSERT INTO cities (name, date_created) VALUES (?, ?)\n",
      "2021-04-21 18:05:50,380 INFO sqlalchemy.engine.base.Engine ('Westport', '2021-04-21 18:05:50.379309')\n",
      "2021-04-21 18:05:50,381 INFO sqlalchemy.engine.base.Engine INSERT INTO cities (name, date_created) VALUES (?, ?)\n",
      "2021-04-21 18:05:50,382 INFO sqlalchemy.engine.base.Engine ('Morganton', '2021-04-21 18:05:50.381556')\n",
      "2021-04-21 18:05:50,384 INFO sqlalchemy.engine.base.Engine INSERT INTO cities (name, date_created) VALUES (?, ?)\n",
      "2021-04-21 18:05:50,392 INFO sqlalchemy.engine.base.Engine ('Morganton', '2021-04-21 18:05:50.384131')\n",
      "2021-04-21 18:05:50,405 INFO sqlalchemy.engine.base.Engine INSERT INTO cities (name, date_created) VALUES (?, ?)\n",
      "2021-04-21 18:05:50,421 INFO sqlalchemy.engine.base.Engine ('Olean', '2021-04-21 18:05:50.405055')\n",
      "2021-04-21 18:05:50,436 INFO sqlalchemy.engine.base.Engine INSERT INTO cities (name, date_created) VALUES (?, ?)\n",
      "2021-04-21 18:05:50,439 INFO sqlalchemy.engine.base.Engine ('Ithaca', '2021-04-21 18:05:50.436231')\n",
      "2021-04-21 18:05:50,440 INFO sqlalchemy.engine.base.Engine INSERT INTO cities (name, date_created) VALUES (?, ?)\n",
      "2021-04-21 18:05:50,444 INFO sqlalchemy.engine.base.Engine ('Huntsville', '2021-04-21 18:05:50.440909')\n",
      "2021-04-21 18:05:50,451 INFO sqlalchemy.engine.base.Engine INSERT INTO cities (name, date_created) VALUES (?, ?)\n",
      "2021-04-21 18:05:50,455 INFO sqlalchemy.engine.base.Engine ('Tucson', '2021-04-21 18:05:50.451796')\n",
      "2021-04-21 18:05:50,460 INFO sqlalchemy.engine.base.Engine INSERT INTO cities (name, date_created) VALUES (?, ?)\n",
      "2021-04-21 18:05:50,461 INFO sqlalchemy.engine.base.Engine ('Prosser', '2021-04-21 18:05:50.460405')\n",
      "2021-04-21 18:05:50,462 INFO sqlalchemy.engine.base.Engine INSERT INTO cities (name, date_created) VALUES (?, ?)\n",
      "2021-04-21 18:05:50,464 INFO sqlalchemy.engine.base.Engine ('Jacksonville Beach', '2021-04-21 18:05:50.462800')\n",
      "2021-04-21 18:05:50,466 INFO sqlalchemy.engine.base.Engine INSERT INTO cities (name, date_created) VALUES (?, ?)\n",
      "2021-04-21 18:05:50,467 INFO sqlalchemy.engine.base.Engine ('Le Claire', '2021-04-21 18:05:50.466319')\n",
      "2021-04-21 18:05:50,468 INFO sqlalchemy.engine.base.Engine INSERT INTO cities (name, date_created) VALUES (?, ?)\n",
      "2021-04-21 18:05:50,470 INFO sqlalchemy.engine.base.Engine ('Lewis Center', '2021-04-21 18:05:50.468462')\n",
      "2021-04-21 18:05:50,472 INFO sqlalchemy.engine.base.Engine INSERT INTO cities (name, date_created) VALUES (?, ?)\n",
      "2021-04-21 18:05:50,474 INFO sqlalchemy.engine.base.Engine ('Manson', '2021-04-21 18:05:50.472718')\n",
      "2021-04-21 18:05:50,477 INFO sqlalchemy.engine.base.Engine INSERT INTO cities (name, date_created) VALUES (?, ?)\n",
      "2021-04-21 18:05:50,479 INFO sqlalchemy.engine.base.Engine ('Port Saint Lucie', '2021-04-21 18:05:50.477637')\n",
      "2021-04-21 18:05:50,481 INFO sqlalchemy.engine.base.Engine INSERT INTO cities (name, date_created) VALUES (?, ?)\n",
      "2021-04-21 18:05:50,482 INFO sqlalchemy.engine.base.Engine ('Green Bay', '2021-04-21 18:05:50.481785')\n",
      "2021-04-21 18:05:50,484 INFO sqlalchemy.engine.base.Engine INSERT INTO cities (name, date_created) VALUES (?, ?)\n",
      "2021-04-21 18:05:50,486 INFO sqlalchemy.engine.base.Engine ('Green Bay', '2021-04-21 18:05:50.484372')\n",
      "2021-04-21 18:05:50,489 INFO sqlalchemy.engine.base.Engine INSERT INTO cities (name, date_created) VALUES (?, ?)\n",
      "2021-04-21 18:05:50,491 INFO sqlalchemy.engine.base.Engine ('Saint Petersburg', '2021-04-21 18:05:50.489162')\n",
      "2021-04-21 18:05:50,492 INFO sqlalchemy.engine.base.Engine INSERT INTO cities (name, date_created) VALUES (?, ?)\n",
      "2021-04-21 18:05:50,493 INFO sqlalchemy.engine.base.Engine ('Orange', '2021-04-21 18:05:50.492745')\n",
      "2021-04-21 18:05:50,496 INFO sqlalchemy.engine.base.Engine INSERT INTO cities (name, date_created) VALUES (?, ?)\n",
      "2021-04-21 18:05:50,498 INFO sqlalchemy.engine.base.Engine ('Greeley', '2021-04-21 18:05:50.496441')\n",
      "2021-04-21 18:05:50,503 INFO sqlalchemy.engine.base.Engine INSERT INTO cities (name, date_created) VALUES (?, ?)\n",
      "2021-04-21 18:05:50,506 INFO sqlalchemy.engine.base.Engine ('Lincoln', '2021-04-21 18:05:50.503395')\n",
      "2021-04-21 18:05:50,508 INFO sqlalchemy.engine.base.Engine INSERT INTO cities (name, date_created) VALUES (?, ?)\n",
      "2021-04-21 18:05:50,510 INFO sqlalchemy.engine.base.Engine ('San Diego', '2021-04-21 18:05:50.508342')\n",
      "2021-04-21 18:05:50,512 INFO sqlalchemy.engine.base.Engine INSERT INTO cities (name, date_created) VALUES (?, ?)\n",
      "2021-04-21 18:05:50,513 INFO sqlalchemy.engine.base.Engine ('Asheville', '2021-04-21 18:05:50.512137')\n",
      "2021-04-21 18:05:50,516 INFO sqlalchemy.engine.base.Engine INSERT INTO cities (name, date_created) VALUES (?, ?)\n",
      "2021-04-21 18:05:50,519 INFO sqlalchemy.engine.base.Engine ('Lakewood', '2021-04-21 18:05:50.515435')\n",
      "2021-04-21 18:05:50,520 INFO sqlalchemy.engine.base.Engine INSERT INTO cities (name, date_created) VALUES (?, ?)\n",
      "2021-04-21 18:05:50,521 INFO sqlalchemy.engine.base.Engine ('Middleburgh', '2021-04-21 18:05:50.520828')\n",
      "2021-04-21 18:05:50,523 INFO sqlalchemy.engine.base.Engine INSERT INTO cities (name, date_created) VALUES (?, ?)\n",
      "2021-04-21 18:05:50,525 INFO sqlalchemy.engine.base.Engine ('Pitman', '2021-04-21 18:05:50.523487')\n",
      "2021-04-21 18:05:50,526 INFO sqlalchemy.engine.base.Engine INSERT INTO cities (name, date_created) VALUES (?, ?)\n",
      "2021-04-21 18:05:50,527 INFO sqlalchemy.engine.base.Engine ('Green Bay', '2021-04-21 18:05:50.526463')\n",
      "2021-04-21 18:05:50,529 INFO sqlalchemy.engine.base.Engine INSERT INTO cities (name, date_created) VALUES (?, ?)\n",
      "2021-04-21 18:05:50,530 INFO sqlalchemy.engine.base.Engine ('Green Bay', '2021-04-21 18:05:50.529264')\n",
      "2021-04-21 18:05:50,532 INFO sqlalchemy.engine.base.Engine INSERT INTO cities (name, date_created) VALUES (?, ?)\n",
      "2021-04-21 18:05:50,533 INFO sqlalchemy.engine.base.Engine ('Green Bay', '2021-04-21 18:05:50.532419')\n",
      "2021-04-21 18:05:50,534 INFO sqlalchemy.engine.base.Engine INSERT INTO cities (name, date_created) VALUES (?, ?)\n",
      "2021-04-21 18:05:50,537 INFO sqlalchemy.engine.base.Engine ('Bowling Green', '2021-04-21 18:05:50.534317')\n",
      "2021-04-21 18:05:50,539 INFO sqlalchemy.engine.base.Engine INSERT INTO cities (name, date_created) VALUES (?, ?)\n",
      "2021-04-21 18:05:50,540 INFO sqlalchemy.engine.base.Engine ('Kansas City', '2021-04-21 18:05:50.539376')\n",
      "2021-04-21 18:05:50,541 INFO sqlalchemy.engine.base.Engine INSERT INTO cities (name, date_created) VALUES (?, ?)\n",
      "2021-04-21 18:05:50,542 INFO sqlalchemy.engine.base.Engine ('Green Bay', '2021-04-21 18:05:50.541596')\n"
     ]
    },
    {
     "name": "stdout",
     "output_type": "stream",
     "text": [
      "2021-04-21 18:05:50,543 INFO sqlalchemy.engine.base.Engine INSERT INTO cities (name, date_created) VALUES (?, ?)\n",
      "2021-04-21 18:05:50,544 INFO sqlalchemy.engine.base.Engine ('Green Bay', '2021-04-21 18:05:50.543448')\n",
      "2021-04-21 18:05:50,545 INFO sqlalchemy.engine.base.Engine INSERT INTO cities (name, date_created) VALUES (?, ?)\n",
      "2021-04-21 18:05:50,546 INFO sqlalchemy.engine.base.Engine ('Northport', '2021-04-21 18:05:50.545368')\n",
      "2021-04-21 18:05:50,547 INFO sqlalchemy.engine.base.Engine INSERT INTO cities (name, date_created) VALUES (?, ?)\n",
      "2021-04-21 18:05:50,549 INFO sqlalchemy.engine.base.Engine ('Green Bay', '2021-04-21 18:05:50.547869')\n",
      "2021-04-21 18:05:50,550 INFO sqlalchemy.engine.base.Engine INSERT INTO cities (name, date_created) VALUES (?, ?)\n",
      "2021-04-21 18:05:50,551 INFO sqlalchemy.engine.base.Engine ('North Conway', '2021-04-21 18:05:50.550203')\n",
      "2021-04-21 18:05:50,552 INFO sqlalchemy.engine.base.Engine INSERT INTO cities (name, date_created) VALUES (?, ?)\n",
      "2021-04-21 18:05:50,553 INFO sqlalchemy.engine.base.Engine ('Ellisville', '2021-04-21 18:05:50.552805')\n",
      "2021-04-21 18:05:50,555 INFO sqlalchemy.engine.base.Engine INSERT INTO cities (name, date_created) VALUES (?, ?)\n",
      "2021-04-21 18:05:50,556 INFO sqlalchemy.engine.base.Engine ('Greer', '2021-04-21 18:05:50.555032')\n",
      "2021-04-21 18:05:50,557 INFO sqlalchemy.engine.base.Engine INSERT INTO cities (name, date_created) VALUES (?, ?)\n",
      "2021-04-21 18:05:50,559 INFO sqlalchemy.engine.base.Engine ('Greer', '2021-04-21 18:05:50.557625')\n",
      "2021-04-21 18:05:50,561 INFO sqlalchemy.engine.base.Engine SELECT cities.city_id AS cities_city_id, cities.name AS cities_name, cities.date_created AS cities_date_created \n",
      "FROM cities\n",
      "2021-04-21 18:05:50,562 INFO sqlalchemy.engine.base.Engine ()\n"
     ]
    }
   ],
   "source": [
    "all_cities = session.query(City).all()"
   ]
  },
  {
   "cell_type": "code",
   "execution_count": 75,
   "metadata": {},
   "outputs": [
    {
     "name": "stdout",
     "output_type": "stream",
     "text": [
      "Some city\n",
      "Lewes\n",
      "Bowling Green\n",
      "Greensboro\n",
      "Columbia\n",
      "Silverton\n",
      "Gaithersburg\n",
      "Greensboro\n",
      "Crawfordsville\n",
      "Westport\n",
      "Morganton\n",
      "Morganton\n",
      "Olean\n",
      "Ithaca\n",
      "Huntsville\n",
      "Tucson\n",
      "Prosser\n",
      "Jacksonville Beach\n",
      "Le Claire\n",
      "Lewis Center\n",
      "Manson\n",
      "Port Saint Lucie\n",
      "Green Bay\n",
      "Green Bay\n",
      "Saint Petersburg\n",
      "Orange\n",
      "Greeley\n",
      "Lincoln\n",
      "San Diego\n",
      "Asheville\n",
      "Lakewood\n",
      "Middleburgh\n",
      "Pitman\n",
      "Green Bay\n",
      "Green Bay\n",
      "Green Bay\n",
      "Bowling Green\n",
      "Kansas City\n",
      "Green Bay\n",
      "Green Bay\n",
      "Northport\n",
      "Green Bay\n",
      "North Conway\n",
      "Ellisville\n",
      "Greer\n",
      "Greer\n"
     ]
    }
   ],
   "source": [
    "for city in all_cities:\n",
    "    print(city.name)"
   ]
  },
  {
   "cell_type": "markdown",
   "metadata": {},
   "source": [
    "## Querying / Filtering"
   ]
  },
  {
   "cell_type": "markdown",
   "metadata": {},
   "source": [
    "Let's get order cuisines alphabetically.\n"
   ]
  },
  {
   "cell_type": "code",
   "execution_count": 4,
   "metadata": {},
   "outputs": [],
   "source": [
    "for c in session.query(City).order_by(City.name)[:10]:\n",
    "    print(c)"
   ]
  },
  {
   "cell_type": "markdown",
   "metadata": {},
   "source": [
    "### Deduping\n",
    "A common and practical use case."
   ]
  },
  {
   "cell_type": "markdown",
   "metadata": {},
   "source": [
    "First, let's get all the distict names."
   ]
  },
  {
   "cell_type": "code",
   "execution_count": 81,
   "metadata": {},
   "outputs": [
    {
     "name": "stdout",
     "output_type": "stream",
     "text": [
      "2021-04-21 18:07:47,256 INFO sqlalchemy.engine.base.Engine SELECT DISTINCT cities.name AS cities_name \n",
      "FROM cities\n",
      "2021-04-21 18:07:47,260 INFO sqlalchemy.engine.base.Engine ()\n"
     ]
    }
   ],
   "source": [
    "distinct_names = [name for name in session.query(City.name).distinct()]"
   ]
  },
  {
   "cell_type": "code",
   "execution_count": 82,
   "metadata": {},
   "outputs": [
    {
     "data": {
      "text/plain": [
       "[('Some city'),\n",
       " ('Lewes'),\n",
       " ('Bowling Green'),\n",
       " ('Greensboro'),\n",
       " ('Columbia'),\n",
       " ('Silverton'),\n",
       " ('Gaithersburg'),\n",
       " ('Crawfordsville'),\n",
       " ('Westport'),\n",
       " ('Morganton'),\n",
       " ('Olean'),\n",
       " ('Ithaca'),\n",
       " ('Huntsville'),\n",
       " ('Tucson'),\n",
       " ('Prosser'),\n",
       " ('Jacksonville Beach'),\n",
       " ('Le Claire'),\n",
       " ('Lewis Center'),\n",
       " ('Manson'),\n",
       " ('Port Saint Lucie'),\n",
       " ('Green Bay'),\n",
       " ('Saint Petersburg'),\n",
       " ('Orange'),\n",
       " ('Greeley'),\n",
       " ('Lincoln'),\n",
       " ('San Diego'),\n",
       " ('Asheville'),\n",
       " ('Lakewood'),\n",
       " ('Middleburgh'),\n",
       " ('Pitman'),\n",
       " ('Kansas City'),\n",
       " ('Northport'),\n",
       " ('North Conway'),\n",
       " ('Ellisville'),\n",
       " ('Greer')]"
      ]
     },
     "execution_count": 82,
     "metadata": {},
     "output_type": "execute_result"
    }
   ],
   "source": [
    "distinct_names"
   ]
  },
  {
   "cell_type": "markdown",
   "metadata": {},
   "source": [
    "Let's dedupe.\n",
    "\n",
    "**Dedupe strategy**\n",
    "1. For each name, get all the records that match the name\n",
    "2. Pick one to be the survivor and delete the others."
   ]
  },
  {
   "cell_type": "markdown",
   "metadata": {},
   "source": [
    "- session.delete(obj)\n",
    "- session.query(City).filter(City.name == name)"
   ]
  },
  {
   "cell_type": "code",
   "execution_count": 93,
   "metadata": {},
   "outputs": [],
   "source": [
    "distinct_names = [rec[0] for rec in distinct_names]"
   ]
  },
  {
   "cell_type": "code",
   "execution_count": 94,
   "metadata": {},
   "outputs": [
    {
     "data": {
      "text/plain": [
       "['Some city',\n",
       " 'Lewes',\n",
       " 'Bowling Green',\n",
       " 'Greensboro',\n",
       " 'Columbia',\n",
       " 'Silverton',\n",
       " 'Gaithersburg',\n",
       " 'Crawfordsville',\n",
       " 'Westport',\n",
       " 'Morganton',\n",
       " 'Olean',\n",
       " 'Ithaca',\n",
       " 'Huntsville',\n",
       " 'Tucson',\n",
       " 'Prosser',\n",
       " 'Jacksonville Beach',\n",
       " 'Le Claire',\n",
       " 'Lewis Center',\n",
       " 'Manson',\n",
       " 'Port Saint Lucie',\n",
       " 'Green Bay',\n",
       " 'Saint Petersburg',\n",
       " 'Orange',\n",
       " 'Greeley',\n",
       " 'Lincoln',\n",
       " 'San Diego',\n",
       " 'Asheville',\n",
       " 'Lakewood',\n",
       " 'Middleburgh',\n",
       " 'Pitman',\n",
       " 'Kansas City',\n",
       " 'Northport',\n",
       " 'North Conway',\n",
       " 'Ellisville',\n",
       " 'Greer']"
      ]
     },
     "execution_count": 94,
     "metadata": {},
     "output_type": "execute_result"
    }
   ],
   "source": [
    "distinct_names"
   ]
  },
  {
   "cell_type": "code",
   "execution_count": 96,
   "metadata": {
    "scrolled": false
   },
   "outputs": [
    {
     "name": "stdout",
     "output_type": "stream",
     "text": [
      "2021-04-21 18:20:25,484 INFO sqlalchemy.engine.base.Engine SELECT count(*) AS count_1 \n",
      "FROM (SELECT cities.city_id AS cities_city_id, cities.name AS cities_name, cities.date_created AS cities_date_created \n",
      "FROM cities \n",
      "WHERE cities.name = ?) AS anon_1\n",
      "2021-04-21 18:20:25,486 INFO sqlalchemy.engine.base.Engine ('Some city',)\n",
      "2021-04-21 18:20:25,491 INFO sqlalchemy.engine.base.Engine SELECT count(*) AS count_1 \n",
      "FROM (SELECT cities.city_id AS cities_city_id, cities.name AS cities_name, cities.date_created AS cities_date_created \n",
      "FROM cities \n",
      "WHERE cities.name = ?) AS anon_1\n",
      "2021-04-21 18:20:25,492 INFO sqlalchemy.engine.base.Engine ('Lewes',)\n",
      "2021-04-21 18:20:25,502 INFO sqlalchemy.engine.base.Engine SELECT count(*) AS count_1 \n",
      "FROM (SELECT cities.city_id AS cities_city_id, cities.name AS cities_name, cities.date_created AS cities_date_created \n",
      "FROM cities \n",
      "WHERE cities.name = ?) AS anon_1\n",
      "2021-04-21 18:20:25,503 INFO sqlalchemy.engine.base.Engine ('Bowling Green',)\n",
      "2021-04-21 18:20:25,506 INFO sqlalchemy.engine.base.Engine SELECT cities.city_id AS cities_city_id, cities.name AS cities_name, cities.date_created AS cities_date_created \n",
      "FROM cities \n",
      "WHERE cities.name = ?\n",
      " LIMIT ? OFFSET ?\n",
      "2021-04-21 18:20:25,507 INFO sqlalchemy.engine.base.Engine ('Bowling Green', 1, 0)\n",
      "2021-04-21 18:20:25,508 INFO sqlalchemy.engine.base.Engine SELECT cities.city_id AS cities_city_id, cities.name AS cities_name, cities.date_created AS cities_date_created \n",
      "FROM cities \n",
      "WHERE cities.name = ?\n",
      " LIMIT ? OFFSET ?\n",
      "2021-04-21 18:20:25,510 INFO sqlalchemy.engine.base.Engine ('Bowling Green', -1, 1)\n",
      "2021-04-21 18:20:25,515 INFO sqlalchemy.engine.base.Engine DELETE FROM cities WHERE cities.city_id = ?\n",
      "2021-04-21 18:20:25,516 INFO sqlalchemy.engine.base.Engine (37,)\n",
      "2021-04-21 18:20:25,521 INFO sqlalchemy.engine.base.Engine SELECT count(*) AS count_1 \n",
      "FROM (SELECT cities.city_id AS cities_city_id, cities.name AS cities_name, cities.date_created AS cities_date_created \n",
      "FROM cities \n",
      "WHERE cities.name = ?) AS anon_1\n",
      "2021-04-21 18:20:25,521 INFO sqlalchemy.engine.base.Engine ('Greensboro',)\n",
      "2021-04-21 18:20:25,524 INFO sqlalchemy.engine.base.Engine SELECT cities.city_id AS cities_city_id, cities.name AS cities_name, cities.date_created AS cities_date_created \n",
      "FROM cities \n",
      "WHERE cities.name = ?\n",
      " LIMIT ? OFFSET ?\n",
      "2021-04-21 18:20:25,526 INFO sqlalchemy.engine.base.Engine ('Greensboro', 1, 0)\n",
      "2021-04-21 18:20:25,527 INFO sqlalchemy.engine.base.Engine SELECT cities.city_id AS cities_city_id, cities.name AS cities_name, cities.date_created AS cities_date_created \n",
      "FROM cities \n",
      "WHERE cities.name = ?\n",
      " LIMIT ? OFFSET ?\n",
      "2021-04-21 18:20:25,528 INFO sqlalchemy.engine.base.Engine ('Greensboro', -1, 1)\n",
      "2021-04-21 18:20:25,532 INFO sqlalchemy.engine.base.Engine DELETE FROM cities WHERE cities.city_id = ?\n",
      "2021-04-21 18:20:25,533 INFO sqlalchemy.engine.base.Engine (8,)\n",
      "2021-04-21 18:20:25,535 INFO sqlalchemy.engine.base.Engine SELECT count(*) AS count_1 \n",
      "FROM (SELECT cities.city_id AS cities_city_id, cities.name AS cities_name, cities.date_created AS cities_date_created \n",
      "FROM cities \n",
      "WHERE cities.name = ?) AS anon_1\n",
      "2021-04-21 18:20:25,536 INFO sqlalchemy.engine.base.Engine ('Columbia',)\n",
      "2021-04-21 18:20:25,540 INFO sqlalchemy.engine.base.Engine SELECT count(*) AS count_1 \n",
      "FROM (SELECT cities.city_id AS cities_city_id, cities.name AS cities_name, cities.date_created AS cities_date_created \n",
      "FROM cities \n",
      "WHERE cities.name = ?) AS anon_1\n",
      "2021-04-21 18:20:25,541 INFO sqlalchemy.engine.base.Engine ('Silverton',)\n",
      "2021-04-21 18:20:25,546 INFO sqlalchemy.engine.base.Engine SELECT count(*) AS count_1 \n",
      "FROM (SELECT cities.city_id AS cities_city_id, cities.name AS cities_name, cities.date_created AS cities_date_created \n",
      "FROM cities \n",
      "WHERE cities.name = ?) AS anon_1\n",
      "2021-04-21 18:20:25,547 INFO sqlalchemy.engine.base.Engine ('Gaithersburg',)\n",
      "2021-04-21 18:20:25,551 INFO sqlalchemy.engine.base.Engine SELECT count(*) AS count_1 \n",
      "FROM (SELECT cities.city_id AS cities_city_id, cities.name AS cities_name, cities.date_created AS cities_date_created \n",
      "FROM cities \n",
      "WHERE cities.name = ?) AS anon_1\n",
      "2021-04-21 18:20:25,552 INFO sqlalchemy.engine.base.Engine ('Crawfordsville',)\n",
      "2021-04-21 18:20:25,558 INFO sqlalchemy.engine.base.Engine SELECT count(*) AS count_1 \n",
      "FROM (SELECT cities.city_id AS cities_city_id, cities.name AS cities_name, cities.date_created AS cities_date_created \n",
      "FROM cities \n",
      "WHERE cities.name = ?) AS anon_1\n",
      "2021-04-21 18:20:25,561 INFO sqlalchemy.engine.base.Engine ('Westport',)\n",
      "2021-04-21 18:20:25,565 INFO sqlalchemy.engine.base.Engine SELECT count(*) AS count_1 \n",
      "FROM (SELECT cities.city_id AS cities_city_id, cities.name AS cities_name, cities.date_created AS cities_date_created \n",
      "FROM cities \n",
      "WHERE cities.name = ?) AS anon_1\n",
      "2021-04-21 18:20:25,567 INFO sqlalchemy.engine.base.Engine ('Morganton',)\n",
      "2021-04-21 18:20:25,569 INFO sqlalchemy.engine.base.Engine SELECT cities.city_id AS cities_city_id, cities.name AS cities_name, cities.date_created AS cities_date_created \n",
      "FROM cities \n",
      "WHERE cities.name = ?\n",
      " LIMIT ? OFFSET ?\n",
      "2021-04-21 18:20:25,570 INFO sqlalchemy.engine.base.Engine ('Morganton', 1, 0)\n",
      "2021-04-21 18:20:25,572 INFO sqlalchemy.engine.base.Engine SELECT cities.city_id AS cities_city_id, cities.name AS cities_name, cities.date_created AS cities_date_created \n",
      "FROM cities \n",
      "WHERE cities.name = ?\n",
      " LIMIT ? OFFSET ?\n",
      "2021-04-21 18:20:25,576 INFO sqlalchemy.engine.base.Engine ('Morganton', -1, 1)\n",
      "2021-04-21 18:20:25,580 INFO sqlalchemy.engine.base.Engine DELETE FROM cities WHERE cities.city_id = ?\n",
      "2021-04-21 18:20:25,581 INFO sqlalchemy.engine.base.Engine (12,)\n",
      "2021-04-21 18:20:25,583 INFO sqlalchemy.engine.base.Engine SELECT count(*) AS count_1 \n",
      "FROM (SELECT cities.city_id AS cities_city_id, cities.name AS cities_name, cities.date_created AS cities_date_created \n",
      "FROM cities \n",
      "WHERE cities.name = ?) AS anon_1\n",
      "2021-04-21 18:20:25,584 INFO sqlalchemy.engine.base.Engine ('Olean',)\n",
      "2021-04-21 18:20:25,587 INFO sqlalchemy.engine.base.Engine SELECT count(*) AS count_1 \n",
      "FROM (SELECT cities.city_id AS cities_city_id, cities.name AS cities_name, cities.date_created AS cities_date_created \n",
      "FROM cities \n",
      "WHERE cities.name = ?) AS anon_1\n",
      "2021-04-21 18:20:25,588 INFO sqlalchemy.engine.base.Engine ('Ithaca',)\n",
      "2021-04-21 18:20:25,593 INFO sqlalchemy.engine.base.Engine SELECT count(*) AS count_1 \n",
      "FROM (SELECT cities.city_id AS cities_city_id, cities.name AS cities_name, cities.date_created AS cities_date_created \n",
      "FROM cities \n",
      "WHERE cities.name = ?) AS anon_1\n",
      "2021-04-21 18:20:25,595 INFO sqlalchemy.engine.base.Engine ('Huntsville',)\n",
      "2021-04-21 18:20:25,602 INFO sqlalchemy.engine.base.Engine SELECT count(*) AS count_1 \n",
      "FROM (SELECT cities.city_id AS cities_city_id, cities.name AS cities_name, cities.date_created AS cities_date_created \n",
      "FROM cities \n",
      "WHERE cities.name = ?) AS anon_1\n",
      "2021-04-21 18:20:25,602 INFO sqlalchemy.engine.base.Engine ('Tucson',)\n",
      "2021-04-21 18:20:25,607 INFO sqlalchemy.engine.base.Engine SELECT count(*) AS count_1 \n",
      "FROM (SELECT cities.city_id AS cities_city_id, cities.name AS cities_name, cities.date_created AS cities_date_created \n",
      "FROM cities \n",
      "WHERE cities.name = ?) AS anon_1\n",
      "2021-04-21 18:20:25,608 INFO sqlalchemy.engine.base.Engine ('Prosser',)\n",
      "2021-04-21 18:20:25,612 INFO sqlalchemy.engine.base.Engine SELECT count(*) AS count_1 \n",
      "FROM (SELECT cities.city_id AS cities_city_id, cities.name AS cities_name, cities.date_created AS cities_date_created \n",
      "FROM cities \n",
      "WHERE cities.name = ?) AS anon_1\n",
      "2021-04-21 18:20:25,613 INFO sqlalchemy.engine.base.Engine ('Jacksonville Beach',)\n",
      "2021-04-21 18:20:25,618 INFO sqlalchemy.engine.base.Engine SELECT count(*) AS count_1 \n",
      "FROM (SELECT cities.city_id AS cities_city_id, cities.name AS cities_name, cities.date_created AS cities_date_created \n",
      "FROM cities \n",
      "WHERE cities.name = ?) AS anon_1\n",
      "2021-04-21 18:20:25,620 INFO sqlalchemy.engine.base.Engine ('Le Claire',)\n",
      "2021-04-21 18:20:25,623 INFO sqlalchemy.engine.base.Engine SELECT count(*) AS count_1 \n",
      "FROM (SELECT cities.city_id AS cities_city_id, cities.name AS cities_name, cities.date_created AS cities_date_created \n",
      "FROM cities \n",
      "WHERE cities.name = ?) AS anon_1\n",
      "2021-04-21 18:20:25,625 INFO sqlalchemy.engine.base.Engine ('Lewis Center',)\n"
     ]
    },
    {
     "name": "stdout",
     "output_type": "stream",
     "text": [
      "2021-04-21 18:20:25,629 INFO sqlalchemy.engine.base.Engine SELECT count(*) AS count_1 \n",
      "FROM (SELECT cities.city_id AS cities_city_id, cities.name AS cities_name, cities.date_created AS cities_date_created \n",
      "FROM cities \n",
      "WHERE cities.name = ?) AS anon_1\n",
      "2021-04-21 18:20:25,631 INFO sqlalchemy.engine.base.Engine ('Manson',)\n",
      "2021-04-21 18:20:25,636 INFO sqlalchemy.engine.base.Engine SELECT count(*) AS count_1 \n",
      "FROM (SELECT cities.city_id AS cities_city_id, cities.name AS cities_name, cities.date_created AS cities_date_created \n",
      "FROM cities \n",
      "WHERE cities.name = ?) AS anon_1\n",
      "2021-04-21 18:20:25,638 INFO sqlalchemy.engine.base.Engine ('Port Saint Lucie',)\n",
      "2021-04-21 18:20:25,642 INFO sqlalchemy.engine.base.Engine SELECT count(*) AS count_1 \n",
      "FROM (SELECT cities.city_id AS cities_city_id, cities.name AS cities_name, cities.date_created AS cities_date_created \n",
      "FROM cities \n",
      "WHERE cities.name = ?) AS anon_1\n",
      "2021-04-21 18:20:25,644 INFO sqlalchemy.engine.base.Engine ('Green Bay',)\n",
      "2021-04-21 18:20:25,646 INFO sqlalchemy.engine.base.Engine SELECT cities.city_id AS cities_city_id, cities.name AS cities_name, cities.date_created AS cities_date_created \n",
      "FROM cities \n",
      "WHERE cities.name = ?\n",
      " LIMIT ? OFFSET ?\n",
      "2021-04-21 18:20:25,649 INFO sqlalchemy.engine.base.Engine ('Green Bay', 1, 0)\n",
      "2021-04-21 18:20:25,656 INFO sqlalchemy.engine.base.Engine SELECT cities.city_id AS cities_city_id, cities.name AS cities_name, cities.date_created AS cities_date_created \n",
      "FROM cities \n",
      "WHERE cities.name = ?\n",
      " LIMIT ? OFFSET ?\n",
      "2021-04-21 18:20:25,658 INFO sqlalchemy.engine.base.Engine ('Green Bay', -1, 1)\n",
      "2021-04-21 18:20:25,664 INFO sqlalchemy.engine.base.Engine DELETE FROM cities WHERE cities.city_id = ?\n",
      "2021-04-21 18:20:25,665 INFO sqlalchemy.engine.base.Engine ((24,), (34,), (35,), (36,), (39,), (40,), (42,))\n",
      "2021-04-21 18:20:25,673 INFO sqlalchemy.engine.base.Engine SELECT count(*) AS count_1 \n",
      "FROM (SELECT cities.city_id AS cities_city_id, cities.name AS cities_name, cities.date_created AS cities_date_created \n",
      "FROM cities \n",
      "WHERE cities.name = ?) AS anon_1\n",
      "2021-04-21 18:20:25,677 INFO sqlalchemy.engine.base.Engine ('Saint Petersburg',)\n",
      "2021-04-21 18:20:25,682 INFO sqlalchemy.engine.base.Engine SELECT count(*) AS count_1 \n",
      "FROM (SELECT cities.city_id AS cities_city_id, cities.name AS cities_name, cities.date_created AS cities_date_created \n",
      "FROM cities \n",
      "WHERE cities.name = ?) AS anon_1\n",
      "2021-04-21 18:20:25,684 INFO sqlalchemy.engine.base.Engine ('Orange',)\n",
      "2021-04-21 18:20:25,691 INFO sqlalchemy.engine.base.Engine SELECT count(*) AS count_1 \n",
      "FROM (SELECT cities.city_id AS cities_city_id, cities.name AS cities_name, cities.date_created AS cities_date_created \n",
      "FROM cities \n",
      "WHERE cities.name = ?) AS anon_1\n",
      "2021-04-21 18:20:25,698 INFO sqlalchemy.engine.base.Engine ('Greeley',)\n",
      "2021-04-21 18:20:25,703 INFO sqlalchemy.engine.base.Engine SELECT count(*) AS count_1 \n",
      "FROM (SELECT cities.city_id AS cities_city_id, cities.name AS cities_name, cities.date_created AS cities_date_created \n",
      "FROM cities \n",
      "WHERE cities.name = ?) AS anon_1\n",
      "2021-04-21 18:20:25,705 INFO sqlalchemy.engine.base.Engine ('Lincoln',)\n",
      "2021-04-21 18:20:25,710 INFO sqlalchemy.engine.base.Engine SELECT count(*) AS count_1 \n",
      "FROM (SELECT cities.city_id AS cities_city_id, cities.name AS cities_name, cities.date_created AS cities_date_created \n",
      "FROM cities \n",
      "WHERE cities.name = ?) AS anon_1\n",
      "2021-04-21 18:20:25,712 INFO sqlalchemy.engine.base.Engine ('San Diego',)\n",
      "2021-04-21 18:20:25,717 INFO sqlalchemy.engine.base.Engine SELECT count(*) AS count_1 \n",
      "FROM (SELECT cities.city_id AS cities_city_id, cities.name AS cities_name, cities.date_created AS cities_date_created \n",
      "FROM cities \n",
      "WHERE cities.name = ?) AS anon_1\n",
      "2021-04-21 18:20:25,719 INFO sqlalchemy.engine.base.Engine ('Asheville',)\n",
      "2021-04-21 18:20:25,723 INFO sqlalchemy.engine.base.Engine SELECT count(*) AS count_1 \n",
      "FROM (SELECT cities.city_id AS cities_city_id, cities.name AS cities_name, cities.date_created AS cities_date_created \n",
      "FROM cities \n",
      "WHERE cities.name = ?) AS anon_1\n",
      "2021-04-21 18:20:25,725 INFO sqlalchemy.engine.base.Engine ('Lakewood',)\n",
      "2021-04-21 18:20:25,728 INFO sqlalchemy.engine.base.Engine SELECT count(*) AS count_1 \n",
      "FROM (SELECT cities.city_id AS cities_city_id, cities.name AS cities_name, cities.date_created AS cities_date_created \n",
      "FROM cities \n",
      "WHERE cities.name = ?) AS anon_1\n",
      "2021-04-21 18:20:25,730 INFO sqlalchemy.engine.base.Engine ('Middleburgh',)\n",
      "2021-04-21 18:20:25,737 INFO sqlalchemy.engine.base.Engine SELECT count(*) AS count_1 \n",
      "FROM (SELECT cities.city_id AS cities_city_id, cities.name AS cities_name, cities.date_created AS cities_date_created \n",
      "FROM cities \n",
      "WHERE cities.name = ?) AS anon_1\n",
      "2021-04-21 18:20:25,739 INFO sqlalchemy.engine.base.Engine ('Pitman',)\n",
      "2021-04-21 18:20:25,746 INFO sqlalchemy.engine.base.Engine SELECT count(*) AS count_1 \n",
      "FROM (SELECT cities.city_id AS cities_city_id, cities.name AS cities_name, cities.date_created AS cities_date_created \n",
      "FROM cities \n",
      "WHERE cities.name = ?) AS anon_1\n",
      "2021-04-21 18:20:25,751 INFO sqlalchemy.engine.base.Engine ('Kansas City',)\n",
      "2021-04-21 18:20:25,758 INFO sqlalchemy.engine.base.Engine SELECT count(*) AS count_1 \n",
      "FROM (SELECT cities.city_id AS cities_city_id, cities.name AS cities_name, cities.date_created AS cities_date_created \n",
      "FROM cities \n",
      "WHERE cities.name = ?) AS anon_1\n",
      "2021-04-21 18:20:25,761 INFO sqlalchemy.engine.base.Engine ('Northport',)\n",
      "2021-04-21 18:20:25,767 INFO sqlalchemy.engine.base.Engine SELECT count(*) AS count_1 \n",
      "FROM (SELECT cities.city_id AS cities_city_id, cities.name AS cities_name, cities.date_created AS cities_date_created \n",
      "FROM cities \n",
      "WHERE cities.name = ?) AS anon_1\n",
      "2021-04-21 18:20:25,770 INFO sqlalchemy.engine.base.Engine ('North Conway',)\n",
      "2021-04-21 18:20:25,776 INFO sqlalchemy.engine.base.Engine SELECT count(*) AS count_1 \n",
      "FROM (SELECT cities.city_id AS cities_city_id, cities.name AS cities_name, cities.date_created AS cities_date_created \n",
      "FROM cities \n",
      "WHERE cities.name = ?) AS anon_1\n",
      "2021-04-21 18:20:25,780 INFO sqlalchemy.engine.base.Engine ('Ellisville',)\n",
      "2021-04-21 18:20:25,785 INFO sqlalchemy.engine.base.Engine SELECT count(*) AS count_1 \n",
      "FROM (SELECT cities.city_id AS cities_city_id, cities.name AS cities_name, cities.date_created AS cities_date_created \n",
      "FROM cities \n",
      "WHERE cities.name = ?) AS anon_1\n",
      "2021-04-21 18:20:25,789 INFO sqlalchemy.engine.base.Engine ('Greer',)\n",
      "2021-04-21 18:20:25,793 INFO sqlalchemy.engine.base.Engine SELECT cities.city_id AS cities_city_id, cities.name AS cities_name, cities.date_created AS cities_date_created \n",
      "FROM cities \n",
      "WHERE cities.name = ?\n",
      " LIMIT ? OFFSET ?\n",
      "2021-04-21 18:20:25,794 INFO sqlalchemy.engine.base.Engine ('Greer', 1, 0)\n",
      "2021-04-21 18:20:25,798 INFO sqlalchemy.engine.base.Engine SELECT cities.city_id AS cities_city_id, cities.name AS cities_name, cities.date_created AS cities_date_created \n",
      "FROM cities \n",
      "WHERE cities.name = ?\n",
      " LIMIT ? OFFSET ?\n",
      "2021-04-21 18:20:25,799 INFO sqlalchemy.engine.base.Engine ('Greer', -1, 1)\n"
     ]
    }
   ],
   "source": [
    "for name in distinct_names:\n",
    "    cities = session.query(City).filter(City.name == name)\n",
    "    # If we have dupe cities\n",
    "    if cities.count() > 1:\n",
    "        # Pick a survivor\n",
    "        survivor = cities[0]\n",
    "        # The rest are dupes\n",
    "        dupes = cities[1:]\n",
    "        # Delete each dupe\n",
    "        for obj in dupes:\n",
    "            session.delete(obj)"
   ]
  },
  {
   "cell_type": "code",
   "execution_count": 97,
   "metadata": {},
   "outputs": [
    {
     "name": "stdout",
     "output_type": "stream",
     "text": [
      "2021-04-21 18:21:13,680 INFO sqlalchemy.engine.base.Engine DELETE FROM cities WHERE cities.city_id = ?\n",
      "2021-04-21 18:21:13,687 INFO sqlalchemy.engine.base.Engine (46,)\n",
      "2021-04-21 18:21:13,693 INFO sqlalchemy.engine.base.Engine SELECT cities.city_id AS cities_city_id, cities.name AS cities_name, cities.date_created AS cities_date_created \n",
      "FROM cities\n",
      "2021-04-21 18:21:13,725 INFO sqlalchemy.engine.base.Engine ()\n",
      "Some city\n",
      "Lewes\n",
      "Bowling Green\n",
      "Greensboro\n",
      "Columbia\n",
      "Silverton\n",
      "Gaithersburg\n",
      "Crawfordsville\n",
      "Westport\n",
      "Morganton\n",
      "Olean\n",
      "Ithaca\n",
      "Huntsville\n",
      "Tucson\n",
      "Prosser\n",
      "Jacksonville Beach\n",
      "Le Claire\n",
      "Lewis Center\n",
      "Manson\n",
      "Port Saint Lucie\n",
      "Green Bay\n",
      "Saint Petersburg\n",
      "Orange\n",
      "Greeley\n",
      "Lincoln\n",
      "San Diego\n",
      "Asheville\n",
      "Lakewood\n",
      "Middleburgh\n",
      "Pitman\n",
      "Kansas City\n",
      "Northport\n",
      "North Conway\n",
      "Ellisville\n",
      "Greer\n"
     ]
    }
   ],
   "source": [
    "# Validation Check\n",
    "all_cities = session.query(City).all()\n",
    "for city in all_cities:\n",
    "    print(city.name)"
   ]
  },
  {
   "cell_type": "markdown",
   "metadata": {},
   "source": [
    "Let's find which ones start with \"A\""
   ]
  },
  {
   "cell_type": "code",
   "execution_count": null,
   "metadata": {},
   "outputs": [],
   "source": []
  },
  {
   "cell_type": "code",
   "execution_count": null,
   "metadata": {},
   "outputs": [],
   "source": []
  },
  {
   "cell_type": "markdown",
   "metadata": {},
   "source": [
    "## Mini-Lab 1: Recommendations & Reviews\n",
    "Let's build a recommendation engine for users.\n",
    "\n",
    "### Step 1: Populate Brewery Types\n",
    "Look at the docs."
   ]
  },
  {
   "cell_type": "code",
   "execution_count": 100,
   "metadata": {},
   "outputs": [],
   "source": [
    "brewery_types = [\n",
    "    'micro', 'nano', 'regional', 'brewpub',\n",
    "    'large', 'planning', 'bar', 'contract',\n",
    "    'proprietor', 'closed']\n",
    "\n",
    "for brewery_type in brewery_types:\n",
    "    session.add(BreweryType(name=brewery_type))"
   ]
  },
  {
   "cell_type": "code",
   "execution_count": 108,
   "metadata": {},
   "outputs": [
    {
     "name": "stdout",
     "output_type": "stream",
     "text": [
      "2021-04-21 19:02:25,479 INFO sqlalchemy.engine.base.Engine SELECT brewerytypes.brewery_type_id AS brewerytypes_brewery_type_id, brewerytypes.name AS brewerytypes_name, brewerytypes.date_created AS brewerytypes_date_created \n",
      "FROM brewerytypes\n",
      "2021-04-21 19:02:25,482 INFO sqlalchemy.engine.base.Engine ()\n"
     ]
    },
    {
     "data": {
      "text/plain": [
       "[1: micro,\n",
       " 2: nano,\n",
       " 3: regional,\n",
       " 4: brewpub,\n",
       " 5: large,\n",
       " 6: planning,\n",
       " 7: bar,\n",
       " 8: contract,\n",
       " 9: proprietor,\n",
       " 10: closed]"
      ]
     },
     "execution_count": 108,
     "metadata": {},
     "output_type": "execute_result"
    }
   ],
   "source": [
    "session.query(BreweryType).all()"
   ]
  },
  {
   "cell_type": "markdown",
   "metadata": {},
   "source": [
    "### Step 2: Table Creation\n",
    "There are three new tables we need to create\n",
    "\n",
    "- Brewery (with the relevant fields)\n",
    "- User (with username and user_id and favorite type and their city)\n",
    "- Recommendations (which links to brewery and user)"
   ]
  },
  {
   "cell_type": "code",
   "execution_count": null,
   "metadata": {},
   "outputs": [],
   "source": []
  },
  {
   "cell_type": "markdown",
   "metadata": {},
   "source": [
    "### Step 3: Create_User\n",
    "Create a helper function that creates a user and also adds favorite_type preference\n",
    "\n",
    "```python\n",
    ">>> create_user(username='alberto', favorite_type='..', city='Boston')\n",
    "```"
   ]
  },
  {
   "cell_type": "code",
   "execution_count": null,
   "metadata": {},
   "outputs": [],
   "source": []
  },
  {
   "cell_type": "markdown",
   "metadata": {},
   "source": [
    "### Step 4: Simple matchmaking algo\n",
    "Pick 5 random breweries that match their preferences and save to the database."
   ]
  },
  {
   "cell_type": "code",
   "execution_count": null,
   "metadata": {},
   "outputs": [],
   "source": [
    "recommend_breweries_and_save_to_db(user)"
   ]
  },
  {
   "cell_type": "markdown",
   "metadata": {},
   "source": [
    "### (Optional) Step 5: Don't repeat the last 3 recommendations\n",
    "Need to query the DB in the algo."
   ]
  },
  {
   "cell_type": "code",
   "execution_count": null,
   "metadata": {},
   "outputs": [],
   "source": []
  }
 ],
 "metadata": {
  "kernelspec": {
   "display_name": "Python 3",
   "language": "python",
   "name": "python3"
  },
  "language_info": {
   "codemirror_mode": {
    "name": "ipython",
    "version": 3
   },
   "file_extension": ".py",
   "mimetype": "text/x-python",
   "name": "python",
   "nbconvert_exporter": "python",
   "pygments_lexer": "ipython3",
   "version": "3.8.5"
  }
 },
 "nbformat": 4,
 "nbformat_minor": 4
}
