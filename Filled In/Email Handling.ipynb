{
 "cells": [
  {
   "cell_type": "markdown",
   "metadata": {},
   "source": [
    "# Email Handling\n",
    "## Sign up for Sendgrid and get your API key\n",
    "https://sendgrid.com/pricing/?utm_source=docs\n",
    "\n",
    "## Set up library\n",
    "`pip install sendgrid`\n"
   ]
  },
  {
   "cell_type": "markdown",
   "metadata": {},
   "source": [
    "## Let's send an email!"
   ]
  },
  {
   "cell_type": "code",
   "execution_count": 4,
   "metadata": {},
   "outputs": [
    {
     "name": "stdout",
     "output_type": "stream",
     "text": [
      "Collecting sendgrid\n",
      "  Downloading sendgrid-6.7.0-py3-none-any.whl (77 kB)\n",
      "\u001b[K     |████████████████████████████████| 77 kB 6.7 MB/s eta 0:00:011\n",
      "\u001b[?25hCollecting python-http-client>=3.2.1\n",
      "  Downloading python_http_client-3.3.2.tar.gz (7.8 kB)\n",
      "Collecting starkbank-ecdsa>=1.0.0\n",
      "  Downloading starkbank-ecdsa-1.1.0.tar.gz (12 kB)\n",
      "Building wheels for collected packages: python-http-client, starkbank-ecdsa\n",
      "  Building wheel for python-http-client (setup.py) ... \u001b[?25ldone\n",
      "\u001b[?25h  Created wheel for python-http-client: filename=python_http_client-3.3.2-py3-none-any.whl size=8356 sha256=a9deb0b71b90745b1cc9027d9b160650e42d9dc7e6daa42dd267cccc1ff52948\n",
      "  Stored in directory: /Users/suneelchakravorty/Library/Caches/pip/wheels/44/4d/e2/5ac1ad325b9a9bc0d81de055af71696fa4f49d8a7779377605\n",
      "  Building wheel for starkbank-ecdsa (setup.py) ... \u001b[?25ldone\n",
      "\u001b[?25h  Created wheel for starkbank-ecdsa: filename=starkbank_ecdsa-1.1.0-py3-none-any.whl size=13644 sha256=3f5a2441930f826792115e027d8f85c6abfe6f4e1350cc9f4b1021d9903fc5b3\n",
      "  Stored in directory: /Users/suneelchakravorty/Library/Caches/pip/wheels/6e/24/8c/b4eb42b22a09a4975420a1d139b3860e5f320765da378e3c41\n",
      "Successfully built python-http-client starkbank-ecdsa\n",
      "Installing collected packages: python-http-client, starkbank-ecdsa, sendgrid\n",
      "Successfully installed python-http-client-3.3.2 sendgrid-6.7.0 starkbank-ecdsa-1.1.0\n"
     ]
    }
   ],
   "source": [
    "!pip install sendgrid"
   ]
  },
  {
   "cell_type": "code",
   "execution_count": 11,
   "metadata": {},
   "outputs": [],
   "source": [
    "import sendgrid\n",
    "from sendgrid.helpers.mail import *\n",
    "\n",
    "sg = sendgrid.SendGridAPIClient(\n",
    "    api_key='SG.F_j-8KvHQRSHFxXpoeopMg.q8GW_rEe4c6c6NkgJ_oeW7fLHnYlDaf2leT34sh9UC')"
   ]
  },
  {
   "cell_type": "code",
   "execution_count": 13,
   "metadata": {},
   "outputs": [
    {
     "ename": "UnauthorizedError",
     "evalue": "HTTP Error 401: Unauthorized",
     "output_type": "error",
     "traceback": [
      "\u001b[0;31m---------------------------------------------------------------------------\u001b[0m",
      "\u001b[0;31mUnauthorizedError\u001b[0m                         Traceback (most recent call last)",
      "\u001b[0;32m<ipython-input-13-dc5b90381b05>\u001b[0m in \u001b[0;36m<module>\u001b[0;34m\u001b[0m\n\u001b[1;32m      5\u001b[0m \u001b[0mcontent\u001b[0m \u001b[0;34m=\u001b[0m \u001b[0mContent\u001b[0m\u001b[0;34m(\u001b[0m\u001b[0;34m\"text/plain\"\u001b[0m\u001b[0;34m,\u001b[0m \u001b[0;34m\"and easy to do anywhere, even with Python\"\u001b[0m\u001b[0;34m)\u001b[0m\u001b[0;34m\u001b[0m\u001b[0;34m\u001b[0m\u001b[0m\n\u001b[1;32m      6\u001b[0m \u001b[0mmail\u001b[0m \u001b[0;34m=\u001b[0m \u001b[0mMail\u001b[0m\u001b[0;34m(\u001b[0m\u001b[0mfrom_email\u001b[0m\u001b[0;34m,\u001b[0m \u001b[0mto_email\u001b[0m\u001b[0;34m,\u001b[0m \u001b[0msubject\u001b[0m\u001b[0;34m,\u001b[0m \u001b[0mcontent\u001b[0m\u001b[0;34m)\u001b[0m\u001b[0;34m\u001b[0m\u001b[0;34m\u001b[0m\u001b[0m\n\u001b[0;32m----> 7\u001b[0;31m \u001b[0mresponse\u001b[0m \u001b[0;34m=\u001b[0m \u001b[0msg\u001b[0m\u001b[0;34m.\u001b[0m\u001b[0mclient\u001b[0m\u001b[0;34m.\u001b[0m\u001b[0mmail\u001b[0m\u001b[0;34m.\u001b[0m\u001b[0msend\u001b[0m\u001b[0;34m.\u001b[0m\u001b[0mpost\u001b[0m\u001b[0;34m(\u001b[0m\u001b[0mrequest_body\u001b[0m\u001b[0;34m=\u001b[0m\u001b[0mmail\u001b[0m\u001b[0;34m.\u001b[0m\u001b[0mget\u001b[0m\u001b[0;34m(\u001b[0m\u001b[0;34m)\u001b[0m\u001b[0;34m)\u001b[0m\u001b[0;34m\u001b[0m\u001b[0;34m\u001b[0m\u001b[0m\n\u001b[0m\u001b[1;32m      8\u001b[0m \u001b[0mprint\u001b[0m\u001b[0;34m(\u001b[0m\u001b[0mresponse\u001b[0m\u001b[0;34m.\u001b[0m\u001b[0mstatus_code\u001b[0m\u001b[0;34m)\u001b[0m\u001b[0;34m\u001b[0m\u001b[0;34m\u001b[0m\u001b[0m\n\u001b[1;32m      9\u001b[0m \u001b[0mprint\u001b[0m\u001b[0;34m(\u001b[0m\u001b[0mresponse\u001b[0m\u001b[0;34m.\u001b[0m\u001b[0mbody\u001b[0m\u001b[0;34m)\u001b[0m\u001b[0;34m\u001b[0m\u001b[0;34m\u001b[0m\u001b[0m\n",
      "\u001b[0;32m~/opt/anaconda3/lib/python3.8/site-packages/python_http_client/client.py\u001b[0m in \u001b[0;36mhttp_request\u001b[0;34m(request_body, query_params, request_headers, timeout, **_)\u001b[0m\n\u001b[1;32m    275\u001b[0m \u001b[0;34m\u001b[0m\u001b[0m\n\u001b[1;32m    276\u001b[0m                 response = Response(\n\u001b[0;32m--> 277\u001b[0;31m                     \u001b[0mself\u001b[0m\u001b[0;34m.\u001b[0m\u001b[0m_make_request\u001b[0m\u001b[0;34m(\u001b[0m\u001b[0mopener\u001b[0m\u001b[0;34m,\u001b[0m \u001b[0mrequest\u001b[0m\u001b[0;34m,\u001b[0m \u001b[0mtimeout\u001b[0m\u001b[0;34m=\u001b[0m\u001b[0mtimeout\u001b[0m\u001b[0;34m)\u001b[0m\u001b[0;34m\u001b[0m\u001b[0;34m\u001b[0m\u001b[0m\n\u001b[0m\u001b[1;32m    278\u001b[0m                 )\n\u001b[1;32m    279\u001b[0m \u001b[0;34m\u001b[0m\u001b[0m\n",
      "\u001b[0;32m~/opt/anaconda3/lib/python3.8/site-packages/python_http_client/client.py\u001b[0m in \u001b[0;36m_make_request\u001b[0;34m(self, opener, request, timeout)\u001b[0m\n\u001b[1;32m    182\u001b[0m                 \u001b[0mstatus\u001b[0m\u001b[0;34m=\u001b[0m\u001b[0mexc\u001b[0m\u001b[0;34m.\u001b[0m\u001b[0mstatus_code\u001b[0m\u001b[0;34m,\u001b[0m\u001b[0;34m\u001b[0m\u001b[0;34m\u001b[0m\u001b[0m\n\u001b[1;32m    183\u001b[0m                 body=exc.body))\n\u001b[0;32m--> 184\u001b[0;31m             \u001b[0;32mraise\u001b[0m \u001b[0mexc\u001b[0m\u001b[0;34m\u001b[0m\u001b[0;34m\u001b[0m\u001b[0m\n\u001b[0m\u001b[1;32m    185\u001b[0m \u001b[0;34m\u001b[0m\u001b[0m\n\u001b[1;32m    186\u001b[0m     \u001b[0;32mdef\u001b[0m \u001b[0m_\u001b[0m\u001b[0;34m(\u001b[0m\u001b[0mself\u001b[0m\u001b[0;34m,\u001b[0m \u001b[0mname\u001b[0m\u001b[0;34m)\u001b[0m\u001b[0;34m:\u001b[0m\u001b[0;34m\u001b[0m\u001b[0;34m\u001b[0m\u001b[0m\n",
      "\u001b[0;31mUnauthorizedError\u001b[0m: HTTP Error 401: Unauthorized"
     ]
    }
   ],
   "source": [
    "from_email = Email(\"suneel@revenuevitals.com\")\n",
    "to_email = To(\"suneel@revenuevitals.com\")\n",
    "subject = \"Sending with SendGrid is Fun\"\n",
    "\n",
    "content = Content(\"text/plain\", \"and easy to do anywhere, even with Python\")\n",
    "mail = Mail(from_email, to_email, subject, content)\n",
    "response = sg.client.mail.send.post(request_body=mail.get())\n",
    "print(response.status_code)\n",
    "print(response.body)\n",
    "print(response.headers)"
   ]
  },
  {
   "cell_type": "markdown",
   "metadata": {},
   "source": [
    "## Mini-Lab (Partially together)\n",
    "- Create a function that gets the top hacker news stories and emails them to a recipient.\n",
    "- Practice modularity, let's do some scaffolding together."
   ]
  },
  {
   "cell_type": "code",
   "execution_count": null,
   "metadata": {},
   "outputs": [],
   "source": []
  }
 ],
 "metadata": {
  "kernelspec": {
   "display_name": "Python 3",
   "language": "python",
   "name": "python3"
  },
  "language_info": {
   "codemirror_mode": {
    "name": "ipython",
    "version": 3
   },
   "file_extension": ".py",
   "mimetype": "text/x-python",
   "name": "python",
   "nbconvert_exporter": "python",
   "pygments_lexer": "ipython3",
   "version": "3.8.5"
  }
 },
 "nbformat": 4,
 "nbformat_minor": 4
}
