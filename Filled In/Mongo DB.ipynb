{
 "cells": [
  {
   "cell_type": "markdown",
   "metadata": {},
   "source": [
    "# Intro to Mongo\n",
    "1. SQL vs noSQL\n",
    "2. Installation\n",
    "3. Create a database\n",
    "4. Adding a document to a collection\n",
    "5. Retrieving documents from a collection\n",
    "6. Deleting a document\n",
    "7. Modifying a document\n",
    "8. Practical application"
   ]
  },
  {
   "cell_type": "markdown",
   "metadata": {},
   "source": [
    "## SQL vs noSQL\n",
    "Why? When?"
   ]
  },
  {
   "cell_type": "code",
   "execution_count": null,
   "metadata": {},
   "outputs": [],
   "source": []
  },
  {
   "cell_type": "markdown",
   "metadata": {},
   "source": [
    "## Installation\n",
    "Install mongodb\n",
    "\n",
    "### Windows\n",
    "- https://docs.mongodb.com/manual/installation/\n",
    "\n",
    "\n",
    "### OS X / linux\n",
    "Using [Homebrew ](https://brew.sh/)\n",
    "\n",
    "- `brew tap mongodb/brew`\n",
    "- `brew install mongodb-community`\n",
    "- `brew services start mongodb/brew/mongodb-community`\n",
    "\n",
    "### Pymongo\n",
    "`!conda install pymongo -y`"
   ]
  },
  {
   "cell_type": "code",
   "execution_count": 1,
   "metadata": {},
   "outputs": [
    {
     "name": "stdout",
     "output_type": "stream",
     "text": [
      "Collecting package metadata (current_repodata.json): done\n",
      "Solving environment: done\n",
      "\n",
      "## Package Plan ##\n",
      "\n",
      "  environment location: /Users/suneelchakravorty/opt/anaconda3\n",
      "\n",
      "  added / updated specs:\n",
      "    - pymongo\n",
      "\n",
      "\n",
      "The following packages will be downloaded:\n",
      "\n",
      "    package                    |            build\n",
      "    ---------------------------|-----------------\n",
      "    pymongo-3.11.3             |   py38h23ab428_0         1.2 MB\n",
      "    ------------------------------------------------------------\n",
      "                                           Total:         1.2 MB\n",
      "\n",
      "The following packages will be UPDATED:\n",
      "\n",
      "  pymongo                             3.11.2-py38h23ab428_0 --> 3.11.3-py38h23ab428_0\n",
      "\n",
      "\n",
      "\n",
      "Downloading and Extracting Packages\n",
      "pymongo-3.11.3       | 1.2 MB    | ##################################### | 100% \n",
      "Preparing transaction: done\n",
      "Verifying transaction: done\n",
      "Executing transaction: done\n"
     ]
    }
   ],
   "source": [
    "!conda install pymongo -y"
   ]
  },
  {
   "cell_type": "code",
   "execution_count": 16,
   "metadata": {},
   "outputs": [],
   "source": [
    "from pymongo import MongoClient"
   ]
  },
  {
   "cell_type": "code",
   "execution_count": 17,
   "metadata": {},
   "outputs": [],
   "source": [
    "client = MongoClient(\"mongodb://localhost:27017/\")"
   ]
  },
  {
   "cell_type": "code",
   "execution_count": 18,
   "metadata": {},
   "outputs": [
    {
     "data": {
      "text/plain": [
       "['admin', 'config', 'local']"
      ]
     },
     "execution_count": 18,
     "metadata": {},
     "output_type": "execute_result"
    }
   ],
   "source": [
    "client.list_database_names()"
   ]
  },
  {
   "cell_type": "markdown",
   "metadata": {},
   "source": [
    "## Create a database"
   ]
  },
  {
   "cell_type": "code",
   "execution_count": 21,
   "metadata": {},
   "outputs": [],
   "source": [
    "db = client[\"great_db\"]"
   ]
  },
  {
   "cell_type": "markdown",
   "metadata": {},
   "source": [
    "Check the database names again."
   ]
  },
  {
   "cell_type": "code",
   "execution_count": 23,
   "metadata": {},
   "outputs": [
    {
     "data": {
      "text/plain": [
       "['admin', 'config', 'local']"
      ]
     },
     "execution_count": 23,
     "metadata": {},
     "output_type": "execute_result"
    }
   ],
   "source": [
    "client.list_database_names()"
   ]
  },
  {
   "cell_type": "markdown",
   "metadata": {},
   "source": [
    "## Create a collection"
   ]
  },
  {
   "cell_type": "code",
   "execution_count": 24,
   "metadata": {},
   "outputs": [
    {
     "data": {
      "text/plain": [
       "[]"
      ]
     },
     "execution_count": 24,
     "metadata": {},
     "output_type": "execute_result"
    }
   ],
   "source": [
    "db.list_collection_names()"
   ]
  },
  {
   "cell_type": "code",
   "execution_count": 25,
   "metadata": {},
   "outputs": [],
   "source": [
    "recs = db[\"recommendations\"]"
   ]
  },
  {
   "cell_type": "markdown",
   "metadata": {},
   "source": [
    "Check the collections again."
   ]
  },
  {
   "cell_type": "code",
   "execution_count": 26,
   "metadata": {},
   "outputs": [
    {
     "data": {
      "text/plain": [
       "[]"
      ]
     },
     "execution_count": 26,
     "metadata": {},
     "output_type": "execute_result"
    }
   ],
   "source": [
    "db.list_collection_names()"
   ]
  },
  {
   "cell_type": "markdown",
   "metadata": {},
   "source": [
    "## Inserting a document"
   ]
  },
  {
   "cell_type": "markdown",
   "metadata": {},
   "source": [
    "Let's create a dictionary"
   ]
  },
  {
   "cell_type": "code",
   "execution_count": 27,
   "metadata": {},
   "outputs": [],
   "source": [
    "rec = {\"brewery_id\": 1415, \"name\": \"O'Brien Ale House\"}"
   ]
  },
  {
   "cell_type": "markdown",
   "metadata": {},
   "source": [
    "`insert_one`"
   ]
  },
  {
   "cell_type": "code",
   "execution_count": 28,
   "metadata": {},
   "outputs": [],
   "source": [
    "x = recs.insert_one(rec)"
   ]
  },
  {
   "cell_type": "markdown",
   "metadata": {},
   "source": [
    "`inserted_id`"
   ]
  },
  {
   "cell_type": "code",
   "execution_count": 29,
   "metadata": {},
   "outputs": [
    {
     "data": {
      "text/plain": [
       "ObjectId('60830d1b4e24523d97869d9d')"
      ]
     },
     "execution_count": 29,
     "metadata": {},
     "output_type": "execute_result"
    }
   ],
   "source": [
    "x.inserted_id"
   ]
  },
  {
   "cell_type": "markdown",
   "metadata": {},
   "source": [
    "`insert_many`"
   ]
  },
  {
   "cell_type": "code",
   "execution_count": 38,
   "metadata": {},
   "outputs": [],
   "source": [
    "to_insert = [\n",
    "    {\"brewery_id\": 1415, \"name\": \"O'Brien Ale House\"},\n",
    "    {\"brewery_id\": 1416, \"name\": \"Another Pub\"},\n",
    "    {\"brewery_id\": 1417, \"name\": \"ABC Bar\"},\n",
    "]    "
   ]
  },
  {
   "cell_type": "code",
   "execution_count": 39,
   "metadata": {},
   "outputs": [],
   "source": [
    "y = recs.insert_many(to_insert)"
   ]
  },
  {
   "cell_type": "markdown",
   "metadata": {},
   "source": [
    "`inserted_ids`"
   ]
  },
  {
   "cell_type": "code",
   "execution_count": 40,
   "metadata": {},
   "outputs": [
    {
     "data": {
      "text/plain": [
       "[ObjectId('60830d8d4e24523d97869d9e'),\n",
       " ObjectId('60830d8d4e24523d97869d9f'),\n",
       " ObjectId('60830d8d4e24523d97869da0')]"
      ]
     },
     "execution_count": 40,
     "metadata": {},
     "output_type": "execute_result"
    }
   ],
   "source": [
    "y.inserted_ids"
   ]
  },
  {
   "cell_type": "markdown",
   "metadata": {},
   "source": [
    "### What happens when...\n",
    "- You specify the `_id`?\n",
    "- What if it matches an existing `_id`?"
   ]
  },
  {
   "cell_type": "code",
   "execution_count": null,
   "metadata": {},
   "outputs": [],
   "source": []
  },
  {
   "cell_type": "markdown",
   "metadata": {},
   "source": [
    "## Data Retrieval"
   ]
  },
  {
   "cell_type": "code",
   "execution_count": 41,
   "metadata": {},
   "outputs": [],
   "source": [
    "result = recs.find_one()"
   ]
  },
  {
   "cell_type": "markdown",
   "metadata": {},
   "source": [
    "`find_one`"
   ]
  },
  {
   "cell_type": "code",
   "execution_count": 42,
   "metadata": {},
   "outputs": [
    {
     "data": {
      "text/plain": [
       "{'_id': ObjectId('60830d1b4e24523d97869d9d'),\n",
       " 'brewery_id': 1415,\n",
       " 'name': \"O'Brien Ale House\"}"
      ]
     },
     "execution_count": 42,
     "metadata": {},
     "output_type": "execute_result"
    }
   ],
   "source": [
    "result"
   ]
  },
  {
   "cell_type": "markdown",
   "metadata": {},
   "source": [
    "`find`"
   ]
  },
  {
   "cell_type": "code",
   "execution_count": 43,
   "metadata": {},
   "outputs": [
    {
     "name": "stdout",
     "output_type": "stream",
     "text": [
      "{'_id': ObjectId('60830d1b4e24523d97869d9d'), 'brewery_id': 1415, 'name': \"O'Brien Ale House\"}\n",
      "{'_id': ObjectId('60830d8d4e24523d97869d9e'), 'brewery_id': 1415, 'name': \"O'Brien Ale House\"}\n",
      "{'_id': ObjectId('60830d8d4e24523d97869d9f'), 'brewery_id': 1416, 'name': 'Another Pub'}\n",
      "{'_id': ObjectId('60830d8d4e24523d97869da0'), 'brewery_id': 1417, 'name': 'ABC Bar'}\n"
     ]
    }
   ],
   "source": [
    "results = recs.find()\n",
    "for result in results:\n",
    "    print(result)"
   ]
  },
  {
   "cell_type": "markdown",
   "metadata": {},
   "source": [
    "`{}, {\"name\": 0}`"
   ]
  },
  {
   "cell_type": "code",
   "execution_count": 44,
   "metadata": {},
   "outputs": [
    {
     "name": "stdout",
     "output_type": "stream",
     "text": [
      "{'_id': ObjectId('60830d1b4e24523d97869d9d'), 'name': \"O'Brien Ale House\"}\n",
      "{'_id': ObjectId('60830d8d4e24523d97869d9e'), 'name': \"O'Brien Ale House\"}\n",
      "{'_id': ObjectId('60830d8d4e24523d97869d9f'), 'name': 'Another Pub'}\n",
      "{'_id': ObjectId('60830d8d4e24523d97869da0'), 'name': 'ABC Bar'}\n"
     ]
    }
   ],
   "source": [
    "results = recs.find({}, {\"name\": 1})\n",
    "for result in results:\n",
    "    print(result)"
   ]
  },
  {
   "cell_type": "markdown",
   "metadata": {},
   "source": [
    "Combining 0s and 1s?"
   ]
  },
  {
   "cell_type": "code",
   "execution_count": null,
   "metadata": {},
   "outputs": [],
   "source": []
  },
  {
   "cell_type": "markdown",
   "metadata": {},
   "source": [
    "## Querying\n",
    "Equality"
   ]
  },
  {
   "cell_type": "code",
   "execution_count": 47,
   "metadata": {},
   "outputs": [
    {
     "data": {
      "text/plain": [
       "{'_id': ObjectId('60830d8d4e24523d97869da0'),\n",
       " 'brewery_id': 1417,\n",
       " 'name': 'ABC Bar'}"
      ]
     },
     "execution_count": 47,
     "metadata": {},
     "output_type": "execute_result"
    }
   ],
   "source": [
    "recs.find_one({\"name\": \"ABC Bar\"})"
   ]
  },
  {
   "cell_type": "code",
   "execution_count": 50,
   "metadata": {},
   "outputs": [
    {
     "name": "stdout",
     "output_type": "stream",
     "text": [
      "{'_id': ObjectId('60830d1b4e24523d97869d9d'), 'brewery_id': 1415, 'name': \"O'Brien Ale House\"}\n",
      "{'_id': ObjectId('60830d8d4e24523d97869d9e'), 'brewery_id': 1415, 'name': \"O'Brien Ale House\"}\n"
     ]
    }
   ],
   "source": [
    "res = recs.find({\"name\": {\"$gt\": \"O\"}})\n",
    "for r in res:\n",
    "    print(r)"
   ]
  },
  {
   "cell_type": "markdown",
   "metadata": {},
   "source": [
    "Starts with\n",
    "\n",
    "`{ \"$gt\": \"S\"}`"
   ]
  },
  {
   "cell_type": "code",
   "execution_count": null,
   "metadata": {},
   "outputs": [],
   "source": []
  },
  {
   "cell_type": "markdown",
   "metadata": {},
   "source": [
    "Regex"
   ]
  },
  {
   "cell_type": "code",
   "execution_count": null,
   "metadata": {},
   "outputs": [],
   "source": []
  },
  {
   "cell_type": "markdown",
   "metadata": {},
   "source": [
    "`count_documents`"
   ]
  },
  {
   "cell_type": "code",
   "execution_count": 52,
   "metadata": {},
   "outputs": [
    {
     "data": {
      "text/plain": [
       "2"
      ]
     },
     "execution_count": 52,
     "metadata": {},
     "output_type": "execute_result"
    }
   ],
   "source": [
    "recs.count_documents({\"name\": {\"$gt\": \"O\"}})"
   ]
  },
  {
   "cell_type": "markdown",
   "metadata": {},
   "source": [
    "`.sort()`\n",
    "\n",
    "- -1\n",
    "- 1"
   ]
  },
  {
   "cell_type": "code",
   "execution_count": 58,
   "metadata": {},
   "outputs": [
    {
     "name": "stdout",
     "output_type": "stream",
     "text": [
      "{'_id': ObjectId('60830d8d4e24523d97869da0'), 'brewery_id': 1417, 'name': 'ABC Bar'}\n",
      "{'_id': ObjectId('60830d8d4e24523d97869d9f'), 'brewery_id': 1416, 'name': 'Another Pub'}\n",
      "{'_id': ObjectId('60830d1b4e24523d97869d9d'), 'brewery_id': 1415, 'name': \"O'Brien Ale House\"}\n",
      "{'_id': ObjectId('60830d8d4e24523d97869d9e'), 'brewery_id': 1415, 'name': \"O'Brien Ale House\"}\n"
     ]
    }
   ],
   "source": [
    "for r in recs.find().sort(\"name\", 1):\n",
    "    print(r)"
   ]
  },
  {
   "cell_type": "markdown",
   "metadata": {},
   "source": [
    "## Delete "
   ]
  },
  {
   "cell_type": "code",
   "execution_count": 70,
   "metadata": {},
   "outputs": [],
   "source": [
    "x = recs.delete_one({\"brewery_id\": 1415})"
   ]
  },
  {
   "cell_type": "markdown",
   "metadata": {},
   "source": [
    "`delete_one`"
   ]
  },
  {
   "cell_type": "code",
   "execution_count": 71,
   "metadata": {},
   "outputs": [
    {
     "data": {
      "text/plain": [
       "{'n': 1, 'ok': 1.0}"
      ]
     },
     "execution_count": 71,
     "metadata": {},
     "output_type": "execute_result"
    }
   ],
   "source": [
    "x.raw_result"
   ]
  },
  {
   "cell_type": "code",
   "execution_count": 72,
   "metadata": {},
   "outputs": [
    {
     "data": {
      "text/plain": [
       "1"
      ]
     },
     "execution_count": 72,
     "metadata": {},
     "output_type": "execute_result"
    }
   ],
   "source": [
    "x.deleted_count"
   ]
  },
  {
   "cell_type": "markdown",
   "metadata": {},
   "source": [
    "`delete_many`"
   ]
  },
  {
   "cell_type": "code",
   "execution_count": null,
   "metadata": {},
   "outputs": [],
   "source": []
  },
  {
   "cell_type": "markdown",
   "metadata": {},
   "source": [
    "## Update"
   ]
  },
  {
   "cell_type": "code",
   "execution_count": 85,
   "metadata": {},
   "outputs": [
    {
     "data": {
      "text/plain": [
       "<pymongo.results.UpdateResult at 0x7ff2cd1db0c0>"
      ]
     },
     "execution_count": 85,
     "metadata": {},
     "output_type": "execute_result"
    }
   ],
   "source": [
    "recs.update_one({\"name\": \"ABC Bar\"}, {'$set': {'name': 'ABCD Bar'}})"
   ]
  },
  {
   "cell_type": "code",
   "execution_count": null,
   "metadata": {},
   "outputs": [],
   "source": []
  },
  {
   "cell_type": "markdown",
   "metadata": {},
   "source": [
    "`.update_one(query, new_values_dict)`"
   ]
  },
  {
   "cell_type": "code",
   "execution_count": null,
   "metadata": {},
   "outputs": [],
   "source": []
  },
  {
   "cell_type": "markdown",
   "metadata": {},
   "source": [
    "`.update_many`"
   ]
  },
  {
   "cell_type": "code",
   "execution_count": null,
   "metadata": {},
   "outputs": [],
   "source": []
  },
  {
   "cell_type": "markdown",
   "metadata": {},
   "source": [
    "`.drop()`"
   ]
  },
  {
   "cell_type": "code",
   "execution_count": 77,
   "metadata": {},
   "outputs": [
    {
     "data": {
      "text/plain": [
       "['recommendations']"
      ]
     },
     "execution_count": 77,
     "metadata": {},
     "output_type": "execute_result"
    }
   ],
   "source": [
    "db.list_collection_names()"
   ]
  },
  {
   "cell_type": "code",
   "execution_count": 79,
   "metadata": {},
   "outputs": [
    {
     "data": {
      "text/plain": [
       "['admin', 'config', 'great_db', 'local']"
      ]
     },
     "execution_count": 79,
     "metadata": {},
     "output_type": "execute_result"
    }
   ],
   "source": [
    "client.list_database_names()"
   ]
  },
  {
   "cell_type": "code",
   "execution_count": 81,
   "metadata": {},
   "outputs": [],
   "source": [
    "recs.drop()"
   ]
  },
  {
   "cell_type": "code",
   "execution_count": 82,
   "metadata": {},
   "outputs": [
    {
     "data": {
      "text/plain": [
       "[]"
      ]
     },
     "execution_count": 82,
     "metadata": {},
     "output_type": "execute_result"
    }
   ],
   "source": [
    "db.list_collection_names()"
   ]
  },
  {
   "cell_type": "markdown",
   "metadata": {},
   "source": [
    "# Mini-Lab\n",
    "MongoDB is great for data does not easily conform to a tabular, SQL-esque structure. For example documents, or highly variable JSON.\n",
    "\n",
    "Also, if there is a bunch of nested data that we don't care to query on but want to store and access in some form.\n",
    "\n",
    "Let's go through such a case."
   ]
  },
  {
   "cell_type": "code",
   "execution_count": null,
   "metadata": {},
   "outputs": [],
   "source": []
  },
  {
   "cell_type": "markdown",
   "metadata": {},
   "source": [
    "### Part 1: MongoDB as Cache datastore\n",
    "Create a function `smart_request` that will first check if we have made that request by searching in Mongo by the target URL and then if not make the request and save the result in Mongo. If it's already there, then return it.\n",
    "\n",
    "You'll need to create a collection for this."
   ]
  },
  {
   "cell_type": "code",
   "execution_count": 94,
   "metadata": {},
   "outputs": [],
   "source": [
    "import requests \n",
    "\n",
    "caches = db['caches']\n",
    "\n",
    "def smart_request(url):\n",
    "    res = caches.find_one({\"url\": url})\n",
    "    if not res:\n",
    "        response = requests.get(url)\n",
    "        data = response.json()\n",
    "        result = {\"url\": url, \"data\": data}\n",
    "        caches.insert_one(result)\n",
    "        return data\n",
    "    print(\"Fetching from cache...\")\n",
    "    return res[\"data\"]"
   ]
  },
  {
   "cell_type": "code",
   "execution_count": 90,
   "metadata": {},
   "outputs": [],
   "source": [
    "test_url = \"https://hacker-news.firebaseio.com/v0/item/8863.json?print=pretty\""
   ]
  },
  {
   "cell_type": "code",
   "execution_count": 120,
   "metadata": {},
   "outputs": [
    {
     "name": "stdout",
     "output_type": "stream",
     "text": [
      "{'_id': ObjectId('6083155b4e24523d97869da1'), 'url': 'https://hacker-news.firebaseio.com/v0/item/8863.json?print=pretty', 'data': {'by': 'dhouston', 'descendants': 71, 'id': 8863, 'kids': [9224, 8917, 8952, 8958, 8884, 8887, 8869, 8940, 8908, 9005, 8873, 9671, 9067, 9055, 8865, 8881, 8872, 8955, 10403, 8903, 8928, 9125, 8998, 8901, 8902, 8907, 8894, 8870, 8878, 8980, 8934, 8943, 8876], 'score': 104, 'time': 1175714200, 'title': 'My YC app: Dropbox - Throw away your USB drive', 'type': 'story', 'url': 'http://www.getdropbox.com/u/2/screencast.html'}}\n",
      "\n",
      "{'_id': ObjectId('60832ccd4e24523d97869da2'), 'date_modified': datetime.datetime(2021, 4, 23, 16, 23, 41, 992000)}\n",
      "\n",
      "{'_id': ObjectId('60832e094e24523d97869da5'), 'url': 'https://hacker-news.firebaseio.com/v0/item/8864.json?print=pretty', 'data': {'by': 'yaacovtp', 'id': 8864, 'parent': 8700, 'text': \"New restaurants need anonymous and confidential reviews more than web 2.0 startups do. Aren't 1000's of blogs already writing about the latest web startup?\", 'time': 1175714547, 'type': 'comment'}, 'date_modified': datetime.datetime(2021, 4, 23, 16, 28, 56, 352000)}\n",
      "\n"
     ]
    }
   ],
   "source": [
    "for rec in caches.find():\n",
    "    print(rec)\n",
    "    print()"
   ]
  },
  {
   "cell_type": "code",
   "execution_count": 95,
   "metadata": {},
   "outputs": [
    {
     "name": "stdout",
     "output_type": "stream",
     "text": [
      "Fetching from cache...\n"
     ]
    },
    {
     "data": {
      "text/plain": [
       "{'by': 'dhouston',\n",
       " 'descendants': 71,\n",
       " 'id': 8863,\n",
       " 'kids': [9224,\n",
       "  8917,\n",
       "  8952,\n",
       "  8958,\n",
       "  8884,\n",
       "  8887,\n",
       "  8869,\n",
       "  8940,\n",
       "  8908,\n",
       "  9005,\n",
       "  8873,\n",
       "  9671,\n",
       "  9067,\n",
       "  9055,\n",
       "  8865,\n",
       "  8881,\n",
       "  8872,\n",
       "  8955,\n",
       "  10403,\n",
       "  8903,\n",
       "  8928,\n",
       "  9125,\n",
       "  8998,\n",
       "  8901,\n",
       "  8902,\n",
       "  8907,\n",
       "  8894,\n",
       "  8870,\n",
       "  8878,\n",
       "  8980,\n",
       "  8934,\n",
       "  8943,\n",
       "  8876],\n",
       " 'score': 104,\n",
       " 'time': 1175714200,\n",
       " 'title': 'My YC app: Dropbox - Throw away your USB drive',\n",
       " 'type': 'story',\n",
       " 'url': 'http://www.getdropbox.com/u/2/screencast.html'}"
      ]
     },
     "execution_count": 95,
     "metadata": {},
     "output_type": "execute_result"
    }
   ],
   "source": [
    "smart_request(test_url)"
   ]
  },
  {
   "cell_type": "markdown",
   "metadata": {},
   "source": [
    "### Part 2: Invalidate cache if it has been more than a day\n",
    "Modify the above function to check WHEN the record was last modified (HINT: you will need to track this date now) and if a day has transpired, then make the request and update it.\n",
    "\n",
    "You can manually alter the last modified date to a much older date in order to check that your function works."
   ]
  },
  {
   "cell_type": "code",
   "execution_count": 96,
   "metadata": {},
   "outputs": [],
   "source": [
    "import datetime"
   ]
  },
  {
   "cell_type": "code",
   "execution_count": 116,
   "metadata": {},
   "outputs": [],
   "source": [
    "current_date = datetime.datetime.now()\n",
    "\n",
    "def is_within(current_date, target_date, hours=24):\n",
    "    diff_hours = (current_date - target_date).total_seconds() / (60 * 60)\n",
    "    return diff_hours <= hours\n",
    "\n",
    "\n",
    "import requests \n",
    "\n",
    "caches = db['caches']\n",
    "\n",
    "def smart_request(url):\n",
    "    res = caches.find_one({\"url\": url})\n",
    "    now = datetime.datetime.now()\n",
    "\n",
    "    is_expired = res and res.get('date_modified') and is_within(now, res.get('date_modified'), hours=1/60)\n",
    "    if is_expired:\n",
    "        caches.delete_one({\"url\": url})\n",
    "\n",
    "    # If not in the cache or cache is out of date\n",
    "    if not res or is_expired:\n",
    "        response = requests.get(url)\n",
    "        data = response.json()\n",
    "        result = {\"url\": url, \"data\": data, \"date_modified\": now}\n",
    "        caches.insert_one(result)\n",
    "        return data\n",
    "\n",
    "    print(\"Fetching from cache...\")\n",
    "    return res[\"data\"]"
   ]
  },
  {
   "cell_type": "code",
   "execution_count": 117,
   "metadata": {},
   "outputs": [],
   "source": [
    "test_url = \"https://hacker-news.firebaseio.com/v0/item/8864.json?print=pretty\"\n",
    "res = smart_request(test_url)"
   ]
  },
  {
   "cell_type": "code",
   "execution_count": 118,
   "metadata": {},
   "outputs": [
    {
     "data": {
      "text/plain": [
       "{'by': 'yaacovtp',\n",
       " 'id': 8864,\n",
       " 'parent': 8700,\n",
       " 'text': \"New restaurants need anonymous and confidential reviews more than web 2.0 startups do. Aren't 1000's of blogs already writing about the latest web startup?\",\n",
       " 'time': 1175714547,\n",
       " 'type': 'comment'}"
      ]
     },
     "execution_count": 118,
     "metadata": {},
     "output_type": "execute_result"
    }
   ],
   "source": [
    "res"
   ]
  },
  {
   "cell_type": "code",
   "execution_count": 119,
   "metadata": {},
   "outputs": [
    {
     "data": {
      "text/plain": [
       "{'_id': ObjectId('60832e094e24523d97869da5'),\n",
       " 'url': 'https://hacker-news.firebaseio.com/v0/item/8864.json?print=pretty',\n",
       " 'data': {'by': 'yaacovtp',\n",
       "  'id': 8864,\n",
       "  'parent': 8700,\n",
       "  'text': \"New restaurants need anonymous and confidential reviews more than web 2.0 startups do. Aren't 1000's of blogs already writing about the latest web startup?\",\n",
       "  'time': 1175714547,\n",
       "  'type': 'comment'},\n",
       " 'date_modified': datetime.datetime(2021, 4, 23, 16, 28, 56, 352000)}"
      ]
     },
     "execution_count": 119,
     "metadata": {},
     "output_type": "execute_result"
    }
   ],
   "source": [
    "caches.find_one({\"url\": test_url})"
   ]
  },
  {
   "cell_type": "code",
   "execution_count": null,
   "metadata": {},
   "outputs": [],
   "source": [
    "'date_modified': datetime.datetime(2021, 4, 23, 16, 28, 2, 654000)}"
   ]
  },
  {
   "cell_type": "markdown",
   "metadata": {},
   "source": [
    "### Part 3: Populate our DB with HN API\n",
    "Write code to hit the HN API and populate an Authors collection, based on the top stories."
   ]
  },
  {
   "cell_type": "code",
   "execution_count": null,
   "metadata": {},
   "outputs": [],
   "source": []
  },
  {
   "cell_type": "markdown",
   "metadata": {},
   "source": [
    "### Part 4: API Endpoint\n",
    "Write a Bottle API endpoint that returns the top 5 highest ranked authors, as far as karma points, from our dataset."
   ]
  },
  {
   "cell_type": "code",
   "execution_count": null,
   "metadata": {},
   "outputs": [],
   "source": []
  }
 ],
 "metadata": {
  "kernelspec": {
   "display_name": "Python 3",
   "language": "python",
   "name": "python3"
  },
  "language_info": {
   "codemirror_mode": {
    "name": "ipython",
    "version": 3
   },
   "file_extension": ".py",
   "mimetype": "text/x-python",
   "name": "python",
   "nbconvert_exporter": "python",
   "pygments_lexer": "ipython3",
   "version": "3.8.5"
  }
 },
 "nbformat": 4,
 "nbformat_minor": 4
}
