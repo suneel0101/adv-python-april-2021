{
 "cells": [
  {
   "cell_type": "markdown",
   "metadata": {},
   "source": [
    "# Review Key Intermediate Python Concepts\n",
    "1. List comprehensions\n",
    "2. Lambda functions\n",
    "3. `*args` and `**kwargs`\n",
    "4. Decorators\n",
    "5. Operator overloading\n",
    "6. Mini-Lab"
   ]
  },
  {
   "cell_type": "markdown",
   "metadata": {},
   "source": [
    "## For loops and list comprehensions"
   ]
  },
  {
   "cell_type": "code",
   "execution_count": 3,
   "metadata": {},
   "outputs": [],
   "source": [
    "results = []\n",
    "for book in ['Harry Potter', 'War and Peace', 'Power of Habit']:\n",
    "    if 'Harry' not in book:\n",
    "        results.append(book)    "
   ]
  },
  {
   "cell_type": "code",
   "execution_count": null,
   "metadata": {},
   "outputs": [],
   "source": []
  },
  {
   "cell_type": "markdown",
   "metadata": {},
   "source": [
    "Let's do it in a list comprehension way."
   ]
  },
  {
   "cell_type": "code",
   "execution_count": null,
   "metadata": {},
   "outputs": [],
   "source": []
  },
  {
   "cell_type": "markdown",
   "metadata": {},
   "source": [
    "### Exercise\n",
    "1. Using a list comprehension, construct a list of all the odd numbers from 1 to 1000.\n",
    "2. Using a list comprehension, construct a list of the squares of the odd numbers from 1 to 1000."
   ]
  },
  {
   "cell_type": "code",
   "execution_count": null,
   "metadata": {},
   "outputs": [],
   "source": []
  },
  {
   "cell_type": "markdown",
   "metadata": {},
   "source": [
    "### Exercise\n",
    "Translate the following into a comprehension.\n",
    "\n",
    "```python\n",
    "values = []\n",
    "for x in range(10):\n",
    "    inner = []\n",
    "    for y in range(x):\n",
    "        inner.append(y*3)\n",
    "    values.append(inner)\n",
    "```"
   ]
  },
  {
   "cell_type": "code",
   "execution_count": null,
   "metadata": {},
   "outputs": [],
   "source": []
  },
  {
   "cell_type": "markdown",
   "metadata": {},
   "source": [
    "## `lambda` functions"
   ]
  },
  {
   "cell_type": "code",
   "execution_count": 5,
   "metadata": {},
   "outputs": [
    {
     "data": {
      "text/plain": [
       "5"
      ]
     },
     "execution_count": 5,
     "metadata": {},
     "output_type": "execute_result"
    }
   ],
   "source": [
    "(lambda x: x + 2)(3)"
   ]
  },
  {
   "cell_type": "code",
   "execution_count": null,
   "metadata": {},
   "outputs": [],
   "source": []
  },
  {
   "cell_type": "markdown",
   "metadata": {},
   "source": [
    "Create a lambda function that just returns index=1 of a two-item list."
   ]
  },
  {
   "cell_type": "code",
   "execution_count": null,
   "metadata": {},
   "outputs": [],
   "source": []
  },
  {
   "cell_type": "code",
   "execution_count": 7,
   "metadata": {},
   "outputs": [],
   "source": [
    "records = [['Usual Suspects', 8.5], ['The Matrix', 7.2], ['Good Will Hunting', 9.6], ['Pee-wee Herman', 5.2]]"
   ]
  },
  {
   "cell_type": "code",
   "execution_count": null,
   "metadata": {},
   "outputs": [],
   "source": []
  },
  {
   "cell_type": "markdown",
   "metadata": {},
   "source": [
    "### Exercise\n",
    "1. Sort the list of records by score, descending.\n",
    "2. Sort and filter out any records less than 7.0 score."
   ]
  },
  {
   "cell_type": "code",
   "execution_count": null,
   "metadata": {},
   "outputs": [],
   "source": []
  },
  {
   "cell_type": "code",
   "execution_count": null,
   "metadata": {},
   "outputs": [],
   "source": []
  },
  {
   "cell_type": "markdown",
   "metadata": {},
   "source": [
    "### Exercise\n",
    "Create a function in which you can pass in an arbitrary function and it will apply that to the numbers that are divisible by `divisor` between  `start` and `end`.\n",
    "\n",
    "For example,\n",
    "\n",
    "```\n",
    "def cube(num):\n",
    "    return num ** 3\n",
    "\n",
    "apply_func_to_divisble_by(1, 20, 2, cube)\n",
    ">>> [8, 64, ..., 8000]\n",
    "```\n",
    "\n",
    "Note: 8 is 2^3, 64 is 4^3, ..."
   ]
  },
  {
   "cell_type": "code",
   "execution_count": null,
   "metadata": {},
   "outputs": [],
   "source": []
  },
  {
   "cell_type": "markdown",
   "metadata": {},
   "source": [
    "## `*args` and `**kwargs`"
   ]
  },
  {
   "cell_type": "code",
   "execution_count": 9,
   "metadata": {},
   "outputs": [
    {
     "data": {
      "text/plain": [
       "22"
      ]
     },
     "execution_count": 9,
     "metadata": {},
     "output_type": "execute_result"
    }
   ],
   "source": [
    "def add_up(numbers):\n",
    "    count = 0\n",
    "    for num in numbers:\n",
    "        count+= num\n",
    "    return count\n",
    "\n",
    "add_up([2, 5, 7, 8])"
   ]
  },
  {
   "cell_type": "code",
   "execution_count": 10,
   "metadata": {},
   "outputs": [],
   "source": [
    "def add_up_with_args(*numbers):\n",
    "    count = 0\n",
    "    for num in numbers:\n",
    "        count+= num\n",
    "    return count"
   ]
  },
  {
   "cell_type": "code",
   "execution_count": null,
   "metadata": {},
   "outputs": [],
   "source": []
  },
  {
   "cell_type": "markdown",
   "metadata": {},
   "source": [
    "See how you can call the below function."
   ]
  },
  {
   "cell_type": "code",
   "execution_count": 11,
   "metadata": {},
   "outputs": [],
   "source": [
    "def get_odds(**kwargs):\n",
    "    start = kwargs.get('start', 1)\n",
    "    end = kwargs.get('end', 1000)\n",
    "    nums = range(start, end)\n",
    "    divisor = kwargs.get('divisor', 2)\n",
    "    return [n for n in nums if n % divisor == 1]"
   ]
  },
  {
   "cell_type": "code",
   "execution_count": null,
   "metadata": {},
   "outputs": [],
   "source": []
  },
  {
   "cell_type": "markdown",
   "metadata": {},
   "source": [
    "Let's look at structuring and destructuring on the fly."
   ]
  },
  {
   "cell_type": "code",
   "execution_count": null,
   "metadata": {},
   "outputs": [],
   "source": []
  },
  {
   "cell_type": "markdown",
   "metadata": {},
   "source": [
    "### Application of `*args` and `**kwargs`"
   ]
  },
  {
   "cell_type": "code",
   "execution_count": 12,
   "metadata": {},
   "outputs": [],
   "source": [
    "class Animal():\n",
    "    def __init__(self, name, genus, species, alive=True):\n",
    "        self.name = name\n",
    "        self.genus = genus\n",
    "        self.species = species\n",
    "        self.alive = alive"
   ]
  },
  {
   "cell_type": "code",
   "execution_count": null,
   "metadata": {},
   "outputs": [],
   "source": []
  },
  {
   "cell_type": "code",
   "execution_count": 13,
   "metadata": {},
   "outputs": [],
   "source": [
    "class Person(Animal):\n",
    "    def __init__(self, job, *args, health_level='average', **kwargs):\n",
    "        self.job = job\n",
    "        self.health_level = health_level\n",
    "        super().__init__(*args, **kwargs)"
   ]
  },
  {
   "cell_type": "code",
   "execution_count": null,
   "metadata": {},
   "outputs": [],
   "source": []
  },
  {
   "cell_type": "markdown",
   "metadata": {},
   "source": [
    "## Decorators"
   ]
  },
  {
   "cell_type": "code",
   "execution_count": 14,
   "metadata": {},
   "outputs": [],
   "source": [
    "def outer():\n",
    "    print(\"Outside the inner functions\")\n",
    "    \n",
    "    def first_inner():\n",
    "        print(\"Inside FIRST inner function\")\n",
    "    \n",
    "    def second_inner():\n",
    "        print(\"Inside SECOND inner function\")\n",
    "    \n",
    "    second_inner()\n",
    "    first_inner()"
   ]
  },
  {
   "cell_type": "code",
   "execution_count": null,
   "metadata": {},
   "outputs": [],
   "source": []
  },
  {
   "cell_type": "code",
   "execution_count": null,
   "metadata": {},
   "outputs": [],
   "source": []
  },
  {
   "cell_type": "markdown",
   "metadata": {},
   "source": [
    "Try to call `second_inner`. What happens?"
   ]
  },
  {
   "cell_type": "code",
   "execution_count": null,
   "metadata": {},
   "outputs": [],
   "source": []
  },
  {
   "cell_type": "markdown",
   "metadata": {},
   "source": [
    "Let's examine this and apply it."
   ]
  },
  {
   "cell_type": "code",
   "execution_count": 15,
   "metadata": {},
   "outputs": [],
   "source": [
    "def wrap(func):\n",
    "    def inner_func():\n",
    "        print(\"Hello\")\n",
    "        func()\n",
    "        print(\"Goodbye\")\n",
    "    return inner_func"
   ]
  },
  {
   "cell_type": "code",
   "execution_count": null,
   "metadata": {},
   "outputs": [],
   "source": []
  },
  {
   "cell_type": "code",
   "execution_count": null,
   "metadata": {},
   "outputs": [],
   "source": []
  },
  {
   "cell_type": "markdown",
   "metadata": {},
   "source": [
    "### Exercise \n",
    "Create a decorator `time_checker` that wraps a function `func` being passed in and returns a function that when called only only executes `func` if today is Monday.\n",
    "\n",
    "e.g. `time_checker(func)`\n",
    "\n",
    "#### Hint\n",
    "```python\n",
    "import datetime\n",
    "\n",
    "is_monday = datetime.datetime.today().weekday() == 0\n",
    "```"
   ]
  },
  {
   "cell_type": "code",
   "execution_count": null,
   "metadata": {},
   "outputs": [],
   "source": []
  },
  {
   "cell_type": "markdown",
   "metadata": {},
   "source": [
    "## Operator overloading"
   ]
  },
  {
   "cell_type": "markdown",
   "metadata": {},
   "source": [
    "Let's create a class called `DataFrame`.\n",
    "\n",
    "It should take `data` which is a dictionary where the keys are column names and the values are a list of values for that column."
   ]
  },
  {
   "cell_type": "code",
   "execution_count": null,
   "metadata": {},
   "outputs": [],
   "source": []
  },
  {
   "cell_type": "markdown",
   "metadata": {},
   "source": [
    "Let's implement a basic `__getattr__` method."
   ]
  },
  {
   "cell_type": "code",
   "execution_count": null,
   "metadata": {},
   "outputs": [],
   "source": []
  },
  {
   "cell_type": "markdown",
   "metadata": {},
   "source": [
    "## Exercise\n",
    "Modify the `__getattr__` to return a DataFrame of just the subset of columns if a list is passed in."
   ]
  },
  {
   "cell_type": "code",
   "execution_count": null,
   "metadata": {},
   "outputs": [],
   "source": []
  },
  {
   "cell_type": "markdown",
   "metadata": {},
   "source": [
    "## Mini-Lab\n",
    "Create a decorator `only_on` that takes `weekday` as a keyword argument, and only runs the code if it is that weekday, else prints that it can't.\n",
    "\n",
    "\n",
    "```python\n",
    "@only_on(weekday=1)\n",
    "def print_message():\n",
    "    print(\"yo!!!\")\n",
    "    \n",
    ">>> print_message()\n",
    "\"Sorry.. it's not Monday\"\n",
    "```"
   ]
  },
  {
   "cell_type": "code",
   "execution_count": null,
   "metadata": {},
   "outputs": [],
   "source": []
  }
 ],
 "metadata": {
  "kernelspec": {
   "display_name": "Python 3",
   "language": "python",
   "name": "python3"
  },
  "language_info": {
   "codemirror_mode": {
    "name": "ipython",
    "version": 3
   },
   "file_extension": ".py",
   "mimetype": "text/x-python",
   "name": "python",
   "nbconvert_exporter": "python",
   "pygments_lexer": "ipython3",
   "version": "3.8.5"
  }
 },
 "nbformat": 4,
 "nbformat_minor": 4
}
