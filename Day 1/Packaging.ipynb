{
 "cells": [
  {
   "cell_type": "markdown",
   "metadata": {},
   "source": [
    "# Packaging Python\n",
    "\n",
    "1. Anatomy of a Python package\n",
    "2. Setting up dev environment\n",
    "3. Creating your own Python package\n",
    "4. Packaging and uploading"
   ]
  },
  {
   "cell_type": "markdown",
   "metadata": {},
   "source": [
    "## Anatomy of a Package\n",
    "Gives us a reusable standard."
   ]
  },
  {
   "cell_type": "markdown",
   "metadata": {},
   "source": [
    "### Let's look at PyPi"
   ]
  },
  {
   "cell_type": "code",
   "execution_count": null,
   "metadata": {},
   "outputs": [],
   "source": []
  },
  {
   "cell_type": "markdown",
   "metadata": {},
   "source": [
    "### Let's look at `requests`"
   ]
  },
  {
   "cell_type": "code",
   "execution_count": null,
   "metadata": {},
   "outputs": [],
   "source": []
  },
  {
   "cell_type": "markdown",
   "metadata": {},
   "source": [
    "## Setting up Dev Environment"
   ]
  },
  {
   "cell_type": "markdown",
   "metadata": {},
   "source": [
    "### 1. Open up CommandPrompt or Terminal\n"
   ]
  },
  {
   "cell_type": "markdown",
   "metadata": {},
   "source": [
    "### 2. Make directory `sf_packaging`"
   ]
  },
  {
   "cell_type": "markdown",
   "metadata": {},
   "source": [
    "### 3. Confirm `pip`\n",
    "- Windows: `py -m pip --version`\n",
    "- Mac: `python3 -m pip --version`"
   ]
  },
  {
   "cell_type": "markdown",
   "metadata": {},
   "source": [
    "### 4. Install `virtualenv`\n",
    "- Windows: `py -m pip install --user virtualenv`\n",
    "- Mac: `python3 -m pip install --user virtualenv`"
   ]
  },
  {
   "cell_type": "markdown",
   "metadata": {},
   "source": [
    "### 5. Create `virtualenv`\n",
    "- Windows: `py -m venv env`\n",
    "- Mac: `python3 -m venv env`"
   ]
  },
  {
   "cell_type": "markdown",
   "metadata": {},
   "source": [
    "### 6. Activate `virtualenv`\n",
    "- Windows: `.\\env\\Scripts\\activate`\n",
    "- Mac: `source env/bin/activate`\n",
    "\n",
    "### 7. Confirm we are in the env\n",
    "- Windows: `where python`\n",
    "- Mac: `which python`\n",
    "\n",
    "### 8. Deactivate and reactivate\n",
    "`deactivate`\n",
    "\n",
    "### 9. Let's install `requests`\n",
    "`pip install requests`\n",
    "\n",
    "- Let's see where it installed\n",
    "- Let's `pip freeze`\n",
    "- Let's use the shell\n",
    "\n",
    "### 10. Register for Test PyPi\n",
    "1. Register: https://test.pypi.org/account/register/\n",
    "2. Create token: https://test.pypi.org/manage/account/#api-tokens\n",
    "\n",
    "**Note**: Don’t close the page until you have copied and saved the token — you won’t see that token again.\n",
    "\n",
    "### 11. (pip) Install [`twine`](https://github.com/pypa/twine)\n",
    "\n",
    "### 12. Let's create our sample package\n",
    "Create the directory `sf_example_pkg` and `__init__.py` underneath it\n",
    "\n",
    "```\n",
    "sf_packaging\n",
    "├── LICENSE\n",
    "├── README.md\n",
    "├── sf_example_pkg\n",
    "│   └── __init__.py\n",
    "├── setup.py\n",
    "└── tests\n",
    "```\n",
    "\n",
    "### 13. Open our text editor\n",
    "I use Sublime.\n",
    "\n",
    "### 14. Choose a LICENSE and edit \n",
    "https://choosealicense.com/\n",
    "\n",
    "### 15. Edit the README\n",
    "\n",
    "### 16. Let's configure our `setup.py`\n",
    "Let's look back at `requests`"
   ]
  },
  {
   "cell_type": "markdown",
   "metadata": {},
   "source": [
    "```python\n",
    "import setuptools\n",
    "\n",
    "setuptools.setup(\n",
    "    name=\"sf-example-pkg-YOUR-USERNAME-HERE\", # Replace with your own username\n",
    "    version=\"0.0.1\",\n",
    "    author=\"Example Author\",\n",
    "    author_email=\"author@example.com\",\n",
    "    description=\"A small example package\",\n",
    "    url=\"https://github.com/pypa/sampleproject\",\n",
    "    packages=setuptools.find_packages(),\n",
    "    classifiers=[\n",
    "        \"Programming Language :: Python :: 3\",\n",
    "        \"License :: OSI Approved :: MIT License\",\n",
    "        \"Operating System :: OS Independent\",\n",
    "    ],\n",
    "    python_requires='>=3.6',\n",
    ")\n",
    "```"
   ]
  },
  {
   "cell_type": "code",
   "execution_count": null,
   "metadata": {},
   "outputs": [],
   "source": []
  },
  {
   "cell_type": "markdown",
   "metadata": {},
   "source": [
    "### 17. Let's customize our `__init__.py`\n",
    "`MAX_SIZE = 150`\n",
    "\n",
    "### 18. Pip install `setuptools wheel`\n",
    "\n",
    "### 19 Run setup.py\n",
    "Mac: `python3 setup.py sdist bdist_wheel`\n",
    "\n",
    "### 20. Upload / Enter credentials\n",
    "`python3 -m twine upload --repository testpypi dist/*`\n",
    "\n",
    "- For the username, use `__token__`. \n",
    "- For the password, use the token value, including the pypi- prefix.\n",
    "\n",
    "### 21. Deactivate virtualenv\n",
    "\n",
    "### 22. Make new directory (`useit`)\n",
    "\n",
    "### 23. Create virtualenv\n",
    "\n",
    "### 24. Let's install our library\n",
    "`python3 -m pip install --index-url https://test.pypi.org/simple/ --no-deps example-pkg-YOUR-USERNAME-HERE`\n",
    "\n",
    "<!-- python3 -m pip install --index-url https://test.pypi.org/simple/ --extra-index-url https://pypi.org/simple/ --no-deps sforce-hn-api-suneel0101==0.0.1 -->\n",
    "\n",
    "### 25. Let's import and check that it worked\n",
    "```python\n",
    ">>> import sf_example_pkg\n",
    ">>> sf_example_pkg.MAX_SIZE\n",
    "```"
   ]
  },
  {
   "cell_type": "markdown",
   "metadata": {},
   "source": [
    "## Lab\n",
    "Look at the docs for [Hacker News API](https://github.com/HackerNews/API)\n",
    "\n",
    "### Milestone 1: 0.0.1\n",
    "1. Create a function `get_stories_for(username)` that returns a list of titles and urls for a given user\n",
    "2. Let's refactor\n",
    "3. Package and push!\n",
    "\n",
    "\n",
    "### Milestone 2: 0.0.2\n",
    "2. Create a function `get_top_stories` that returns titles and urls for the top stories right now\n",
    "3. Package and push!\n",
    "\n",
    "### Milestone 3: 0.0.3\n",
    "3. Create a function `save_to_db` that stores a list of titles, urls into a CSV that you can choose the name of\n",
    "2. Let's refactor\n",
    "3. Package and push!\n",
    "\n",
    "HINT: You'll need `requests`\n",
    "\n",
    "\n",
    "```python\n",
    ">>> from sforce_hn_api  import get_stories_for\n",
    ">>> get_stories_for_(\"jl\")\n",
    "[(\"Some story\", \"https://some-url\"), ...]\n",
    "```"
   ]
  },
  {
   "cell_type": "code",
   "execution_count": null,
   "metadata": {},
   "outputs": [],
   "source": []
  },
  {
   "cell_type": "code",
   "execution_count": null,
   "metadata": {},
   "outputs": [],
   "source": []
  }
 ],
 "metadata": {
  "kernelspec": {
   "display_name": "Python 3",
   "language": "python",
   "name": "python3"
  },
  "language_info": {
   "codemirror_mode": {
    "name": "ipython",
    "version": 3
   },
   "file_extension": ".py",
   "mimetype": "text/x-python",
   "name": "python",
   "nbconvert_exporter": "python",
   "pygments_lexer": "ipython3",
   "version": "3.8.5"
  }
 },
 "nbformat": 4,
 "nbformat_minor": 4
}
