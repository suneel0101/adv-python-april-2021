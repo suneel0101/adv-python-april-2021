{
 "cells": [
  {
   "cell_type": "markdown",
   "metadata": {},
   "source": [
    "# Module: Metaclasses\n",
    "\n",
    "1. Dynamically creating classes with `type`\n",
    "2. What is `__new__`?\n",
    "3. A basic metaclass example\n",
    "4. Use Case 1: Validation\n",
    "5. `__call__` and `__new__`\n",
    "6. Use Case 2: Singleton\n",
    "7. Lab: Registry"
   ]
  },
  {
   "cell_type": "markdown",
   "metadata": {},
   "source": [
    "## Dynamically creating classes with `type`"
   ]
  },
  {
   "cell_type": "markdown",
   "metadata": {},
   "source": [
    "### Let's investigate `type`"
   ]
  },
  {
   "cell_type": "code",
   "execution_count": 1,
   "metadata": {},
   "outputs": [
    {
     "data": {
      "text/plain": [
       "int"
      ]
     },
     "execution_count": 1,
     "metadata": {},
     "output_type": "execute_result"
    }
   ],
   "source": [
    "type(3)"
   ]
  },
  {
   "cell_type": "markdown",
   "metadata": {},
   "source": [
    "Check `type` of string, dictionary, and even `type` itself."
   ]
  },
  {
   "cell_type": "code",
   "execution_count": 2,
   "metadata": {},
   "outputs": [
    {
     "data": {
      "text/plain": [
       "str"
      ]
     },
     "execution_count": 2,
     "metadata": {},
     "output_type": "execute_result"
    }
   ],
   "source": [
    "type(\"Hello\")"
   ]
  },
  {
   "cell_type": "code",
   "execution_count": 3,
   "metadata": {},
   "outputs": [
    {
     "data": {
      "text/plain": [
       "type"
      ]
     },
     "execution_count": 3,
     "metadata": {},
     "output_type": "execute_result"
    }
   ],
   "source": [
    "type(type)"
   ]
  },
  {
   "cell_type": "markdown",
   "metadata": {},
   "source": [
    "- `type` is a metaclass that creates classes.\n",
    "- can be used to dynamically create classes"
   ]
  },
  {
   "cell_type": "markdown",
   "metadata": {},
   "source": [
    "Class A(object):\n",
    "\n",
    "\n",
    "type -> object, Class A, ..."
   ]
  },
  {
   "cell_type": "code",
   "execution_count": null,
   "metadata": {},
   "outputs": [],
   "source": []
  },
  {
   "cell_type": "code",
   "execution_count": null,
   "metadata": {},
   "outputs": [],
   "source": []
  },
  {
   "cell_type": "code",
   "execution_count": 14,
   "metadata": {},
   "outputs": [],
   "source": [
    "Car = type('Car', (), {})"
   ]
  },
  {
   "cell_type": "code",
   "execution_count": 15,
   "metadata": {},
   "outputs": [],
   "source": [
    "class Car(metaclass=type):\n",
    "    pass"
   ]
  },
  {
   "cell_type": "code",
   "execution_count": null,
   "metadata": {},
   "outputs": [],
   "source": []
  },
  {
   "cell_type": "code",
   "execution_count": 6,
   "metadata": {},
   "outputs": [
    {
     "data": {
      "text/plain": [
       "['__class__',\n",
       " '__delattr__',\n",
       " '__dict__',\n",
       " '__dir__',\n",
       " '__doc__',\n",
       " '__eq__',\n",
       " '__format__',\n",
       " '__ge__',\n",
       " '__getattribute__',\n",
       " '__gt__',\n",
       " '__hash__',\n",
       " '__init__',\n",
       " '__init_subclass__',\n",
       " '__le__',\n",
       " '__lt__',\n",
       " '__module__',\n",
       " '__ne__',\n",
       " '__new__',\n",
       " '__reduce__',\n",
       " '__reduce_ex__',\n",
       " '__repr__',\n",
       " '__setattr__',\n",
       " '__sizeof__',\n",
       " '__str__',\n",
       " '__subclasshook__',\n",
       " '__weakref__']"
      ]
     },
     "execution_count": 6,
     "metadata": {},
     "output_type": "execute_result"
    }
   ],
   "source": [
    "dir(Car)"
   ]
  },
  {
   "cell_type": "code",
   "execution_count": 7,
   "metadata": {},
   "outputs": [
    {
     "data": {
      "text/plain": [
       "type"
      ]
     },
     "execution_count": 7,
     "metadata": {},
     "output_type": "execute_result"
    }
   ],
   "source": [
    "Car.__class__"
   ]
  },
  {
   "cell_type": "markdown",
   "metadata": {},
   "source": [
    "### What are the arguments?\n",
    "`type(<name>, <bases>, <dct>`\n",
    "\n",
    "- <name> specifies the class name. This becomes the __name__ attribute of the class.\n",
    "- <bases> specifies a tuple of the base classes from which the class inherits. This becomes the __bases__ attribute of the class.\n",
    "- <dct> specifies a namespace dictionary containing definitions for the class body. This becomes the __dict__ attribute of the class.\n",
    "    \n",
    "(realpython.com)"
   ]
  },
  {
   "cell_type": "code",
   "execution_count": 8,
   "metadata": {},
   "outputs": [],
   "source": [
    "SUV = type('SUV', (Car,), dict(doors=4))"
   ]
  },
  {
   "cell_type": "code",
   "execution_count": 1,
   "metadata": {},
   "outputs": [],
   "source": [
    "# SUV.__class__.__bases__"
   ]
  },
  {
   "cell_type": "code",
   "execution_count": 2,
   "metadata": {},
   "outputs": [],
   "source": [
    "# SUV.__class__.__dict__"
   ]
  },
  {
   "cell_type": "code",
   "execution_count": null,
   "metadata": {},
   "outputs": [],
   "source": []
  },
  {
   "cell_type": "markdown",
   "metadata": {},
   "source": [
    "```python\n",
    "class Car():\n",
    "    blah = True\n",
    "\n",
    "class SUV(Car):\n",
    "    doors = 4\n",
    "```"
   ]
  },
  {
   "cell_type": "markdown",
   "metadata": {},
   "source": [
    "Let's instantiate an `SUV` and introspect `__class__` and `__class__.__bases__` and check the class attribute."
   ]
  },
  {
   "cell_type": "code",
   "execution_count": null,
   "metadata": {},
   "outputs": [],
   "source": []
  },
  {
   "cell_type": "code",
   "execution_count": null,
   "metadata": {},
   "outputs": [],
   "source": []
  },
  {
   "cell_type": "markdown",
   "metadata": {},
   "source": [
    "### Let's add more to the class namespace."
   ]
  },
  {
   "cell_type": "code",
   "execution_count": 16,
   "metadata": {},
   "outputs": [],
   "source": [
    "EBayScraper = type('EBayScraper', (), {'domain': 'ebay.com', 'get_full_url': lambda x : 'https://{}'.format(x.domain)})"
   ]
  },
  {
   "cell_type": "markdown",
   "metadata": {},
   "source": [
    "### Exercise\n",
    "- Instantiate an `EBayScraper` and call `get_full_url`.\n",
    "- Check the bases and namespace."
   ]
  },
  {
   "cell_type": "code",
   "execution_count": 24,
   "metadata": {},
   "outputs": [],
   "source": [
    "# class EBayScraper():\n",
    "#     get_full_url =..."
   ]
  },
  {
   "cell_type": "code",
   "execution_count": 17,
   "metadata": {},
   "outputs": [],
   "source": [
    "ebs = EBayScraper()"
   ]
  },
  {
   "cell_type": "code",
   "execution_count": 18,
   "metadata": {},
   "outputs": [
    {
     "data": {
      "text/plain": [
       "'https://ebay.com'"
      ]
     },
     "execution_count": 18,
     "metadata": {},
     "output_type": "execute_result"
    }
   ],
   "source": [
    "ebs.get_full_url()"
   ]
  },
  {
   "cell_type": "code",
   "execution_count": 23,
   "metadata": {},
   "outputs": [
    {
     "data": {
      "text/plain": [
       "(object,)"
      ]
     },
     "execution_count": 23,
     "metadata": {},
     "output_type": "execute_result"
    }
   ],
   "source": [
    "ebs.__class__.__bases__"
   ]
  },
  {
   "cell_type": "markdown",
   "metadata": {},
   "source": [
    "## What is `__new__`?"
   ]
  },
  {
   "cell_type": "code",
   "execution_count": 28,
   "metadata": {},
   "outputs": [],
   "source": [
    "class FooMeta(type):\n",
    "    def __new__(cls, name, bases, dct):\n",
    "        print(\"!!!!!!!!!!!!!!!In __new__!!!!!!!!!!!!!!!\")\n",
    "        return super().__new__(cls, name, bases, dct)\n"
   ]
  },
  {
   "cell_type": "markdown",
   "metadata": {},
   "source": [
    "**Discuss**: Why `cls` and not `self`? Does it matter?"
   ]
  },
  {
   "cell_type": "markdown",
   "metadata": {},
   "source": [
    "Execute the following class."
   ]
  },
  {
   "cell_type": "code",
   "execution_count": 3,
   "metadata": {},
   "outputs": [],
   "source": [
    "class Foo(metaclass=FooMeta):\n",
    "    def __init__(self):\n",
    "        print(\"In __init__\")"
   ]
  },
  {
   "cell_type": "markdown",
   "metadata": {},
   "source": [
    "Now instantiate."
   ]
  },
  {
   "cell_type": "code",
   "execution_count": 4,
   "metadata": {},
   "outputs": [],
   "source": []
  },
  {
   "cell_type": "markdown",
   "metadata": {},
   "source": [
    "What is a metaclass?"
   ]
  },
  {
   "cell_type": "markdown",
   "metadata": {},
   "source": [
    "## A basic metaclass example"
   ]
  },
  {
   "cell_type": "code",
   "execution_count": 32,
   "metadata": {},
   "outputs": [],
   "source": [
    "class CoolMeta(type):\n",
    "    def __new__(cls, name, bases, dct):\n",
    "        x = super().__new__(cls, name, bases, dct)\n",
    "        x.some_val = 225\n",
    "        return x"
   ]
  },
  {
   "cell_type": "code",
   "execution_count": 33,
   "metadata": {},
   "outputs": [],
   "source": [
    "class OtherClass(metaclass=CoolMeta):\n",
    "    pass"
   ]
  },
  {
   "cell_type": "code",
   "execution_count": 35,
   "metadata": {},
   "outputs": [
    {
     "data": {
      "text/plain": [
       "225"
      ]
     },
     "execution_count": 35,
     "metadata": {},
     "output_type": "execute_result"
    }
   ],
   "source": [
    "OtherClass.some_val"
   ]
  },
  {
   "cell_type": "markdown",
   "metadata": {},
   "source": [
    "## Well, we can do that with inheritance!\n",
    "Try it.\n"
   ]
  },
  {
   "cell_type": "code",
   "execution_count": 36,
   "metadata": {},
   "outputs": [],
   "source": []
  },
  {
   "cell_type": "code",
   "execution_count": 37,
   "metadata": {},
   "outputs": [],
   "source": []
  },
  {
   "cell_type": "code",
   "execution_count": null,
   "metadata": {},
   "outputs": [],
   "source": []
  },
  {
   "cell_type": "markdown",
   "metadata": {},
   "source": [
    "What does this do?"
   ]
  },
  {
   "cell_type": "markdown",
   "metadata": {},
   "source": [
    "## Use Case 1: Validation\n",
    "Let's also take this opportunity to get famliar with the [`requests`](https://requests.readthedocs.io/en/master/) library."
   ]
  },
  {
   "cell_type": "code",
   "execution_count": 40,
   "metadata": {},
   "outputs": [],
   "source": [
    "import requests\n",
    "res = requests.get('https://news.ycombinator.com/')"
   ]
  },
  {
   "cell_type": "code",
   "execution_count": 41,
   "metadata": {},
   "outputs": [
    {
     "data": {
      "text/plain": [
       "b'<html lang=\"en\" op=\"news\"><head><meta name=\"referrer\" content=\"origin\"><meta name=\"viewport\" content=\"width=device-width, initial-scale=1.0\"><link rel=\"stylesheet\" type=\"text/css\" href=\"news.css?i2jJa1t672WDkJCHK5cZ\">\\n        <link rel=\"shortcut icon\" href=\"favicon.ico\">\\n          <link rel=\"alternate\" type=\"application/rss+xml\" title=\"RSS\" href=\"rss\">\\n        <title>Hacker News</title></head><body><center><table id=\"hnmain\" border=\"0\" cellpadding=\"0\" cellspacing=\"0\" width=\"85%\" bgcolor=\"#f6f6ef\">\\n        <tr><td bgcolor=\"#ff6600\"><table border=\"0\" cellpadding=\"0\" cellspacing=\"0\" width=\"100%\" style=\"padding:2px\"><tr><td style=\"width:18px;padding-right:4px\"><a href=\"https://news.ycombinator.com\"><img src=\"y18.gif\" width=\"18\" height=\"18\" style=\"border:1px white solid;\"></a></td>\\n                  <td style=\"line-height:12pt; height:10px;\"><span class=\"pagetop\"><b class=\"hnname\"><a href=\"news\">Hacker News</a></b>\\n              <a href=\"newest\">new</a> | <a href=\"front\">past</a> | <a href=\"newcomments\">comments</a> | <a href=\"ask\">ask</a> | <a href=\"show\">show</a> | <a href=\"jobs\">jobs</a> | <a href=\"submit\">submit</a>            </span></td><td style=\"text-align:right;padding-right:4px;\"><span class=\"pagetop\">\\n                              <a href=\"login?goto=news\">login</a>\\n                          </span></td>\\n              </tr></table></td></tr>\\n<tr id=\"pagespace\" title=\"\" style=\"height:10px\"></tr><tr><td><table border=\"0\" cellpadding=\"0\" cellspacing=\"0\" class=\"itemlist\">\\n              <tr class=\\'athing\\' id=\\'26545082\\'>\\n      <td align=\"right\" valign=\"top\" class=\"title\"><span class=\"rank\">1.</span></td>      <td valign=\"top\" class=\"votelinks\"><center><a id=\\'up_26545082\\' href=\\'vote?id=26545082&amp;how=up&amp;goto=news\\'><div class=\\'votearrow\\' title=\\'upvote\\'></div></a></center></td><td class=\"title\"><a href=\"https://crystal-lang.org/2021/03/22/crystal-1.0-what-to-expect.html\" class=\"storylink\">Crystal 1.0 \\xe2\\x80\\x93 What to expect</a><span class=\"sitebit comhead\"> (<a href=\"from?site=crystal-lang.org\"><span class=\"sitestr\">crystal-lang.org</span></a>)</span></td></tr><tr><td colspan=\"2\"></td><td class=\"subtext\">\\n        <span class=\"score\" id=\"score_26545082\">166 points</span> by <a href=\"user?id=mfkp\" class=\"hnuser\">mfkp</a> <span class=\"age\"><a href=\"item?id=26545082\">1 hour ago</a></span> <span id=\"unv_26545082\"></span> | <a href=\"hide?id=26545082&amp;goto=news\">hide</a> | <a href=\"item?id=26545082\">57&nbsp;comments</a>              </td></tr>\\n      <tr class=\"spacer\" style=\"height:5px\"></tr>\\n                <tr class=\\'athing\\' id=\\'26544492\\'>\\n      <td align=\"right\" valign=\"top\" class=\"title\"><span class=\"rank\">2.</span></td>      <td valign=\"top\" class=\"votelinks\"><center><a id=\\'up_26544492\\' href=\\'vote?id=26544492&amp;how=up&amp;goto=news\\'><div class=\\'votearrow\\' title=\\'upvote\\'></div></a></center></td><td class=\"title\"><a href=\"https://www.reuters.com/article/us-usa-court-facebook/u-s-supreme-court-rebuffs-facebook-appeal-in-user-tracking-lawsuit-idUSKBN2BE1TX\" class=\"storylink\">U.S. Supreme Court rebuffs Facebook appeal in user tracking lawsuit</a><span class=\"sitebit comhead\"> (<a href=\"from?site=reuters.com\"><span class=\"sitestr\">reuters.com</span></a>)</span></td></tr><tr><td colspan=\"2\"></td><td class=\"subtext\">\\n        <span class=\"score\" id=\"score_26544492\">126 points</span> by <a href=\"user?id=LinuxBender\" class=\"hnuser\">LinuxBender</a> <span class=\"age\"><a href=\"item?id=26544492\">2 hours ago</a></span> <span id=\"unv_26544492\"></span> | <a href=\"hide?id=26544492&amp;goto=news\">hide</a> | <a href=\"item?id=26544492\">34&nbsp;comments</a>              </td></tr>\\n      <tr class=\"spacer\" style=\"height:5px\"></tr>\\n                <tr class=\\'athing\\' id=\\'26540007\\'>\\n      <td align=\"right\" valign=\"top\" class=\"title\"><span class=\"rank\">3.</span></td>      <td valign=\"top\" class=\"votelinks\"><center><a id=\\'up_26540007\\' href=\\'vote?id=26540007&amp;how=up&amp;goto=news\\'><div class=\\'votearrow\\' title=\\'upvote\\'></div></a></center></td><td class=\"title\"><a href=\"https://puri.sm/posts/the-s-in-iot-is-for-security/\" class=\"storylink\">The S in IoT is for Security</a><span class=\"sitebit comhead\"> (<a href=\"from?site=puri.sm\"><span class=\"sitestr\">puri.sm</span></a>)</span></td></tr><tr><td colspan=\"2\"></td><td class=\"subtext\">\\n        <span class=\"score\" id=\"score_26540007\">398 points</span> by <a href=\"user?id=rauhl\" class=\"hnuser\">rauhl</a> <span class=\"age\"><a href=\"item?id=26540007\">7 hours ago</a></span> <span id=\"unv_26540007\"></span> | <a href=\"hide?id=26540007&amp;goto=news\">hide</a> | <a href=\"item?id=26540007\">222&nbsp;comments</a>              </td></tr>\\n      <tr class=\"spacer\" style=\"height:5px\"></tr>\\n                <tr class=\\'athing\\' id=\\'26544739\\'>\\n      <td align=\"right\" valign=\"top\" class=\"title\"><span class=\"rank\">4.</span></td>      <td valign=\"top\" class=\"votelinks\"><center><a id=\\'up_26544739\\' href=\\'vote?id=26544739&amp;how=up&amp;goto=news\\'><div class=\\'votearrow\\' title=\\'upvote\\'></div></a></center></td><td class=\"title\"><a href=\"https://web.eecs.utk.edu/~azh/blog/allmyrejections.html\" class=\"storylink\">All my career rejections</a><span class=\"sitebit comhead\"> (<a href=\"from?site=utk.edu\"><span class=\"sitestr\">utk.edu</span></a>)</span></td></tr><tr><td colspan=\"2\"></td><td class=\"subtext\">\\n        <span class=\"score\" id=\"score_26544739\">50 points</span> by <a href=\"user?id=azhenley\" class=\"hnuser\">azhenley</a> <span class=\"age\"><a href=\"item?id=26544739\">1 hour ago</a></span> <span id=\"unv_26544739\"></span> | <a href=\"hide?id=26544739&amp;goto=news\">hide</a> | <a href=\"item?id=26544739\">31&nbsp;comments</a>              </td></tr>\\n      <tr class=\"spacer\" style=\"height:5px\"></tr>\\n                <tr class=\\'athing\\' id=\\'26539673\\'>\\n      <td align=\"right\" valign=\"top\" class=\"title\"><span class=\"rank\">5.</span></td>      <td valign=\"top\" class=\"votelinks\"><center><a id=\\'up_26539673\\' href=\\'vote?id=26539673&amp;how=up&amp;goto=news\\'><div class=\\'votearrow\\' title=\\'upvote\\'></div></a></center></td><td class=\"title\"><a href=\"https://blog.mozilla.org/security/2021/03/22/firefox-87-trims-http-referrers-by-default-to-protect-user-privacy/\" class=\"storylink\">Firefox 87 trims HTTP Referrers by default to protect user privacy</a><span class=\"sitebit comhead\"> (<a href=\"from?site=blog.mozilla.org\"><span class=\"sitestr\">blog.mozilla.org</span></a>)</span></td></tr><tr><td colspan=\"2\"></td><td class=\"subtext\">\\n        <span class=\"score\" id=\"score_26539673\">774 points</span> by <a href=\"user?id=twapi\" class=\"hnuser\">twapi</a> <span class=\"age\"><a href=\"item?id=26539673\">8 hours ago</a></span> <span id=\"unv_26539673\"></span> | <a href=\"hide?id=26539673&amp;goto=news\">hide</a> | <a href=\"item?id=26539673\">198&nbsp;comments</a>              </td></tr>\\n      <tr class=\"spacer\" style=\"height:5px\"></tr>\\n                <tr class=\\'athing\\' id=\\'26543495\\'>\\n      <td align=\"right\" valign=\"top\" class=\"title\"><span class=\"rank\">6.</span></td>      <td valign=\"top\" class=\"votelinks\"><center><a id=\\'up_26543495\\' href=\\'vote?id=26543495&amp;how=up&amp;goto=news\\'><div class=\\'votearrow\\' title=\\'upvote\\'></div></a></center></td><td class=\"title\"><a href=\"https://groups.google.com/g/tb-planning/c/-jbmYvYdX1g\" class=\"storylink\">Thunderbird 2020 Financial Report</a><span class=\"sitebit comhead\"> (<a href=\"from?site=groups.google.com\"><span class=\"sitestr\">groups.google.com</span></a>)</span></td></tr><tr><td colspan=\"2\"></td><td class=\"subtext\">\\n        <span class=\"score\" id=\"score_26543495\">59 points</span> by <a href=\"user?id=joeyespo\" class=\"hnuser\">joeyespo</a> <span class=\"age\"><a href=\"item?id=26543495\">3 hours ago</a></span> <span id=\"unv_26543495\"></span> | <a href=\"hide?id=26543495&amp;goto=news\">hide</a> | <a href=\"item?id=26543495\">39&nbsp;comments</a>              </td></tr>\\n      <tr class=\"spacer\" style=\"height:5px\"></tr>\\n                <tr class=\\'athing\\' id=\\'26538005\\'>\\n      <td align=\"right\" valign=\"top\" class=\"title\"><span class=\"rank\">7.</span></td>      <td valign=\"top\" class=\"votelinks\"><center><a id=\\'up_26538005\\' href=\\'vote?id=26538005&amp;how=up&amp;goto=news\\'><div class=\\'votearrow\\' title=\\'upvote\\'></div></a></center></td><td class=\"title\"><a href=\"https://www.ruv.is/frett/2021/03/20/live-feed-from-iceland-volcano\" class=\"storylink\">Live feed from Iceland erupting volcano [video]</a><span class=\"sitebit comhead\"> (<a href=\"from?site=ruv.is\"><span class=\"sitestr\">ruv.is</span></a>)</span></td></tr><tr><td colspan=\"2\"></td><td class=\"subtext\">\\n        <span class=\"score\" id=\"score_26538005\">529 points</span> by <a href=\"user?id=lknik\" class=\"hnuser\">lknik</a> <span class=\"age\"><a href=\"item?id=26538005\">12 hours ago</a></span> <span id=\"unv_26538005\"></span> | <a href=\"hide?id=26538005&amp;goto=news\">hide</a> | <a href=\"item?id=26538005\">136&nbsp;comments</a>              </td></tr>\\n      <tr class=\"spacer\" style=\"height:5px\"></tr>\\n                <tr class=\\'athing\\' id=\\'26540692\\'>\\n      <td align=\"right\" valign=\"top\" class=\"title\"><span class=\"rank\">8.</span></td>      <td valign=\"top\" class=\"votelinks\"><center><a id=\\'up_26540692\\' href=\\'vote?id=26540692&amp;how=up&amp;goto=news\\'><div class=\\'votearrow\\' title=\\'upvote\\'></div></a></center></td><td class=\"title\"><a href=\"item?id=26540692\" class=\"storylink\">Launch HN: Kitemaker (YC W21) \\xe2\\x80\\x93 Fast alternative to Jira, built for remote teams</a></td></tr><tr><td colspan=\"2\"></td><td class=\"subtext\">\\n        <span class=\"score\" id=\"score_26540692\">166 points</span> by <a href=\"user?id=kevsim\" class=\"hnuser\">kevsim</a> <span class=\"age\"><a href=\"item?id=26540692\">6 hours ago</a></span> <span id=\"unv_26540692\"></span> | <a href=\"hide?id=26540692&amp;goto=news\">hide</a> | <a href=\"item?id=26540692\">100&nbsp;comments</a>              </td></tr>\\n      <tr class=\"spacer\" style=\"height:5px\"></tr>\\n                <tr class=\\'athing\\' id=\\'26543517\\'>\\n      <td align=\"right\" valign=\"top\" class=\"title\"><span class=\"rank\">9.</span></td>      <td valign=\"top\" class=\"votelinks\"><center><a id=\\'up_26543517\\' href=\\'vote?id=26543517&amp;how=up&amp;goto=news\\'><div class=\\'votearrow\\' title=\\'upvote\\'></div></a></center></td><td class=\"title\"><a href=\"https://cacm.acm.org/news/251337-the-worsening-state-of-ransomware/fulltext\" class=\"storylink\">The Worsening State of Ransomware</a><span class=\"sitebit comhead\"> (<a href=\"from?site=acm.org\"><span class=\"sitestr\">acm.org</span></a>)</span></td></tr><tr><td colspan=\"2\"></td><td class=\"subtext\">\\n        <span class=\"score\" id=\"score_26543517\">83 points</span> by <a href=\"user?id=tmfi\" class=\"hnuser\">tmfi</a> <span class=\"age\"><a href=\"item?id=26543517\">3 hours ago</a></span> <span id=\"unv_26543517\"></span> | <a href=\"hide?id=26543517&amp;goto=news\">hide</a> | <a href=\"item?id=26543517\">75&nbsp;comments</a>              </td></tr>\\n      <tr class=\"spacer\" style=\"height:5px\"></tr>\\n                <tr class=\\'athing\\' id=\\'26543259\\'>\\n      <td align=\"right\" valign=\"top\" class=\"title\"><span class=\"rank\">10.</span></td>      <td valign=\"top\" class=\"votelinks\"><center><a id=\\'up_26543259\\' href=\\'vote?id=26543259&amp;how=up&amp;goto=news\\'><div class=\\'votearrow\\' title=\\'upvote\\'></div></a></center></td><td class=\"title\"><a href=\"https://www.statista.com/chart/24471/covid-19-vaccine-doses-per-100-people/\" class=\"storylink\">EU vaccine rollout severely lags behind</a><span class=\"sitebit comhead\"> (<a href=\"from?site=statista.com\"><span class=\"sitestr\">statista.com</span></a>)</span></td></tr><tr><td colspan=\"2\"></td><td class=\"subtext\">\\n        <span class=\"score\" id=\"score_26543259\">42 points</span> by <a href=\"user?id=undefined1\" class=\"hnuser\">undefined1</a> <span class=\"age\"><a href=\"item?id=26543259\">3 hours ago</a></span> <span id=\"unv_26543259\"></span> | <a href=\"hide?id=26543259&amp;goto=news\">hide</a> | <a href=\"item?id=26543259\">69&nbsp;comments</a>              </td></tr>\\n      <tr class=\"spacer\" style=\"height:5px\"></tr>\\n                <tr class=\\'athing\\' id=\\'26543899\\'>\\n      <td align=\"right\" valign=\"top\" class=\"title\"><span class=\"rank\">11.</span></td>      <td valign=\"top\" class=\"votelinks\"><center><a id=\\'up_26543899\\' href=\\'vote?id=26543899&amp;how=up&amp;goto=news\\'><div class=\\'votearrow\\' title=\\'upvote\\'></div></a></center></td><td class=\"title\"><a href=\"https://www.righto.com/2021/03/two-dies-in-one-package-teardown-of.html\" class=\"storylink\">Two dies in one package: Teardown of a vintage ROM with double the storage</a><span class=\"sitebit comhead\"> (<a href=\"from?site=righto.com\"><span class=\"sitestr\">righto.com</span></a>)</span></td></tr><tr><td colspan=\"2\"></td><td class=\"subtext\">\\n        <span class=\"score\" id=\"score_26543899\">28 points</span> by <a href=\"user?id=parsecs\" class=\"hnuser\">parsecs</a> <span class=\"age\"><a href=\"item?id=26543899\">2 hours ago</a></span> <span id=\"unv_26543899\"></span> | <a href=\"hide?id=26543899&amp;goto=news\">hide</a> | <a href=\"item?id=26543899\">3&nbsp;comments</a>              </td></tr>\\n      <tr class=\"spacer\" style=\"height:5px\"></tr>\\n                <tr class=\\'athing\\' id=\\'26540458\\'>\\n      <td align=\"right\" valign=\"top\" class=\"title\"><span class=\"rank\">12.</span></td>      <td valign=\"top\" class=\"votelinks\"><center><a id=\\'up_26540458\\' href=\\'vote?id=26540458&amp;how=up&amp;goto=news\\'><div class=\\'votearrow\\' title=\\'upvote\\'></div></a></center></td><td class=\"title\"><a href=\"https://eu.usatoday.com/in-depth/opinion/2021/03/22/why-covid-lab-leak-theory-wuhan-shouldnt-dismissed-column/4765985001/\" class=\"storylink\">Why the Wuhan lab leak theory shouldn\\'t be dismissed</a><span class=\"sitebit comhead\"> (<a href=\"from?site=usatoday.com\"><span class=\"sitestr\">usatoday.com</span></a>)</span></td></tr><tr><td colspan=\"2\"></td><td class=\"subtext\">\\n        <span class=\"score\" id=\"score_26540458\">188 points</span> by <a href=\"user?id=ruaraidh\" class=\"hnuser\">ruaraidh</a> <span class=\"age\"><a href=\"item?id=26540458\">6 hours ago</a></span> <span id=\"unv_26540458\"></span> | <a href=\"hide?id=26540458&amp;goto=news\">hide</a> | <a href=\"item?id=26540458\">134&nbsp;comments</a>              </td></tr>\\n      <tr class=\"spacer\" style=\"height:5px\"></tr>\\n                <tr class=\\'athing\\' id=\\'26543478\\'>\\n      <td align=\"right\" valign=\"top\" class=\"title\"><span class=\"rank\">13.</span></td>      <td></td><td class=\"title\"><a href=\"https://www.flexport.com/careers/department/engineering\" class=\"storylink\" rel=\"nofollow\">Flexport is hiring commercially minded PMs to build the future of global trade</a><span class=\"sitebit comhead\"> (<a href=\"from?site=flexport.com\"><span class=\"sitestr\">flexport.com</span></a>)</span></td></tr><tr><td colspan=\"2\"></td><td class=\"subtext\">\\n        <span class=\"age\"><a href=\"item?id=26543478\">3 hours ago</a></span> | <a href=\"hide?id=26543478&amp;goto=news\">hide</a>      </td></tr>\\n      <tr class=\"spacer\" style=\"height:5px\"></tr>\\n                <tr class=\\'athing\\' id=\\'26544783\\'>\\n      <td align=\"right\" valign=\"top\" class=\"title\"><span class=\"rank\">14.</span></td>      <td valign=\"top\" class=\"votelinks\"><center><a id=\\'up_26544783\\' href=\\'vote?id=26544783&amp;how=up&amp;goto=news\\'><div class=\\'votearrow\\' title=\\'upvote\\'></div></a></center></td><td class=\"title\"><a href=\"http://www.mattmillman.com/why-do-we-call-these-dupont-connectors/\" class=\"storylink\">Why Do We Call These \\xe2\\x80\\x9cDuPont\\xe2\\x80\\x9d Connectors?</a><span class=\"sitebit comhead\"> (<a href=\"from?site=mattmillman.com\"><span class=\"sitestr\">mattmillman.com</span></a>)</span></td></tr><tr><td colspan=\"2\"></td><td class=\"subtext\">\\n        <span class=\"score\" id=\"score_26544783\">17 points</span> by <a href=\"user?id=zdw\" class=\"hnuser\">zdw</a> <span class=\"age\"><a href=\"item?id=26544783\">1 hour ago</a></span> <span id=\"unv_26544783\"></span> | <a href=\"hide?id=26544783&amp;goto=news\">hide</a> | <a href=\"item?id=26544783\">5&nbsp;comments</a>              </td></tr>\\n      <tr class=\"spacer\" style=\"height:5px\"></tr>\\n                <tr class=\\'athing\\' id=\\'26541735\\'>\\n      <td align=\"right\" valign=\"top\" class=\"title\"><span class=\"rank\">15.</span></td>      <td valign=\"top\" class=\"votelinks\"><center><a id=\\'up_26541735\\' href=\\'vote?id=26541735&amp;how=up&amp;goto=news\\'><div class=\\'votearrow\\' title=\\'upvote\\'></div></a></center></td><td class=\"title\"><a href=\"https://github.com/wrandelshofer/FastDoubleParser\" class=\"storylink\">FastDoubleParser: Java port of Daniel Lemires fast_double_parser</a><span class=\"sitebit comhead\"> (<a href=\"from?site=github.com/wrandelshofer\"><span class=\"sitestr\">github.com/wrandelshofer</span></a>)</span></td></tr><tr><td colspan=\"2\"></td><td class=\"subtext\">\\n        <span class=\"score\" id=\"score_26541735\">56 points</span> by <a href=\"user?id=mfiguiere\" class=\"hnuser\">mfiguiere</a> <span class=\"age\"><a href=\"item?id=26541735\">5 hours ago</a></span> <span id=\"unv_26541735\"></span> | <a href=\"hide?id=26541735&amp;goto=news\">hide</a> | <a href=\"item?id=26541735\">21&nbsp;comments</a>              </td></tr>\\n      <tr class=\"spacer\" style=\"height:5px\"></tr>\\n                <tr class=\\'athing\\' id=\\'26541582\\'>\\n      <td align=\"right\" valign=\"top\" class=\"title\"><span class=\"rank\">16.</span></td>      <td valign=\"top\" class=\"votelinks\"><center><a id=\\'up_26541582\\' href=\\'vote?id=26541582&amp;how=up&amp;goto=news\\'><div class=\\'votearrow\\' title=\\'upvote\\'></div></a></center></td><td class=\"title\"><a href=\"https://stratechery.com/2021/sovereign-writers-and-substack/\" class=\"storylink\">Sovereign writers and Substack</a><span class=\"sitebit comhead\"> (<a href=\"from?site=stratechery.com\"><span class=\"sitestr\">stratechery.com</span></a>)</span></td></tr><tr><td colspan=\"2\"></td><td class=\"subtext\">\\n        <span class=\"score\" id=\"score_26541582\">45 points</span> by <a href=\"user?id=feross\" class=\"hnuser\">feross</a> <span class=\"age\"><a href=\"item?id=26541582\">5 hours ago</a></span> <span id=\"unv_26541582\"></span> | <a href=\"hide?id=26541582&amp;goto=news\">hide</a> | <a href=\"item?id=26541582\">61&nbsp;comments</a>              </td></tr>\\n      <tr class=\"spacer\" style=\"height:5px\"></tr>\\n                <tr class=\\'athing\\' id=\\'26543347\\'>\\n      <td align=\"right\" valign=\"top\" class=\"title\"><span class=\"rank\">17.</span></td>      <td valign=\"top\" class=\"votelinks\"><center><a id=\\'up_26543347\\' href=\\'vote?id=26543347&amp;how=up&amp;goto=news\\'><div class=\\'votearrow\\' title=\\'upvote\\'></div></a></center></td><td class=\"title\"><a href=\"https://www.wsj.com/articles/new-realtors-pile-into-hot-housing-market-most-find-it-tough-going-11616328002\" class=\"storylink\">In January, there were more real-estate agents than homes for sale in the U.S.</a><span class=\"sitebit comhead\"> (<a href=\"from?site=wsj.com\"><span class=\"sitestr\">wsj.com</span></a>)</span></td></tr><tr><td colspan=\"2\"></td><td class=\"subtext\">\\n        <span class=\"score\" id=\"score_26543347\">145 points</span> by <a href=\"user?id=undefined1\" class=\"hnuser\">undefined1</a> <span class=\"age\"><a href=\"item?id=26543347\">3 hours ago</a></span> <span id=\"unv_26543347\"></span> | <a href=\"hide?id=26543347&amp;goto=news\">hide</a> | <a href=\"item?id=26543347\">146&nbsp;comments</a>              </td></tr>\\n      <tr class=\"spacer\" style=\"height:5px\"></tr>\\n                <tr class=\\'athing\\' id=\\'26544651\\'>\\n      <td align=\"right\" valign=\"top\" class=\"title\"><span class=\"rank\">18.</span></td>      <td valign=\"top\" class=\"votelinks\"><center><a id=\\'up_26544651\\' href=\\'vote?id=26544651&amp;how=up&amp;goto=news\\'><div class=\\'votearrow\\' title=\\'upvote\\'></div></a></center></td><td class=\"title\"><a href=\"https://writings.stephenwolfram.com/2021/03/what-is-consciousness-some-new-perspectives-from-our-physics-project/\" class=\"storylink\">What is consciousness? Some new perspectives from our physics project</a><span class=\"sitebit comhead\"> (<a href=\"from?site=stephenwolfram.com\"><span class=\"sitestr\">stephenwolfram.com</span></a>)</span></td></tr><tr><td colspan=\"2\"></td><td class=\"subtext\">\\n        <span class=\"score\" id=\"score_26544651\">40 points</span> by <a href=\"user?id=dsr12\" class=\"hnuser\">dsr12</a> <span class=\"age\"><a href=\"item?id=26544651\">1 hour ago</a></span> <span id=\"unv_26544651\"></span> | <a href=\"hide?id=26544651&amp;goto=news\">hide</a> | <a href=\"item?id=26544651\">23&nbsp;comments</a>              </td></tr>\\n      <tr class=\"spacer\" style=\"height:5px\"></tr>\\n                <tr class=\\'athing\\' id=\\'26542129\\'>\\n      <td align=\"right\" valign=\"top\" class=\"title\"><span class=\"rank\">19.</span></td>      <td valign=\"top\" class=\"votelinks\"><center><a id=\\'up_26542129\\' href=\\'vote?id=26542129&amp;how=up&amp;goto=news\\'><div class=\\'votearrow\\' title=\\'upvote\\'></div></a></center></td><td class=\"title\"><a href=\"https://ryancor.medium.com/pulling-bits-from-rom-silicon-die-images-unknown-architecture-b73b6b0d4e5d\" class=\"storylink\">Pulling Bits from ROM Silicon Die Images: Unknown Architecture</a><span class=\"sitebit comhead\"> (<a href=\"from?site=ryancor.medium.com\"><span class=\"sitestr\">ryancor.medium.com</span></a>)</span></td></tr><tr><td colspan=\"2\"></td><td class=\"subtext\">\\n        <span class=\"score\" id=\"score_26542129\">60 points</span> by <a href=\"user?id=mariuz\" class=\"hnuser\">mariuz</a> <span class=\"age\"><a href=\"item?id=26542129\">4 hours ago</a></span> <span id=\"unv_26542129\"></span> | <a href=\"hide?id=26542129&amp;goto=news\">hide</a> | <a href=\"item?id=26542129\">8&nbsp;comments</a>              </td></tr>\\n      <tr class=\"spacer\" style=\"height:5px\"></tr>\\n                <tr class=\\'athing\\' id=\\'26544762\\'>\\n      <td align=\"right\" valign=\"top\" class=\"title\"><span class=\"rank\">20.</span></td>      <td valign=\"top\" class=\"votelinks\"><center><a id=\\'up_26544762\\' href=\\'vote?id=26544762&amp;how=up&amp;goto=news\\'><div class=\\'votearrow\\' title=\\'upvote\\'></div></a></center></td><td class=\"title\"><a href=\"https://joindistributed.com\" class=\"storylink\">Show HN: Distributed \\xe2\\x80\\x93 Live social chat app to help remote teams stay in sync</a><span class=\"sitebit comhead\"> (<a href=\"from?site=joindistributed.com\"><span class=\"sitestr\">joindistributed.com</span></a>)</span></td></tr><tr><td colspan=\"2\"></td><td class=\"subtext\">\\n        <span class=\"score\" id=\"score_26544762\">12 points</span> by <a href=\"user?id=asim\" class=\"hnuser\">asim</a> <span class=\"age\"><a href=\"item?id=26544762\">1 hour ago</a></span> <span id=\"unv_26544762\"></span> | <a href=\"hide?id=26544762&amp;goto=news\">hide</a> | <a href=\"item?id=26544762\">1&nbsp;comment</a>              </td></tr>\\n      <tr class=\"spacer\" style=\"height:5px\"></tr>\\n                <tr class=\\'athing\\' id=\\'26543731\\'>\\n      <td align=\"right\" valign=\"top\" class=\"title\"><span class=\"rank\">21.</span></td>      <td valign=\"top\" class=\"votelinks\"><center><a id=\\'up_26543731\\' href=\\'vote?id=26543731&amp;how=up&amp;goto=news\\'><div class=\\'votearrow\\' title=\\'upvote\\'></div></a></center></td><td class=\"title\"><a href=\"https://sparktoro.com/blog/in-2020-two-thirds-of-google-searches-ended-without-a-click/\" class=\"storylink\">In 2020, two thirds of Google searches ended without a click</a><span class=\"sitebit comhead\"> (<a href=\"from?site=sparktoro.com\"><span class=\"sitestr\">sparktoro.com</span></a>)</span></td></tr><tr><td colspan=\"2\"></td><td class=\"subtext\">\\n        <span class=\"score\" id=\"score_26543731\">187 points</span> by <a href=\"user?id=randfish\" class=\"hnuser\">randfish</a> <span class=\"age\"><a href=\"item?id=26543731\">3 hours ago</a></span> <span id=\"unv_26543731\"></span> | <a href=\"hide?id=26543731&amp;goto=news\">hide</a> | <a href=\"item?id=26543731\">237&nbsp;comments</a>              </td></tr>\\n      <tr class=\"spacer\" style=\"height:5px\"></tr>\\n                <tr class=\\'athing\\' id=\\'26543527\\'>\\n      <td align=\"right\" valign=\"top\" class=\"title\"><span class=\"rank\">22.</span></td>      <td valign=\"top\" class=\"votelinks\"><center><a id=\\'up_26543527\\' href=\\'vote?id=26543527&amp;how=up&amp;goto=news\\'><div class=\\'votearrow\\' title=\\'upvote\\'></div></a></center></td><td class=\"title\"><a href=\"https://livingafi.com/2021/03/17/the-2021-early-retirement-update/\" class=\"storylink\">Early-Retirement Update</a><span class=\"sitebit comhead\"> (<a href=\"from?site=livingafi.com\"><span class=\"sitestr\">livingafi.com</span></a>)</span></td></tr><tr><td colspan=\"2\"></td><td class=\"subtext\">\\n        <span class=\"score\" id=\"score_26543527\">215 points</span> by <a href=\"user?id=dkarp\" class=\"hnuser\">dkarp</a> <span class=\"age\"><a href=\"item?id=26543527\">3 hours ago</a></span> <span id=\"unv_26543527\"></span> | <a href=\"hide?id=26543527&amp;goto=news\">hide</a> | <a href=\"item?id=26543527\">212&nbsp;comments</a>              </td></tr>\\n      <tr class=\"spacer\" style=\"height:5px\"></tr>\\n                <tr class=\\'athing\\' id=\\'26540737\\'>\\n      <td align=\"right\" valign=\"top\" class=\"title\"><span class=\"rank\">23.</span></td>      <td valign=\"top\" class=\"votelinks\"><center><a id=\\'up_26540737\\' href=\\'vote?id=26540737&amp;how=up&amp;goto=news\\'><div class=\\'votearrow\\' title=\\'upvote\\'></div></a></center></td><td class=\"title\"><a href=\"https://journals.plos.org/plosone/article?id=10.1371/journal.pone.0247820\" class=\"storylink\">Red seaweed supplementation reduces enteric methane by over 80% in beef steers</a><span class=\"sitebit comhead\"> (<a href=\"from?site=plos.org\"><span class=\"sitestr\">plos.org</span></a>)</span></td></tr><tr><td colspan=\"2\"></td><td class=\"subtext\">\\n        <span class=\"score\" id=\"score_26540737\">210 points</span> by <a href=\"user?id=giuliomagnifico\" class=\"hnuser\">giuliomagnifico</a> <span class=\"age\"><a href=\"item?id=26540737\">6 hours ago</a></span> <span id=\"unv_26540737\"></span> | <a href=\"hide?id=26540737&amp;goto=news\">hide</a> | <a href=\"item?id=26540737\">252&nbsp;comments</a>              </td></tr>\\n      <tr class=\"spacer\" style=\"height:5px\"></tr>\\n                <tr class=\\'athing\\' id=\\'26534538\\'>\\n      <td align=\"right\" valign=\"top\" class=\"title\"><span class=\"rank\">24.</span></td>      <td valign=\"top\" class=\"votelinks\"><center><a id=\\'up_26534538\\' href=\\'vote?id=26534538&amp;how=up&amp;goto=news\\'><div class=\\'votearrow\\' title=\\'upvote\\'></div></a></center></td><td class=\"title\"><a href=\"https://systems-souls-society.com/finding-virtue-in-the-virtual/\" class=\"storylink\" rel=\"nofollow\">Finding Virtue in the Virtual</a><span class=\"sitebit comhead\"> (<a href=\"from?site=systems-souls-society.com\"><span class=\"sitestr\">systems-souls-society.com</span></a>)</span></td></tr><tr><td colspan=\"2\"></td><td class=\"subtext\">\\n        <span class=\"score\" id=\"score_26534538\">4 points</span> by <a href=\"user?id=freddyym\" class=\"hnuser\">freddyym</a> <span class=\"age\"><a href=\"item?id=26534538\">1 hour ago</a></span> <span id=\"unv_26534538\"></span> | <a href=\"hide?id=26534538&amp;goto=news\">hide</a> | <a href=\"item?id=26534538\">discuss</a>              </td></tr>\\n      <tr class=\"spacer\" style=\"height:5px\"></tr>\\n                <tr class=\\'athing\\' id=\\'26545162\\'>\\n      <td align=\"right\" valign=\"top\" class=\"title\"><span class=\"rank\">25.</span></td>      <td valign=\"top\" class=\"votelinks\"><center><a id=\\'up_26545162\\' href=\\'vote?id=26545162&amp;how=up&amp;goto=news\\'><div class=\\'votearrow\\' title=\\'upvote\\'></div></a></center></td><td class=\"title\"><a href=\"https://www.washingtonpost.com/opinions/2021/03/22/rents-rich-are-plummeting-rents-poor-are-rising-why/\" class=\"storylink\">Rents for the rich are plummeting. Rents for the poor are rising. Why?</a><span class=\"sitebit comhead\"> (<a href=\"from?site=washingtonpost.com\"><span class=\"sitestr\">washingtonpost.com</span></a>)</span></td></tr><tr><td colspan=\"2\"></td><td class=\"subtext\">\\n        <span class=\"score\" id=\"score_26545162\">23 points</span> by <a href=\"user?id=ece\" class=\"hnuser\">ece</a> <span class=\"age\"><a href=\"item?id=26545162\">1 hour ago</a></span> <span id=\"unv_26545162\"></span> | <a href=\"hide?id=26545162&amp;goto=news\">hide</a> | <a href=\"item?id=26545162\">4&nbsp;comments</a>              </td></tr>\\n      <tr class=\"spacer\" style=\"height:5px\"></tr>\\n                <tr class=\\'athing\\' id=\\'26543853\\'>\\n      <td align=\"right\" valign=\"top\" class=\"title\"><span class=\"rank\">26.</span></td>      <td valign=\"top\" class=\"votelinks\"><center><a id=\\'up_26543853\\' href=\\'vote?id=26543853&amp;how=up&amp;goto=news\\'><div class=\\'votearrow\\' title=\\'upvote\\'></div></a></center></td><td class=\"title\"><a href=\"https://arstechnica.com/science/2021/03/european-leaders-say-an-immediate-response-needed-to-the-rise-of-spacex/\" class=\"storylink\">Concern in Europe that the Ariane 6 and Vega-C rockets will not be competitive</a><span class=\"sitebit comhead\"> (<a href=\"from?site=arstechnica.com\"><span class=\"sitestr\">arstechnica.com</span></a>)</span></td></tr><tr><td colspan=\"2\"></td><td class=\"subtext\">\\n        <span class=\"score\" id=\"score_26543853\">40 points</span> by <a href=\"user?id=tosh\" class=\"hnuser\">tosh</a> <span class=\"age\"><a href=\"item?id=26543853\">2 hours ago</a></span> <span id=\"unv_26543853\"></span> | <a href=\"hide?id=26543853&amp;goto=news\">hide</a> | <a href=\"item?id=26543853\">85&nbsp;comments</a>              </td></tr>\\n      <tr class=\"spacer\" style=\"height:5px\"></tr>\\n                <tr class=\\'athing\\' id=\\'26539292\\'>\\n      <td align=\"right\" valign=\"top\" class=\"title\"><span class=\"rank\">27.</span></td>      <td valign=\"top\" class=\"votelinks\"><center><a id=\\'up_26539292\\' href=\\'vote?id=26539292&amp;how=up&amp;goto=news\\'><div class=\\'votearrow\\' title=\\'upvote\\'></div></a></center></td><td class=\"title\"><a href=\"https://fedidb.org/\" class=\"storylink\">FediDB \\xe2\\x80\\x93 Developer Tools for ActivityPub</a><span class=\"sitebit comhead\"> (<a href=\"from?site=fedidb.org\"><span class=\"sitestr\">fedidb.org</span></a>)</span></td></tr><tr><td colspan=\"2\"></td><td class=\"subtext\">\\n        <span class=\"score\" id=\"score_26539292\">88 points</span> by <a href=\"user?id=LaSombra\" class=\"hnuser\">LaSombra</a> <span class=\"age\"><a href=\"item?id=26539292\">9 hours ago</a></span> <span id=\"unv_26539292\"></span> | <a href=\"hide?id=26539292&amp;goto=news\">hide</a> | <a href=\"item?id=26539292\">30&nbsp;comments</a>              </td></tr>\\n      <tr class=\"spacer\" style=\"height:5px\"></tr>\\n                <tr class=\\'athing\\' id=\\'26540121\\'>\\n      <td align=\"right\" valign=\"top\" class=\"title\"><span class=\"rank\">28.</span></td>      <td valign=\"top\" class=\"votelinks\"><center><a id=\\'up_26540121\\' href=\\'vote?id=26540121&amp;how=up&amp;goto=news\\'><div class=\\'votearrow\\' title=\\'upvote\\'></div></a></center></td><td class=\"title\"><a href=\"https://henvic.dev/posts/go/\" class=\"storylink\">The ecosystem of the Go programming language</a><span class=\"sitebit comhead\"> (<a href=\"from?site=henvic.dev\"><span class=\"sitestr\">henvic.dev</span></a>)</span></td></tr><tr><td colspan=\"2\"></td><td class=\"subtext\">\\n        <span class=\"score\" id=\"score_26540121\">160 points</span> by <a href=\"user?id=henvic\" class=\"hnuser\">henvic</a> <span class=\"age\"><a href=\"item?id=26540121\">7 hours ago</a></span> <span id=\"unv_26540121\"></span> | <a href=\"hide?id=26540121&amp;goto=news\">hide</a> | <a href=\"item?id=26540121\">195&nbsp;comments</a>              </td></tr>\\n      <tr class=\"spacer\" style=\"height:5px\"></tr>\\n                <tr class=\\'athing\\' id=\\'26537693\\'>\\n      <td align=\"right\" valign=\"top\" class=\"title\"><span class=\"rank\">29.</span></td>      <td valign=\"top\" class=\"votelinks\"><center><a id=\\'up_26537693\\' href=\\'vote?id=26537693&amp;how=up&amp;goto=news\\'><div class=\\'votearrow\\' title=\\'upvote\\'></div></a></center></td><td class=\"title\"><a href=\"https://scattered-thoughts.net/writing/how-safe-is-zig/\" class=\"storylink\">How Safe Is Zig?</a><span class=\"sitebit comhead\"> (<a href=\"from?site=scattered-thoughts.net\"><span class=\"sitestr\">scattered-thoughts.net</span></a>)</span></td></tr><tr><td colspan=\"2\"></td><td class=\"subtext\">\\n        <span class=\"score\" id=\"score_26537693\">154 points</span> by <a href=\"user?id=bshanks\" class=\"hnuser\">bshanks</a> <span class=\"age\"><a href=\"item?id=26537693\">13 hours ago</a></span> <span id=\"unv_26537693\"></span> | <a href=\"hide?id=26537693&amp;goto=news\">hide</a> | <a href=\"item?id=26537693\">206&nbsp;comments</a>              </td></tr>\\n      <tr class=\"spacer\" style=\"height:5px\"></tr>\\n                <tr class=\\'athing\\' id=\\'26528844\\'>\\n      <td align=\"right\" valign=\"top\" class=\"title\"><span class=\"rank\">30.</span></td>      <td valign=\"top\" class=\"votelinks\"><center><a id=\\'up_26528844\\' href=\\'vote?id=26528844&amp;how=up&amp;goto=news\\'><div class=\\'votearrow\\' title=\\'upvote\\'></div></a></center></td><td class=\"title\"><a href=\"https://lynceans.org/all-posts/compact-mobile-3d-scanning-systems-that-can-render-a-complete-editable-3d-model-in-minutes/\" class=\"storylink\">3D Scanning Systems That Can Render a Complete, Editable 3D Model in Minutes</a><span class=\"sitebit comhead\"> (<a href=\"from?site=lynceans.org\"><span class=\"sitestr\">lynceans.org</span></a>)</span></td></tr><tr><td colspan=\"2\"></td><td class=\"subtext\">\\n        <span class=\"score\" id=\"score_26528844\">17 points</span> by <a href=\"user?id=simonebrunozzi\" class=\"hnuser\">simonebrunozzi</a> <span class=\"age\"><a href=\"item?id=26528844\">3 hours ago</a></span> <span id=\"unv_26528844\"></span> | <a href=\"hide?id=26528844&amp;goto=news\">hide</a> | <a href=\"item?id=26528844\">14&nbsp;comments</a>              </td></tr>\\n      <tr class=\"spacer\" style=\"height:5px\"></tr>\\n            <tr class=\"morespace\" style=\"height:10px\"></tr><tr><td colspan=\"2\"></td><td class=\"title\"><a href=\"news?p=2\" class=\"morelink\" rel=\"next\">More</a></td></tr>\\n  </table>\\n</td></tr>\\n<tr><td><img src=\"s.gif\" height=\"10\" width=\"0\"><table width=\"100%\" cellspacing=\"0\" cellpadding=\"1\"><tr><td bgcolor=\"#ff6600\"></td></tr></table><br><center><span class=\"yclinks\"><a href=\"newsguidelines.html\">Guidelines</a>\\n        | <a href=\"newsfaq.html\">FAQ</a>\\n        | <a href=\"lists\">Lists</a>\\n        | <a href=\"https://github.com/HackerNews/API\">API</a>\\n        | <a href=\"security.html\">Security</a>\\n        | <a href=\"http://www.ycombinator.com/legal/\">Legal</a>\\n        | <a href=\"http://www.ycombinator.com/apply/\">Apply to YC</a>\\n        | <a href=\"mailto:hn@ycombinator.com\">Contact</a></span><br><br><form method=\"get\" action=\"//hn.algolia.com/\">Search:\\n          <input type=\"text\" name=\"q\" value=\"\" size=\"17\" autocorrect=\"off\" spellcheck=\"false\" autocapitalize=\"off\" autocomplete=\"false\"></form>\\n            </center></td></tr>\\n      </table></center></body><script type=\\'text/javascript\\' src=\\'hn.js?i2jJa1t672WDkJCHK5cZ\\'></script></html>\\n'"
      ]
     },
     "execution_count": 41,
     "metadata": {},
     "output_type": "execute_result"
    }
   ],
   "source": [
    "res.content"
   ]
  },
  {
   "cell_type": "markdown",
   "metadata": {},
   "source": [
    "### Exercise\n",
    "Create a class called `HackerNewsScraper` that defines a class_level attribute `url` and has a `scrape` method that simply makes a request to the url and returns the content."
   ]
  },
  {
   "cell_type": "code",
   "execution_count": 5,
   "metadata": {},
   "outputs": [],
   "source": [
    "class HackerNewsScraper():\n",
    "    url = 'https://news.ycombinator.com/'\n",
    "    \n",
    "    def scrape(self):\n",
    "        # IMPLEMENT\n",
    "        pass"
   ]
  },
  {
   "cell_type": "code",
   "execution_count": 46,
   "metadata": {},
   "outputs": [],
   "source": [
    "# HackerNewsScraper().scrape()"
   ]
  },
  {
   "cell_type": "code",
   "execution_count": null,
   "metadata": {},
   "outputs": [],
   "source": []
  },
  {
   "cell_type": "markdown",
   "metadata": {},
   "source": [
    "### Exercise\n",
    "Create a metaclass `ScraperMeta` that checks if `url` is in the `dct` namespace and if it's not there, it should raise an `Exception`"
   ]
  },
  {
   "cell_type": "code",
   "execution_count": 6,
   "metadata": {},
   "outputs": [],
   "source": [
    "class ScraperMeta(type):\n",
    "    def __new__(cls, name, bases, dct):\n",
    "        x = super().__new__(cls, name, bases, dct)\n",
    "        # IMPLEMENT SOME LOGIC\n",
    "        return x"
   ]
  },
  {
   "cell_type": "code",
   "execution_count": 7,
   "metadata": {},
   "outputs": [],
   "source": [
    "# class HackerNewsScraper(metaclass=ScraperMeta):    \n",
    "#     def scrape(self):\n",
    "#         return requests.get(HackerNewsScraper.url).content"
   ]
  },
  {
   "cell_type": "markdown",
   "metadata": {},
   "source": [
    "### Exercise.\n",
    "Define `HackerNewsScraper` **without** the `url` and see what happens, using the meta class"
   ]
  },
  {
   "cell_type": "code",
   "execution_count": null,
   "metadata": {},
   "outputs": [],
   "source": []
  },
  {
   "cell_type": "markdown",
   "metadata": {},
   "source": [
    "## `__call__` and `__new__`"
   ]
  },
  {
   "cell_type": "code",
   "execution_count": 54,
   "metadata": {},
   "outputs": [],
   "source": [
    "class Bar():\n",
    "    def __init__(self):\n",
    "        print(\"Instance created!\")\n",
    "\n",
    "    def __call__(self):\n",
    "        print(\"Instance called via special method\")"
   ]
  },
  {
   "cell_type": "code",
   "execution_count": 57,
   "metadata": {},
   "outputs": [
    {
     "name": "stdout",
     "output_type": "stream",
     "text": [
      "Instance created!\n"
     ]
    }
   ],
   "source": [
    "bar = Bar()"
   ]
  },
  {
   "cell_type": "code",
   "execution_count": 58,
   "metadata": {},
   "outputs": [
    {
     "name": "stdout",
     "output_type": "stream",
     "text": [
      "Instance called via special method\n"
     ]
    }
   ],
   "source": [
    "bar()"
   ]
  },
  {
   "cell_type": "markdown",
   "metadata": {},
   "source": [
    "### What is going on here?\n",
    "Let's generalize the above.\n",
    "\n",
    "1. On the metaclass, `__new__` results in the creation of the class. \n",
    "2. The `__call__` on the metaclass is called whenever the class is called for instantiation."
   ]
  },
  {
   "cell_type": "code",
   "execution_count": 59,
   "metadata": {},
   "outputs": [],
   "source": [
    "class BarMeta(type):\n",
    "    def __call__(cls):\n",
    "        print(\"Whoa! We are in __call__ of BarMeta\")\n",
    "        super().__call__()\n",
    "\n",
    "    def __new__(cls, *args):\n",
    "        print(\"Calling __new__ of BarMeta!\")\n",
    "        return super().__new__(cls, *args)"
   ]
  },
  {
   "cell_type": "code",
   "execution_count": 8,
   "metadata": {},
   "outputs": [],
   "source": [
    "# class Bar(metaclass=BarMeta):\n",
    "#     def __init__(self):\n",
    "#         print(\"In __init__ of Bar!\")"
   ]
  },
  {
   "cell_type": "code",
   "execution_count": 9,
   "metadata": {},
   "outputs": [],
   "source": [
    "# Bar()"
   ]
  },
  {
   "cell_type": "markdown",
   "metadata": {},
   "source": [
    "## Use Case 2: Singleton"
   ]
  },
  {
   "cell_type": "markdown",
   "metadata": {},
   "source": [
    "```python\n",
    "class SingletonA(metaclass=SingletonMeta):\n",
    "    pass\n",
    "\n",
    ">>> A = SingletonA()\n",
    ">>> B = SingletonA()\n",
    ">>> # A is B. \n",
    "```"
   ]
  },
  {
   "cell_type": "code",
   "execution_count": 62,
   "metadata": {},
   "outputs": [],
   "source": [
    "class Car:\n",
    "    pass\n",
    "\n"
   ]
  },
  {
   "cell_type": "code",
   "execution_count": 63,
   "metadata": {},
   "outputs": [],
   "source": [
    "bmw = Car()\n",
    "honda = Car()"
   ]
  },
  {
   "cell_type": "code",
   "execution_count": 66,
   "metadata": {},
   "outputs": [
    {
     "data": {
      "text/plain": [
       "False"
      ]
     },
     "execution_count": 66,
     "metadata": {},
     "output_type": "execute_result"
    }
   ],
   "source": [
    "bmw is honda"
   ]
  },
  {
   "cell_type": "markdown",
   "metadata": {},
   "source": [
    "Examine the logic below"
   ]
  },
  {
   "cell_type": "code",
   "execution_count": 91,
   "metadata": {},
   "outputs": [],
   "source": [
    "class SingletonMeta(type):\n",
    "    _instance_map = {}\n",
    "\n",
    "    def __call__(cls):\n",
    "        if cls not in SingletonMeta._instance_map:\n",
    "            SingletonMeta._instance_map[cls] = super().__call__()\n",
    "        else:\n",
    "            print(\"Is fetching from storage\")\n",
    "        return SingletonMeta._instance_map[cls]"
   ]
  },
  {
   "cell_type": "code",
   "execution_count": 92,
   "metadata": {},
   "outputs": [],
   "source": []
  },
  {
   "cell_type": "code",
   "execution_count": 93,
   "metadata": {},
   "outputs": [],
   "source": []
  },
  {
   "cell_type": "code",
   "execution_count": 94,
   "metadata": {},
   "outputs": [
    {
     "name": "stdout",
     "output_type": "stream",
     "text": [
      "Is fetching from storage\n"
     ]
    }
   ],
   "source": []
  },
  {
   "cell_type": "code",
   "execution_count": 95,
   "metadata": {},
   "outputs": [
    {
     "data": {
      "text/plain": [
       "True"
      ]
     },
     "execution_count": 95,
     "metadata": {},
     "output_type": "execute_result"
    }
   ],
   "source": [
    "a is b"
   ]
  },
  {
   "cell_type": "code",
   "execution_count": 96,
   "metadata": {},
   "outputs": [
    {
     "name": "stdout",
     "output_type": "stream",
     "text": [
      "Is fetching from storage\n"
     ]
    }
   ],
   "source": [
    "c = SingletonA()"
   ]
  },
  {
   "cell_type": "code",
   "execution_count": 97,
   "metadata": {},
   "outputs": [
    {
     "data": {
      "text/plain": [
       "True"
      ]
     },
     "execution_count": 97,
     "metadata": {},
     "output_type": "execute_result"
    }
   ],
   "source": [
    "c is b"
   ]
  },
  {
   "cell_type": "markdown",
   "metadata": {},
   "source": [
    "## (Optional) Lab: Registry\n",
    "Use metaclasses so that any class that uses `AnimalMeta` tracks all the classes in a global `class_registry`."
   ]
  },
  {
   "cell_type": "code",
   "execution_count": null,
   "metadata": {},
   "outputs": [],
   "source": []
  }
 ],
 "metadata": {
  "kernelspec": {
   "display_name": "Python 3",
   "language": "python",
   "name": "python3"
  },
  "language_info": {
   "codemirror_mode": {
    "name": "ipython",
    "version": 3
   },
   "file_extension": ".py",
   "mimetype": "text/x-python",
   "name": "python",
   "nbconvert_exporter": "python",
   "pygments_lexer": "ipython3",
   "version": "3.8.5"
  }
 },
 "nbformat": 4,
 "nbformat_minor": 4
}
