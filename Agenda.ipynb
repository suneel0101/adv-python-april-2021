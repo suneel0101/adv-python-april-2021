{
 "cells": [
  {
   "cell_type": "markdown",
   "metadata": {},
   "source": [
    "# Agenda for Advanced Python\n",
    "## Day 1\n",
    "1. Review key intermediate Python concepts\n",
    "2. Decorators\n",
    "3. Iterators & Generators\n",
    "4. Virtualenv & Packaging and using setup tools\n",
    "5. Python DB setup & Lab\n",
    "6. (Optional) Metaprogramming\n",
    "\n",
    "## Day 2\n",
    "2. Python with MySQL database\n",
    "3. Python and Mongo\n",
    "4. Bottle Web Framework\n",
    "5. Email handling\n",
    "6. HTML and XML parsing\n",
    "7. Django\n",
    "8. Lab\n",
    "\n",
    "## Day 3\n",
    "1. Socket Programming\n",
    "2. Web programming: urllib and WSGI\n",
    "5. Co-routines\n",
    "6. Processing pipelines\n",
    "7. Event streams\n",
    "5. dispy\n",
    "6. asyncoro\n",
    "7. Final Lab"
   ]
  }
 ],
 "metadata": {
  "kernelspec": {
   "display_name": "Python 3",
   "language": "python",
   "name": "python3"
  },
  "language_info": {
   "codemirror_mode": {
    "name": "ipython",
    "version": 3
   },
   "file_extension": ".py",
   "mimetype": "text/x-python",
   "name": "python",
   "nbconvert_exporter": "python",
   "pygments_lexer": "ipython3",
   "version": "3.8.5"
  }
 },
 "nbformat": 4,
 "nbformat_minor": 4
}
