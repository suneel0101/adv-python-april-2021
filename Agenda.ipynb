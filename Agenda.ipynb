{
 "cells": [
  {
   "cell_type": "markdown",
   "metadata": {},
   "source": [
    "# Agenda for Advanced Python\n",
    "## Day 1\n",
    "1. [DONE] Review key intermediate Python concepts\n",
    "2. [DONE] Decorators\n",
    "3. [DONE] Iterators & Generators\n",
    "5. [DONE] Python DB setup & Lab\n",
    "\n",
    "## Day 2\n",
    "1. [2 hrs] Virtualenv & Packaging and using setup tools\n",
    "2. [1 hr] Bottle Web Framework\n",
    "3. [1.5 hrs] HTML parsing\n",
    "4. [1.5 hrs] Testing\n",
    "5. Email handling\n",
    "6. Intro to Django\n",
    "7. (Optional) Metaprogramming\n",
    "\n",
    "## Day 3\n",
    "1. Django\n",
    "2. Socket Programming\n",
    "3. Web programming: urllib and WSGI\n",
    "4. Co-routines\n",
    "5. Processing pipelines\n",
    "6. Event streams\n",
    "5. (Optional) dispy\n",
    "6. (Optional) asyncoro\n",
    "7. (Optional) Python and Mongo\n",
    "7. (Optional) Final Lab"
   ]
  },
  {
   "cell_type": "code",
   "execution_count": null,
   "metadata": {},
   "outputs": [],
   "source": []
  }
 ],
 "metadata": {
  "kernelspec": {
   "display_name": "Python 3",
   "language": "python",
   "name": "python3"
  },
  "language_info": {
   "codemirror_mode": {
    "name": "ipython",
    "version": 3
   },
   "file_extension": ".py",
   "mimetype": "text/x-python",
   "name": "python",
   "nbconvert_exporter": "python",
   "pygments_lexer": "ipython3",
   "version": "3.8.5"
  }
 },
 "nbformat": 4,
 "nbformat_minor": 4
}
